{
  "nbformat": 4,
  "nbformat_minor": 0,
  "metadata": {
    "colab": {
      "provenance": []
    },
    "kernelspec": {
      "name": "python3",
      "display_name": "Python 3"
    },
    "language_info": {
      "name": "python"
    }
  },
  "cells": [
    {
      "cell_type": "code",
      "execution_count": 2,
      "metadata": {
        "id": "52e3zI9y5z6w"
      },
      "outputs": [],
      "source": [
        "import pickle\n",
        "import matplotlib.pyplot as plt\n",
        "import itertools\n",
        "from sklearn import preprocessing\n",
        "from sklearn.preprocessing import Normalizer\n",
        "import numpy as np\n",
        "import matplotlib.pyplot as plt\n",
        "import numpy as np\n",
        "\n",
        "import tensorflow as tf\n",
        "#import keras.api._v2.keras as keras\n",
        "#from tensorflow.keras import datasets, layers, models, regularizers"
      ]
    },
    {
      "cell_type": "code",
      "source": [
        "mnist = tf.keras.datasets.mnist\n",
        "(X_train, Y_train), (X_test, Y_test) = mnist.load_data()"
      ],
      "metadata": {
        "id": "g0AEdcly6WF-"
      },
      "execution_count": 3,
      "outputs": []
    },
    {
      "cell_type": "code",
      "source": [
        "import numpy as np\n",
        "import json\n",
        "import pandas as pd\n",
        "\n",
        "def format_img_fpga(img):\n",
        "    \"\"\"\n",
        "    MNSIT\n",
        "    \"\"\"\n",
        "\n",
        "    if img.shape != (28, 28):\n",
        "      raise Exception('Wrong image shape')\n",
        "    fpga_img = img.flatten().reshape(1, -1)\n",
        "    fpga_img=np.concatenate((fpga_img, np.zeros((1, 1), dtype=fpga_img.dtype)), axis=1)\n",
        "    return fpga_img"
      ],
      "metadata": {
        "id": "-cCRQm8civdS"
      },
      "execution_count": 4,
      "outputs": []
    },
    {
      "cell_type": "code",
      "source": [
        "#index_numero=3 #UN 0\n",
        "#index_numero=1030 #UN 1\n",
        "#index_numero=1 #UN 2\n",
        "#index_numero=5000 #UN 3\n",
        "#index_numero=9997 #UN 4\n",
        "#index_numero=751 #UN 5\n",
        "#index_numero=3000#UN 6\n",
        "#index_numero=9000 #UN 7\n",
        "index_numero=6070 #UN 8\n",
        "#index_numero=3075#UN 9\n",
        "Numero=X_test[index_numero]\n",
        "plt.title(Y_test[index_numero])\n",
        "plt.imshow(Numero,cmap='gray') #display sample training image\n",
        "plt.show()"
      ],
      "metadata": {
        "id": "BuZyl9b-6fgG"
      },
      "execution_count": null,
      "outputs": []
    },
    {
      "cell_type": "code",
      "source": [
        "Numero\n",
        "print(Numero)"
      ],
      "metadata": {
        "colab": {
          "base_uri": "https://localhost:8080/"
        },
        "id": "kaGr8AU-7PNu",
        "outputId": "26ed9bd6-833d-451b-8130-5bc926c540bf",
        "collapsed": true
      },
      "execution_count": null,
      "outputs": [
        {
          "output_type": "stream",
          "name": "stdout",
          "text": [
            "[[  0   0   0   0   0   0   0   0   0   0   0   0   0   0   0   0   0   0\n",
            "    0   0   0   0   0   0   0   0   0   0]\n",
            " [  0   0   0   0   0   0   0   0   0   0   0   0   0   0   0   0   0   0\n",
            "    0   0   0   0   0   0   0   0   0   0]\n",
            " [  0   0   0   0   0   0   0   0   0   0   0   0   0   0   0   0   0   0\n",
            "    0   0   0   0   0   0   0   0   0   0]\n",
            " [  0   0   0   0   0   0   0   0   0   0   0   0   0   0   0   0   0   0\n",
            "    0   0   0   0   0   0   0   0   0   0]\n",
            " [  0   0   0   0   0   0   0   0   0   0   0   0  29 158 194 222 131 131\n",
            "   28   4   0   0   0   0   0   0   0   0]\n",
            " [  0   0   0   0   0   0   0   0   0   0   2  96 218 254 254 254 254 254\n",
            "  254 211  23   0   0   0   0   0   0   0]\n",
            " [  0   0   0   0   0   0   0   0   0  27 160 254 254 254 254 254 254 254\n",
            "  254 254 211  14   0   0   0   0   0   0]\n",
            " [  0   0   0   0   0   0   0   0   0 156 254 254 254 254 254 236 131 105\n",
            "  217 254 254 108   2   0   0   0   0   0]\n",
            " [  0   0   0   0   0   0   0   0   0 156 254 254 254 254 232  54   0   0\n",
            "   34 217 254 254  18   0   0   0   0   0]\n",
            " [  0   0   0   0   0   0   0   0   4 170 254 254 254 200  25   0   0   0\n",
            "    0  94 254 254  98   0   0   0   0   0]\n",
            " [  0   0   0   0   0   0   0   0  21 238 254 254 230  38   0   0   0   0\n",
            "   37 182 254 254 142   0   0   0   0   0]\n",
            " [  0   0   0   0   0   0   0   0   0 156 254 254 254 170  50  50  87 174\n",
            "  241 254 254 254 118   0   0   0   0   0]\n",
            " [  0   0   0   0   0   0   0   0   0 156 254 254 254 254 254 254 254 254\n",
            "  254 254 254 151   6   0   0   0   0   0]\n",
            " [  0   0   0   0   0   0   0   0   0 118 232 254 254 254 254 254 254 254\n",
            "  254 254 230  18   0   0   0   0   0   0]\n",
            " [  0   0   0   0   0   0   0   0   0  58 232 254 254 254 254 254 254 254\n",
            "  254 254 181   7   0   0   0   0   0   0]\n",
            " [  0   0   0   0   0   0   0   0  57 233 254 254 254 254 254 254 254 231\n",
            "  242 254 254  24   0   0   0   0   0   0]\n",
            " [  0   0   0   0   0   0   0   6 183 254 254 254 254 254 254 254 231  58\n",
            "  112 254 254 158   6   0   0   0   0   0]\n",
            " [  0   0   0   0   0   0   0  19 254 254 254 254 254 254 254 188  57   0\n",
            "   45 237 254 218  12   0   0   0   0   0]\n",
            " [  0   0   0   0   0   0   0  19 254 254 254 254 190 133  37   9   0   0\n",
            "  194 254 254 148   0   0   0   0   0   0]\n",
            " [  0   0   0   0   0   0   0  81 254 254 254 233  41   0   0   0  79 201\n",
            "  249 254 254  39   0   0   0   0   0   0]\n",
            " [  0   0   0   0   0   0   0  11 211 254 254 254 238 231 231 231 249 254\n",
            "  254 254 254  24   0   0   0   0   0   0]\n",
            " [  0   0   0   0   0   0   0   0  95 254 254 254 254 254 254 254 254 254\n",
            "  254 213  94   2   0   0   0   0   0   0]\n",
            " [  0   0   0   0   0   0   0   0   2 103 254 254 254 254 254 254 254 217\n",
            "  136  25   0   0   0   0   0   0   0   0]\n",
            " [  0   0   0   0   0   0   0   0   0   1  85 212 255 254 254 160  94   4\n",
            "    0   0   0   0   0   0   0   0   0   0]\n",
            " [  0   0   0   0   0   0   0   0   0   0   0   0   0   0   0   0   0   0\n",
            "    0   0   0   0   0   0   0   0   0   0]\n",
            " [  0   0   0   0   0   0   0   0   0   0   0   0   0   0   0   0   0   0\n",
            "    0   0   0   0   0   0   0   0   0   0]\n",
            " [  0   0   0   0   0   0   0   0   0   0   0   0   0   0   0   0   0   0\n",
            "    0   0   0   0   0   0   0   0   0   0]\n",
            " [  0   0   0   0   0   0   0   0   0   0   0   0   0   0   0   0   0   0\n",
            "    0   0   0   0   0   0   0   0   0   0]]\n"
          ]
        }
      ]
    },
    {
      "cell_type": "code",
      "source": [
        "image_selected=Numero.flatten()\n",
        "print(image_selected)\n",
        "ver_valor=image_selected[148]\n",
        "print(ver_valor)\n",
        "dimensiones=image_selected.shape\n",
        "print(dimensiones)"
      ],
      "metadata": {
        "colab": {
          "base_uri": "https://localhost:8080/"
        },
        "id": "XvOD-yMj6s2O",
        "outputId": "025a882a-31f8-4b6f-ab82-b529a3944f65",
        "collapsed": true
      },
      "execution_count": null,
      "outputs": [
        {
          "output_type": "stream",
          "name": "stdout",
          "text": [
            "[  0   0   0   0   0   0   0   0   0   0   0   0   0   0   0   0   0   0\n",
            "   0   0   0   0   0   0   0   0   0   0   0   0   0   0   0   0   0   0\n",
            "   0   0   0   0   0   0   0   0   0   0   0   0   0   0   0   0   0   0\n",
            "   0   0   0   0   0   0   0   0   0   0   0   0   0   0   0   0   0   0\n",
            "   0   0   0   0   0   0   0   0   0   0   0   0   0   0   0   0   0   0\n",
            "   0   0   0   0   0   0   0   0   0   0   0   0   0   0   0   0   0   0\n",
            "   0   0   0   0   0   0   0   0   0   0   0   0   0   0   0   0  29 158\n",
            " 194 222 131 131  28   4   0   0   0   0   0   0   0   0   0   0   0   0\n",
            "   0   0   0   0   0   0   2  96 218 254 254 254 254 254 254 211  23   0\n",
            "   0   0   0   0   0   0   0   0   0   0   0   0   0   0   0  27 160 254\n",
            " 254 254 254 254 254 254 254 254 211  14   0   0   0   0   0   0   0   0\n",
            "   0   0   0   0   0   0   0 156 254 254 254 254 254 236 131 105 217 254\n",
            " 254 108   2   0   0   0   0   0   0   0   0   0   0   0   0   0   0 156\n",
            " 254 254 254 254 232  54   0   0  34 217 254 254  18   0   0   0   0   0\n",
            "   0   0   0   0   0   0   0   0   4 170 254 254 254 200  25   0   0   0\n",
            "   0  94 254 254  98   0   0   0   0   0   0   0   0   0   0   0   0   0\n",
            "  21 238 254 254 230  38   0   0   0   0  37 182 254 254 142   0   0   0\n",
            "   0   0   0   0   0   0   0   0   0   0   0 156 254 254 254 170  50  50\n",
            "  87 174 241 254 254 254 118   0   0   0   0   0   0   0   0   0   0   0\n",
            "   0   0   0 156 254 254 254 254 254 254 254 254 254 254 254 151   6   0\n",
            "   0   0   0   0   0   0   0   0   0   0   0   0   0 118 232 254 254 254\n",
            " 254 254 254 254 254 254 230  18   0   0   0   0   0   0   0   0   0   0\n",
            "   0   0   0   0   0  58 232 254 254 254 254 254 254 254 254 254 181   7\n",
            "   0   0   0   0   0   0   0   0   0   0   0   0   0   0  57 233 254 254\n",
            " 254 254 254 254 254 231 242 254 254  24   0   0   0   0   0   0   0   0\n",
            "   0   0   0   0   0   6 183 254 254 254 254 254 254 254 231  58 112 254\n",
            " 254 158   6   0   0   0   0   0   0   0   0   0   0   0   0  19 254 254\n",
            " 254 254 254 254 254 188  57   0  45 237 254 218  12   0   0   0   0   0\n",
            "   0   0   0   0   0   0   0  19 254 254 254 254 190 133  37   9   0   0\n",
            " 194 254 254 148   0   0   0   0   0   0   0   0   0   0   0   0   0  81\n",
            " 254 254 254 233  41   0   0   0  79 201 249 254 254  39   0   0   0   0\n",
            "   0   0   0   0   0   0   0   0   0  11 211 254 254 254 238 231 231 231\n",
            " 249 254 254 254 254  24   0   0   0   0   0   0   0   0   0   0   0   0\n",
            "   0   0  95 254 254 254 254 254 254 254 254 254 254 213  94   2   0   0\n",
            "   0   0   0   0   0   0   0   0   0   0   0   0   2 103 254 254 254 254\n",
            " 254 254 254 217 136  25   0   0   0   0   0   0   0   0   0   0   0   0\n",
            "   0   0   0   0   0   1  85 212 255 254 254 160  94   4   0   0   0   0\n",
            "   0   0   0   0   0   0   0   0   0   0   0   0   0   0   0   0   0   0\n",
            "   0   0   0   0   0   0   0   0   0   0   0   0   0   0   0   0   0   0\n",
            "   0   0   0   0   0   0   0   0   0   0   0   0   0   0   0   0   0   0\n",
            "   0   0   0   0   0   0   0   0   0   0   0   0   0   0   0   0   0   0\n",
            "   0   0   0   0   0   0   0   0   0   0   0   0   0   0   0   0   0   0\n",
            "   0   0   0   0   0   0   0   0   0   0   0   0   0   0   0   0   0   0\n",
            "   0   0   0   0   0   0   0   0   0   0]\n",
            "0\n",
            "(784,)\n"
          ]
        }
      ]
    },
    {
      "cell_type": "code",
      "source": [
        "import numpy as np\n",
        "import json\n",
        "import pandas as pd\n",
        "\n",
        "def format_img_fpga(img):\n",
        "    \"\"\"\n",
        "    MNSIT\n",
        "    \"\"\"\n",
        "\n",
        "    if img.shape != (28, 28):\n",
        "      raise Exception('Wrong image shape')\n",
        "    fpga_img = img.flatten().reshape(1, -1)\n",
        "    fpga_img=np.concatenate((fpga_img, np.zeros((1, 1), dtype=fpga_img.dtype)), axis=1)\n",
        "    return fpga_img"
      ],
      "metadata": {
        "id": "mwtXwE9A7iFQ"
      },
      "execution_count": null,
      "outputs": []
    },
    {
      "cell_type": "code",
      "source": [
        "img = format_img_fpga(X_test[index_numero])\n",
        "print(img)\n",
        "with open('MNSIT_8_index_6070.bin', 'wb') as f:\n",
        "    f.write(img)"
      ],
      "metadata": {
        "id": "5qDuofDV9Ff8",
        "collapsed": true
      },
      "execution_count": null,
      "outputs": []
    },
    {
      "cell_type": "code",
      "source": [
        "ver_valor=img[148]\n",
        "print(ver_valor)\n",
        "dimensiones=img.shape\n",
        "print(dimensiones)"
      ],
      "metadata": {
        "id": "DxtZm5h8-cZd",
        "collapsed": true
      },
      "execution_count": null,
      "outputs": []
    },
    {
      "cell_type": "code",
      "source": [
        "img_orig=X_test[index_numero]\n",
        "img_orig = img_orig.flatten().reshape(1, -1)\n",
        "img_orig=np.concatenate((img_orig, np.zeros((1, 1), dtype=img_orig.dtype)), axis=1)\n",
        "dimensiones=img_orig.shape\n",
        "print(dimensiones)\n",
        "img_orig"
      ],
      "metadata": {
        "id": "zQbhBFtsENmw",
        "collapsed": true
      },
      "execution_count": null,
      "outputs": []
    },
    {
      "cell_type": "markdown",
      "source": [
        "SI SOLO QUIERES UN NÚMERO EN CONCRETO"
      ],
      "metadata": {
        "id": "btuDXayXqDjl"
      }
    },
    {
      "cell_type": "markdown",
      "source": [
        "EL CERO"
      ],
      "metadata": {
        "id": "9KTWW6OEDDys"
      }
    },
    {
      "cell_type": "code",
      "source": [
        "number_selected=0\n",
        "index_numero_concreto=90\n",
        "images_with_label_num = X_test[Y_test ==number_selected]\n",
        "labels_with_label_num = Y_test[Y_test == number_selected]\n",
        "Numero_concreto=images_with_label_num[index_numero_concreto]\n",
        "plt.title(labels_with_label_num[index_numero_concreto])\n",
        "plt.imshow(Numero_concreto,cmap='gray') #display sample training image\n",
        "plt.show()\n",
        "print(Numero_concreto)"
      ],
      "metadata": {
        "colab": {
          "base_uri": "https://localhost:8080/",
          "height": 1000
        },
        "id": "HMl7GufcDFed",
        "outputId": "69fe52dd-a501-40e5-aaed-3d7cba942724",
        "collapsed": true
      },
      "execution_count": 5,
      "outputs": [
        {
          "output_type": "display_data",
          "data": {
            "text/plain": [
              "<Figure size 640x480 with 1 Axes>"
            ],
            "image/png": "[encoded data removed]"
          },
          "metadata": {}
        },
        {
          "output_type": "stream",
          "name": "stdout",
          "text": [
            "[[  0   0   0   0   0   0   0   0   0   0   0   0   0   0   0   0   0   0\n",
            "    0   0   0   0   0   0   0   0   0   0]\n",
            " [  0   0   0   0   0   0   0   0   0   0   0   0   0   0   0   0   0   0\n",
            "    0   0   0   0   0   0   0   0   0   0]\n",
            " [  0   0   0   0   0   0   0   0   0   0   0   0   0   0   0   0   0   0\n",
            "    0   0   0   0   0   0   0   0   0   0]\n",
            " [  0   0   0   0   0   0   0   0   0   0   0   0   0   0   0   0   0   0\n",
            "    0   0   0   0   0   0   0   0   0   0]\n",
            " [  0   0   0   0   0   0   0   0   0   0   0   0   0   0   0   0   0   0\n",
            "    0   0   0   0   0   0   0   0   0   0]\n",
            " [  0   0   0   0   0   0   0   0   0   0   0   0   0   0   0   0   0   0\n",
            "    0   0   0   0   0   0   0   0   0   0]\n",
            " [  0   0   0   0   0   0   0   0   0   0   0   0  41 102 183 142 102  41\n",
            "    0   0   0   0   0   0   0   0   0   0]\n",
            " [  0   0   0   0   0   0   0   0   0  11  92 254 253 254 253 254 253 254\n",
            "  172  52  10   0   0   0   0   0   0   0]\n",
            " [  0   0   0   0   0   0   0   0   0 132 252 253 252 253 252 253 252 253\n",
            "  252 253 212  41   0   0   0   0   0   0]\n",
            " [  0   0   0   0   0   0   0   0 163 254 253 254 253 254 253 254 253 234\n",
            "  253 254 253 234  51   0   0   0   0   0]\n",
            " [  0   0   0   0   0   0   0 163 243 253 252 253 212  50  50  71 111  30\n",
            "   50 253 252 253 232  41   0   0   0   0]\n",
            " [  0   0   0   0   0   0  62 254 253 244 162  41   0   0   0   0   0   0\n",
            "    0 163 243 254 253 214  10   0   0   0]\n",
            " [  0   0   0   0   0  21 203 253 252 122   0   0   0   0   0   0   0   0\n",
            "    0   0  81 213 252 253 131   0   0   0]\n",
            " [  0   0   0   0   0  51 253 254 192   0   0   0   0   0   0   0   0   0\n",
            "    0   0   0  82 243 254 253   0   0   0]\n",
            " [  0   0   0   0   0 132 252 253  70   0   0   0   0   0   0   0   0   0\n",
            "    0   0   0   0 162 253 252   0   0   0]\n",
            " [  0   0   0   0   0 254 253 244  40   0   0   0   0   0   0   0   0   0\n",
            "    0   0   0   0 102 254 253   0   0   0]\n",
            " [  0   0   0   0   0 253 252 203   0   0   0   0   0   0   0   0   0   0\n",
            "    0   0   0   0 102 253 252   0   0   0]\n",
            " [  0   0   0   0   0 254 253 203   0   0   0   0   0   0   0   0   0   0\n",
            "    0   0   0  52 233 254 233   0   0   0]\n",
            " [  0   0   0   0   0 253 252 223  20   0   0   0   0   0   0   0   0   0\n",
            "    0  21 142 233 252 233  50   0   0   0]\n",
            " [  0   0   0   0   0 234 253 254  71   0   0   0   0   0   0   0  21  72\n",
            "  152 254 253 254 233  82   0   0   0   0]\n",
            " [  0   0   0   0   0  71 252 253 232 142 102 102 102 102 102 163 223 253\n",
            "  252 253 252 172  30   0   0   0   0   0]\n",
            " [  0   0   0   0   0  21 183 255 253 255 253 254 253 254 253 254 253 254\n",
            "  233 142  20   0   0   0   0   0   0   0]\n",
            " [  0   0   0   0   0   0   0 112 232 253 252 253 252 253 252 253 171 131\n",
            "   30   0   0   0   0   0   0   0   0   0]\n",
            " [  0   0   0   0   0   0   0   0   0  62 102 102 102 102  20   0   0   0\n",
            "    0   0   0   0   0   0   0   0   0   0]\n",
            " [  0   0   0   0   0   0   0   0   0   0   0   0   0   0   0   0   0   0\n",
            "    0   0   0   0   0   0   0   0   0   0]\n",
            " [  0   0   0   0   0   0   0   0   0   0   0   0   0   0   0   0   0   0\n",
            "    0   0   0   0   0   0   0   0   0   0]\n",
            " [  0   0   0   0   0   0   0   0   0   0   0   0   0   0   0   0   0   0\n",
            "    0   0   0   0   0   0   0   0   0   0]\n",
            " [  0   0   0   0   0   0   0   0   0   0   0   0   0   0   0   0   0   0\n",
            "    0   0   0   0   0   0   0   0   0   0]]\n"
          ]
        }
      ]
    },
    {
      "cell_type": "code",
      "source": [
        "img = format_img_fpga(Numero_concreto)\n",
        "print(img)\n",
        "with open('MNSIT_0_index_concr_90.bin', 'wb') as f:\n",
        "    f.write(img)"
      ],
      "metadata": {
        "colab": {
          "base_uri": "https://localhost:8080/"
        },
        "id": "r8G6SfsPDbj-",
        "outputId": "65ef1405-dbfa-4ead-ad50-568e8d6fd9fd",
        "collapsed": true
      },
      "execution_count": 9,
      "outputs": [
        {
          "output_type": "stream",
          "name": "stdout",
          "text": [
            "[[  0   0   0   0   0   0   0   0   0   0   0   0   0   0   0   0   0   0\n",
            "    0   0   0   0   0   0   0   0   0   0   0   0   0   0   0   0   0   0\n",
            "    0   0   0   0   0   0   0   0   0   0   0   0   0   0   0   0   0   0\n",
            "    0   0   0   0   0   0   0   0   0   0   0   0   0   0   0   0   0   0\n",
            "    0   0   0   0   0   0   0   0   0   0   0   0   0   0   0   0   0   0\n",
            "    0   0   0   0   0   0   0   0   0   0   0   0   0   0   0   0   0   0\n",
            "    0   0   0   0   0   0   0   0   0   0   0   0   0   0   0   0   0   0\n",
            "    0   0   0   0   0   0   0   0   0   0   0   0   0   0   0   0   0   0\n",
            "    0   0   0   0   0   0   0   0   0   0   0   0   0   0   0   0   0   0\n",
            "    0   0   0   0   0   0   0   0   0   0   0   0   0   0   0   0   0   0\n",
            "   41 102 183 142 102  41   0   0   0   0   0   0   0   0   0   0   0   0\n",
            "    0   0   0   0   0   0   0  11  92 254 253 254 253 254 253 254 172  52\n",
            "   10   0   0   0   0   0   0   0   0   0   0   0   0   0   0   0   0 132\n",
            "  252 253 252 253 252 253 252 253 252 253 212  41   0   0   0   0   0   0\n",
            "    0   0   0   0   0   0   0   0 163 254 253 254 253 254 253 254 253 234\n",
            "  253 254 253 234  51   0   0   0   0   0   0   0   0   0   0   0   0 163\n",
            "  243 253 252 253 212  50  50  71 111  30  50 253 252 253 232  41   0   0\n",
            "    0   0   0   0   0   0   0   0  62 254 253 244 162  41   0   0   0   0\n",
            "    0   0   0 163 243 254 253 214  10   0   0   0   0   0   0   0   0  21\n",
            "  203 253 252 122   0   0   0   0   0   0   0   0   0   0  81 213 252 253\n",
            "  131   0   0   0   0   0   0   0   0  51 253 254 192   0   0   0   0   0\n",
            "    0   0   0   0   0   0   0  82 243 254 253   0   0   0   0   0   0   0\n",
            "    0 132 252 253  70   0   0   0   0   0   0   0   0   0   0   0   0   0\n",
            "  162 253 252   0   0   0   0   0   0   0   0 254 253 244  40   0   0   0\n",
            "    0   0   0   0   0   0   0   0   0   0 102 254 253   0   0   0   0   0\n",
            "    0   0   0 253 252 203   0   0   0   0   0   0   0   0   0   0   0   0\n",
            "    0   0 102 253 252   0   0   0   0   0   0   0   0 254 253 203   0   0\n",
            "    0   0   0   0   0   0   0   0   0   0   0  52 233 254 233   0   0   0\n",
            "    0   0   0   0   0 253 252 223  20   0   0   0   0   0   0   0   0   0\n",
            "    0  21 142 233 252 233  50   0   0   0   0   0   0   0   0 234 253 254\n",
            "   71   0   0   0   0   0   0   0  21  72 152 254 253 254 233  82   0   0\n",
            "    0   0   0   0   0   0   0  71 252 253 232 142 102 102 102 102 102 163\n",
            "  223 253 252 253 252 172  30   0   0   0   0   0   0   0   0   0   0  21\n",
            "  183 255 253 255 253 254 253 254 253 254 253 254 233 142  20   0   0   0\n",
            "    0   0   0   0   0   0   0   0   0   0   0 112 232 253 252 253 252 253\n",
            "  252 253 171 131  30   0   0   0   0   0   0   0   0   0   0   0   0   0\n",
            "    0   0   0   0   0  62 102 102 102 102  20   0   0   0   0   0   0   0\n",
            "    0   0   0   0   0   0   0   0   0   0   0   0   0   0   0   0   0   0\n",
            "    0   0   0   0   0   0   0   0   0   0   0   0   0   0   0   0   0   0\n",
            "    0   0   0   0   0   0   0   0   0   0   0   0   0   0   0   0   0   0\n",
            "    0   0   0   0   0   0   0   0   0   0   0   0   0   0   0   0   0   0\n",
            "    0   0   0   0   0   0   0   0   0   0   0   0   0   0   0   0   0   0\n",
            "    0   0   0   0   0   0   0   0   0   0   0   0   0   0   0   0   0   0\n",
            "    0   0   0   0   0   0   0   0   0   0   0]]\n"
          ]
        }
      ]
    },
    {
      "cell_type": "markdown",
      "source": [
        "EL UNO"
      ],
      "metadata": {
        "id": "VjdZ8jwdEMzK"
      }
    },
    {
      "cell_type": "code",
      "source": [
        "number_selected=1\n",
        "index_numero_concreto=15\n",
        "images_with_label_num = X_test[Y_test ==number_selected]\n",
        "labels_with_label_num = Y_test[Y_test == number_selected]\n",
        "Numero_concreto=images_with_label_num[index_numero_concreto]\n",
        "plt.title(labels_with_label_num[index_numero_concreto])\n",
        "plt.imshow(Numero_concreto,cmap='gray') #display sample training image\n",
        "plt.show()\n",
        "print(Numero_concreto)"
      ],
      "metadata": {
        "id": "lj2wXfTPEOf5",
        "collapsed": true
      },
      "execution_count": null,
      "outputs": []
    },
    {
      "cell_type": "code",
      "source": [
        "img = format_img_fpga(Numero_concreto)\n",
        "print(img)\n",
        "with open('MNSIT_1_index_concr_15.bin', 'wb') as f:\n",
        "    f.write(img)"
      ],
      "metadata": {
        "id": "RNOtXSaZEcTb",
        "collapsed": true
      },
      "execution_count": null,
      "outputs": []
    },
    {
      "cell_type": "markdown",
      "source": [
        "EL DOS"
      ],
      "metadata": {
        "id": "fcwfLKncJcvL"
      }
    },
    {
      "cell_type": "code",
      "source": [
        "number_selected=2\n",
        "index_numero_concreto=732\n",
        "images_with_label_num = X_test[Y_test ==number_selected]\n",
        "labels_with_label_num = Y_test[Y_test == number_selected]\n",
        "Numero_concreto=images_with_label_num[index_numero_concreto]\n",
        "plt.title(labels_with_label_num[index_numero_concreto])\n",
        "plt.imshow(Numero_concreto,cmap='gray') #display sample training image\n",
        "plt.show()\n",
        "print(Numero_concreto)"
      ],
      "metadata": {
        "id": "gglZ7pPUJeaa",
        "collapsed": true
      },
      "execution_count": null,
      "outputs": []
    },
    {
      "cell_type": "code",
      "source": [
        "img = format_img_fpga(Numero_concreto)\n",
        "print(img)\n",
        "with open('MNSIT_2_index_concr_732.bin', 'wb') as f:\n",
        "    f.write(img)"
      ],
      "metadata": {
        "id": "W6043PL6JqPr",
        "collapsed": true
      },
      "execution_count": null,
      "outputs": []
    },
    {
      "cell_type": "markdown",
      "source": [
        "EL 3"
      ],
      "metadata": {
        "id": "7cHLuJvNaRL3"
      }
    },
    {
      "cell_type": "code",
      "source": [
        "number_selected=3\n",
        "index_numero_concreto=863\n",
        "images_with_label_num = X_test[Y_test ==number_selected]\n",
        "labels_with_label_num = Y_test[Y_test == number_selected]\n",
        "Numero_concreto=images_with_label_num[index_numero_concreto]\n",
        "plt.title(labels_with_label_num[index_numero_concreto])\n",
        "plt.imshow(Numero_concreto,cmap='gray') #display sample training image\n",
        "plt.show()\n",
        "print(Numero_concreto)"
      ],
      "metadata": {
        "collapsed": true,
        "id": "i6OELhl_aTjQ"
      },
      "execution_count": null,
      "outputs": []
    },
    {
      "cell_type": "code",
      "source": [
        "img = format_img_fpga(Numero_concreto)\n",
        "print(img)\n",
        "with open('MNSIT_3_index_concr_863.bin', 'wb') as f:\n",
        "    f.write(img)"
      ],
      "metadata": {
        "collapsed": true,
        "id": "0_YXzklCadKw"
      },
      "execution_count": null,
      "outputs": []
    },
    {
      "cell_type": "markdown",
      "source": [
        "EL CUATRO"
      ],
      "metadata": {
        "id": "d6k4OuLbdNIl"
      }
    },
    {
      "cell_type": "code",
      "source": [
        "number_selected=4\n",
        "index_numero_concreto=344\n",
        "images_with_label_num = X_test[Y_test ==number_selected]\n",
        "labels_with_label_num = Y_test[Y_test == number_selected]\n",
        "Numero_concreto=images_with_label_num[index_numero_concreto]\n",
        "plt.title(labels_with_label_num[index_numero_concreto])\n",
        "plt.imshow(Numero_concreto,cmap='gray') #display sample training image\n",
        "plt.show()\n",
        "print(Numero_concreto)"
      ],
      "metadata": {
        "id": "1J10yStwdQOl",
        "collapsed": true
      },
      "execution_count": null,
      "outputs": []
    },
    {
      "cell_type": "code",
      "source": [
        "img = format_img_fpga(Numero_concreto)\n",
        "print(img)\n",
        "with open('MNSIT_4_index_concr_344.bin', 'wb') as f:\n",
        "    f.write(img)"
      ],
      "metadata": {
        "id": "p5uTwi7udsVu",
        "collapsed": true
      },
      "execution_count": null,
      "outputs": []
    },
    {
      "cell_type": "markdown",
      "source": [
        "EL CINCO"
      ],
      "metadata": {
        "id": "fbH8SLe7pJ-C"
      }
    },
    {
      "cell_type": "code",
      "source": [
        "number_selected=5\n",
        "index_numero_concreto=775\n",
        "images_with_label_num = X_test[Y_test ==number_selected]\n",
        "labels_with_label_num = Y_test[Y_test == number_selected]\n",
        "Numero_concreto=images_with_label_num[index_numero_concreto]\n",
        "plt.title(labels_with_label_num[index_numero_concreto])\n",
        "plt.imshow(Numero_concreto,cmap='gray') #display sample training image\n",
        "plt.show()\n",
        "print(Numero_concreto)"
      ],
      "metadata": {
        "collapsed": true,
        "id": "XuubzogWpM3K"
      },
      "execution_count": null,
      "outputs": []
    },
    {
      "cell_type": "code",
      "source": [
        "img = format_img_fpga(Numero_concreto)\n",
        "print(img)\n",
        "with open('MNSIT_5_index_concr_775.bin', 'wb') as f:\n",
        "    f.write(img)"
      ],
      "metadata": {
        "collapsed": true,
        "id": "6zTEvH1UpPZy"
      },
      "execution_count": null,
      "outputs": []
    },
    {
      "cell_type": "markdown",
      "source": [
        "EL SEIS"
      ],
      "metadata": {
        "id": "nXDfT07ZDY8t"
      }
    },
    {
      "cell_type": "code",
      "source": [
        "number_selected=6\n",
        "index_numero_concreto=296\n",
        "images_with_label_num = X_test[Y_test ==number_selected]\n",
        "labels_with_label_num = Y_test[Y_test == number_selected]\n",
        "Numero_concreto=images_with_label_num[index_numero_concreto]\n",
        "plt.title(labels_with_label_num[index_numero_concreto])\n",
        "plt.imshow(Numero_concreto,cmap='gray') #display sample training image\n",
        "plt.show()\n",
        "print(Numero_concreto)"
      ],
      "metadata": {
        "collapsed": true,
        "id": "lp8Fboyxh-ey"
      },
      "execution_count": null,
      "outputs": []
    },
    {
      "cell_type": "code",
      "source": [
        "img = format_img_fpga(Numero_concreto)\n",
        "print(img)\n",
        "with open('MNSIT_6_index_concr_296.bin', 'wb') as f:\n",
        "    f.write(img)"
      ],
      "metadata": {
        "collapsed": true,
        "id": "0cGXscW7iOYa"
      },
      "execution_count": null,
      "outputs": []
    },
    {
      "cell_type": "markdown",
      "source": [
        "EL SIETE"
      ],
      "metadata": {
        "id": "nqpiYd7o8Rfi"
      }
    },
    {
      "cell_type": "code",
      "source": [
        "number_selected=7\n",
        "index_numero_concreto=157\n",
        "images_with_label_num = X_test[Y_test ==number_selected]\n",
        "labels_with_label_num = Y_test[Y_test == number_selected]\n",
        "Numero_concreto=images_with_label_num[index_numero_concreto]\n",
        "plt.title(labels_with_label_num[index_numero_concreto])\n",
        "plt.imshow(Numero_concreto,cmap='gray') #display sample training image\n",
        "plt.show()\n",
        "print(Numero_concreto)"
      ],
      "metadata": {
        "colab": {
          "base_uri": "https://localhost:8080/",
          "height": 1000
        },
        "collapsed": true,
        "id": "upFCd_fo8Uh4",
        "outputId": "fd041ebb-8ba3-475f-bfd7-557762391e1f"
      },
      "execution_count": null,
      "outputs": [
        {
          "output_type": "display_data",
          "data": {
            "text/plain": [
              "<Figure size 640x480 with 1 Axes>"
            ],
            "image/png": "[encoded data removed]"
          },
          "metadata": {}
        },
        {
          "output_type": "stream",
          "name": "stdout",
          "text": [
            "[[  0   0   0   0   0   0   0   0   0   0   0   0   0   0   0   0   0   0\n",
            "    0   0   0   0   0   0   0   0   0   0]\n",
            " [  0   0   0   0   0   0   0   0   0   0   0   0   0   0   0   0   0   0\n",
            "    0   0   0   0   0   0   0   0   0   0]\n",
            " [  0   0   0   0   0   0   0   0   0   0   0   0   0   0   0   0   0   0\n",
            "    0   0   0   0   0   0   0   0   0   0]\n",
            " [  0   0   0   0   0   0   0   0   0   0   0   0   0   0   0   0   0   0\n",
            "    0   0   0   0   0   0   0   0   0   0]\n",
            " [  0   0   0   0   0   0   0   0   0   0   0   0   0   0   0   0   0   0\n",
            "    0   0   0   0   0   0   0   0   0   0]\n",
            " [  0   0   0   0   0   0   0   0   0   0   0   0   0   0   0   0   0   0\n",
            "    0   0   0   0   0   0   0   0   0   0]\n",
            " [  0   0   0   0   0   0   0   0   0   0   0   0   0   0   0   0   0   0\n",
            "    0   0   0   0   0   0   0   0   0   0]\n",
            " [  0   0   0  39 250 221 140  48  48  36   0   0   0   0   0   0   0   0\n",
            "    0   0   0   0   0   0   0   0   0   0]\n",
            " [  0   0   0   0 126 254 254 254 254 241 198 198 198 198 198 198 198 198\n",
            "  198 194  35   0   0   0   0   0   0   0]\n",
            " [  0   0   0   0   2  44 114 143 218 227 255 254 254 219 218 218 218 251\n",
            "  254 238  80   0   0   0   0   0   0   0]\n",
            " [  0   0   0   0   0   0   0   0   0  17  67  67  67   2   0   0   0 229\n",
            "  254 106   0   0   0   0   0   0   0   0]\n",
            " [  0   0   0   0   0   0   0   0   0   0   0   0   0   0   0   0   0 229\n",
            "  254  36   0   0   0   0   0   0   0   0]\n",
            " [  0   0   0   0   0   0   0   0   0   0   0   0   0   0   0   0  55 247\n",
            "  235  26   0   0   0   0   0   0   0   0]\n",
            " [  0   0   0   0   0   0   0   0   0   0   0   0   0   0   0   0 128 254\n",
            "  137   0   0   0   0   0   0   0   0   0]\n",
            " [  0   0   0   0   0   0   0   0   0   0   0   0   0   0   0  21 230 254\n",
            "   83   0   0   0   0   0   0   0   0   0]\n",
            " [  0   0   0   0   0   0   0   0   0   0   0   0   0   0   0  32 254 254\n",
            "   81   0   0   0   0   0   0   0   0   0]\n",
            " [  0   0   0   0   0   0   0   0   0   0   0   0   0   0   0  32 254 234\n",
            "    0   0   0   0   0   0   0   0   0   0]\n",
            " [  0   0   0   0   0   0   0   0   0   0   0   0   0   0   0  73 254 150\n",
            "    0   0   0   0   0   0   0   0   0   0]\n",
            " [  0   0   0   0   0   0   0   0   0   0   0   0   0   0   0 152 254  70\n",
            "    0   0   0   0   0   0   0   0   0   0]\n",
            " [  0   0   0   0   0   0   0   0   0   0   0   0   0   0  31 245 254  26\n",
            "    0   0   0   0   0   0   0   0   0   0]\n",
            " [  0   0   0   0   0   0   0   0   0   0   0   0   0   0  89 254 245  22\n",
            "    0   0   0   0   0   0   0   0   0   0]\n",
            " [  0   0   0   0   0   0   0   0   0   0   0   0   0   0  89 254 176   0\n",
            "    0   0   0   0   0   0   0   0   0   0]\n",
            " [  0   0   0   0   0   0   0   0   0   0   0   0   0   0  89 254 176   0\n",
            "    0   0   0   0   0   0   0   0   0   0]\n",
            " [  0   0   0   0   0   0   0   0   0   0   0   0   0   0  89 254 197   7\n",
            "    0   0   0   0   0   0   0   0   0   0]\n",
            " [  0   0   0   0   0   0   0   0   0   0   0   0   0   0  89 254 254  26\n",
            "    0   0   0   0   0   0   0   0   0   0]\n",
            " [  0   0   0   0   0   0   0   0   0   0   0   0   0   0  69 251 254  26\n",
            "    0   0   0   0   0   0   0   0   0   0]\n",
            " [  0   0   0   0   0   0   0   0   0   0   0   0   0   0   0 100 193  15\n",
            "    0   0   0   0   0   0   0   0   0   0]\n",
            " [  0   0   0   0   0   0   0   0   0   0   0   0   0   0   0   0   0   0\n",
            "    0   0   0   0   0   0   0   0   0   0]]\n"
          ]
        }
      ]
    },
    {
      "cell_type": "code",
      "source": [
        "img = format_img_fpga(Numero_concreto)\n",
        "print(img)\n",
        "with open('MNSIT_7_index_concr_157.bin', 'wb') as f:\n",
        "    f.write(img)"
      ],
      "metadata": {
        "colab": {
          "base_uri": "https://localhost:8080/"
        },
        "collapsed": true,
        "id": "mwCa3BvO8XkB",
        "outputId": "ed0a47e0-7adc-4f5d-9d9c-f20fd23bd390"
      },
      "execution_count": null,
      "outputs": [
        {
          "output_type": "stream",
          "name": "stdout",
          "text": [
            "[[  0   0   0   0   0   0   0   0   0   0   0   0   0   0   0   0   0   0\n",
            "    0   0   0   0   0   0   0   0   0   0   0   0   0   0   0   0   0   0\n",
            "    0   0   0   0   0   0   0   0   0   0   0   0   0   0   0   0   0   0\n",
            "    0   0   0   0   0   0   0   0   0   0   0   0   0   0   0   0   0   0\n",
            "    0   0   0   0   0   0   0   0   0   0   0   0   0   0   0   0   0   0\n",
            "    0   0   0   0   0   0   0   0   0   0   0   0   0   0   0   0   0   0\n",
            "    0   0   0   0   0   0   0   0   0   0   0   0   0   0   0   0   0   0\n",
            "    0   0   0   0   0   0   0   0   0   0   0   0   0   0   0   0   0   0\n",
            "    0   0   0   0   0   0   0   0   0   0   0   0   0   0   0   0   0   0\n",
            "    0   0   0   0   0   0   0   0   0   0   0   0   0   0   0   0   0   0\n",
            "    0   0   0   0   0   0   0   0   0   0   0   0   0   0   0   0   0   0\n",
            "    0  39 250 221 140  48  48  36   0   0   0   0   0   0   0   0   0   0\n",
            "    0   0   0   0   0   0   0   0   0   0   0   0 126 254 254 254 254 241\n",
            "  198 198 198 198 198 198 198 198 198 194  35   0   0   0   0   0   0   0\n",
            "    0   0   0   0   2  44 114 143 218 227 255 254 254 219 218 218 218 251\n",
            "  254 238  80   0   0   0   0   0   0   0   0   0   0   0   0   0   0   0\n",
            "    0  17  67  67  67   2   0   0   0 229 254 106   0   0   0   0   0   0\n",
            "    0   0   0   0   0   0   0   0   0   0   0   0   0   0   0   0   0   0\n",
            "    0 229 254  36   0   0   0   0   0   0   0   0   0   0   0   0   0   0\n",
            "    0   0   0   0   0   0   0   0   0   0  55 247 235  26   0   0   0   0\n",
            "    0   0   0   0   0   0   0   0   0   0   0   0   0   0   0   0   0   0\n",
            "    0   0 128 254 137   0   0   0   0   0   0   0   0   0   0   0   0   0\n",
            "    0   0   0   0   0   0   0   0   0   0   0  21 230 254  83   0   0   0\n",
            "    0   0   0   0   0   0   0   0   0   0   0   0   0   0   0   0   0   0\n",
            "    0   0   0  32 254 254  81   0   0   0   0   0   0   0   0   0   0   0\n",
            "    0   0   0   0   0   0   0   0   0   0   0   0   0  32 254 234   0   0\n",
            "    0   0   0   0   0   0   0   0   0   0   0   0   0   0   0   0   0   0\n",
            "    0   0   0   0   0  73 254 150   0   0   0   0   0   0   0   0   0   0\n",
            "    0   0   0   0   0   0   0   0   0   0   0   0   0   0   0 152 254  70\n",
            "    0   0   0   0   0   0   0   0   0   0   0   0   0   0   0   0   0   0\n",
            "    0   0   0   0   0   0  31 245 254  26   0   0   0   0   0   0   0   0\n",
            "    0   0   0   0   0   0   0   0   0   0   0   0   0   0   0   0  89 254\n",
            "  245  22   0   0   0   0   0   0   0   0   0   0   0   0   0   0   0   0\n",
            "    0   0   0   0   0   0   0   0  89 254 176   0   0   0   0   0   0   0\n",
            "    0   0   0   0   0   0   0   0   0   0   0   0   0   0   0   0   0   0\n",
            "   89 254 176   0   0   0   0   0   0   0   0   0   0   0   0   0   0   0\n",
            "    0   0   0   0   0   0   0   0   0   0  89 254 197   7   0   0   0   0\n",
            "    0   0   0   0   0   0   0   0   0   0   0   0   0   0   0   0   0   0\n",
            "    0   0  89 254 254  26   0   0   0   0   0   0   0   0   0   0   0   0\n",
            "    0   0   0   0   0   0   0   0   0   0   0   0  69 251 254  26   0   0\n",
            "    0   0   0   0   0   0   0   0   0   0   0   0   0   0   0   0   0   0\n",
            "    0   0   0   0   0 100 193  15   0   0   0   0   0   0   0   0   0   0\n",
            "    0   0   0   0   0   0   0   0   0   0   0   0   0   0   0   0   0   0\n",
            "    0   0   0   0   0   0   0   0   0   0   0]]\n"
          ]
        }
      ]
    },
    {
      "cell_type": "markdown",
      "source": [
        "EL 8"
      ],
      "metadata": {
        "id": "Ad1jDzk6mnsU"
      }
    },
    {
      "cell_type": "code",
      "source": [
        "number_selected=8\n",
        "index_numero_concreto=80\n",
        "images_with_label_num = X_test[Y_test ==number_selected]\n",
        "labels_with_label_num = Y_test[Y_test == number_selected]\n",
        "Numero_concreto=images_with_label_num[index_numero_concreto]\n",
        "plt.title(labels_with_label_num[index_numero_concreto])\n",
        "plt.imshow(Numero_concreto,cmap='gray') #display sample training image\n",
        "plt.show()\n",
        "print(Numero_concreto)"
      ],
      "metadata": {
        "id": "QwcUP_HdD2-A",
        "collapsed": true
      },
      "execution_count": null,
      "outputs": []
    },
    {
      "cell_type": "code",
      "source": [
        "img = format_img_fpga(Numero_concreto)\n",
        "print(img)\n",
        "with open('MNSIT_8_index_concr_80.bin', 'wb') as f:\n",
        "    f.write(img)"
      ],
      "metadata": {
        "id": "JR30b05Sq08b",
        "collapsed": true
      },
      "execution_count": null,
      "outputs": []
    },
    {
      "cell_type": "markdown",
      "source": [
        "EL 9"
      ],
      "metadata": {
        "id": "0SagKvLHmprb"
      }
    },
    {
      "cell_type": "code",
      "source": [
        "number_selected=9\n",
        "index_numero_concreto=159\n",
        "images_with_label_num = X_test[Y_test ==number_selected]\n",
        "labels_with_label_num = Y_test[Y_test == number_selected]\n",
        "Numero_concreto=images_with_label_num[index_numero_concreto]\n",
        "plt.title(labels_with_label_num[index_numero_concreto])\n",
        "plt.imshow(Numero_concreto,cmap='gray') #display sample training image\n",
        "plt.show()\n",
        "print(Numero_concreto)"
      ],
      "metadata": {
        "id": "_rwxTzPkmqx1",
        "collapsed": true
      },
      "execution_count": null,
      "outputs": []
    },
    {
      "cell_type": "code",
      "source": [
        "img = format_img_fpga(Numero_concreto)\n",
        "print(img)\n",
        "with open('MNSIT_9_index_concr_159.bin', 'wb') as f:\n",
        "    f.write(img)"
      ],
      "metadata": {
        "id": "WbQhO_bwmxJi",
        "collapsed": true
      },
      "execution_count": null,
      "outputs": []
    }
  ]
}