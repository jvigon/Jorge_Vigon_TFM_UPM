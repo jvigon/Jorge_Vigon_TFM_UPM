{
  "nbformat": 4,
  "nbformat_minor": 0,
  "metadata": {
    "colab": {
      "provenance": []
    },
    "kernelspec": {
      "name": "python3",
      "display_name": "Python 3"
    },
    "language_info": {
      "name": "python"
    }
  },
  "cells": [
    {
      "cell_type": "code",
      "execution_count": 4,
      "metadata": {
        "id": "52e3zI9y5z6w"
      },
      "outputs": [],
      "source": [
        "import pickle\n",
        "import matplotlib.pyplot as plt\n",
        "import itertools\n",
        "from sklearn import preprocessing\n",
        "from sklearn.preprocessing import Normalizer\n",
        "import numpy as np\n",
        "import matplotlib.pyplot as plt\n",
        "import numpy as np\n",
        "\n",
        "import tensorflow as tf\n",
        "#import keras.api._v2.keras as keras\n",
        "#from tensorflow.keras import datasets, layers, models, regularizers"
      ]
    },
    {
      "cell_type": "code",
      "source": [
        "mnist = tf.keras.datasets.mnist\n",
        "(X_train, Y_train), (X_test, Y_test) = mnist.load_data()"
      ],
      "metadata": {
        "id": "g0AEdcly6WF-"
      },
      "execution_count": 5,
      "outputs": []
    },
    {
      "cell_type": "code",
      "source": [
        "import numpy as np\n",
        "import json\n",
        "import pandas as pd\n",
        "\n",
        "def format_img_fpga(img):\n",
        "    \"\"\"\n",
        "    MNSIT\n",
        "    \"\"\"\n",
        "\n",
        "    if img.shape != (28, 28):\n",
        "      raise Exception('Wrong image shape')\n",
        "    fpga_img = img.flatten().reshape(1, -1)\n",
        "    fpga_img=np.concatenate((fpga_img, np.zeros((1, 1), dtype=fpga_img.dtype)), axis=1)\n",
        "    return fpga_img"
      ],
      "metadata": {
        "id": "-cCRQm8civdS"
      },
      "execution_count": 8,
      "outputs": []
    },
    {
      "cell_type": "code",
      "source": [
        "#index_numero=3 #UN 0\n",
        "#index_numero=1030 #UN 1\n",
        "#index_numero=1 #UN 2\n",
        "#index_numero=5000 #UN 3\n",
        "#index_numero=9997 #UN 4\n",
        "#index_numero=751 #UN 5\n",
        "#index_numero=3000#UN 6\n",
        "#index_numero=9000 #UN 7\n",
        "index_numero=6070 #UN 8\n",
        "#index_numero=3075#UN 9\n",
        "Numero=X_test[index_numero]\n",
        "plt.title(Y_test[index_numero])\n",
        "plt.imshow(Numero,cmap='gray') #display sample training image\n",
        "plt.show()"
      ],
      "metadata": {
        "colab": {
          "base_uri": "https://localhost:8080/",
          "height": 452
        },
        "id": "BuZyl9b-6fgG",
        "outputId": "aedde26b-8984-4f42-cf78-69af139fd8d5"
      },
      "execution_count": null,
      "outputs": [
        {
          "output_type": "display_data",
          "data": {
            "text/plain": [
              "<Figure size 640x480 with 1 Axes>"
            ],
            "image/png": "[encoded data removed]"
          },
          "metadata": {}
        }
      ]
    },
    {
      "cell_type": "code",
      "source": [
        "Numero\n",
        "print(Numero)"
      ],
      "metadata": {
        "colab": {
          "base_uri": "https://localhost:8080/"
        },
        "id": "kaGr8AU-7PNu",
        "outputId": "26ed9bd6-833d-451b-8130-5bc926c540bf",
        "collapsed": true
      },
      "execution_count": null,
      "outputs": [
        {
          "output_type": "stream",
          "name": "stdout",
          "text": [
            "[[  0   0   0   0   0   0   0   0   0   0   0   0   0   0   0   0   0   0\n",
            "    0   0   0   0   0   0   0   0   0   0]\n",
            " [  0   0   0   0   0   0   0   0   0   0   0   0   0   0   0   0   0   0\n",
            "    0   0   0   0   0   0   0   0   0   0]\n",
            " [  0   0   0   0   0   0   0   0   0   0   0   0   0   0   0   0   0   0\n",
            "    0   0   0   0   0   0   0   0   0   0]\n",
            " [  0   0   0   0   0   0   0   0   0   0   0   0   0   0   0   0   0   0\n",
            "    0   0   0   0   0   0   0   0   0   0]\n",
            " [  0   0   0   0   0   0   0   0   0   0   0   0  29 158 194 222 131 131\n",
            "   28   4   0   0   0   0   0   0   0   0]\n",
            " [  0   0   0   0   0   0   0   0   0   0   2  96 218 254 254 254 254 254\n",
            "  254 211  23   0   0   0   0   0   0   0]\n",
            " [  0   0   0   0   0   0   0   0   0  27 160 254 254 254 254 254 254 254\n",
            "  254 254 211  14   0   0   0   0   0   0]\n",
            " [  0   0   0   0   0   0   0   0   0 156 254 254 254 254 254 236 131 105\n",
            "  217 254 254 108   2   0   0   0   0   0]\n",
            " [  0   0   0   0   0   0   0   0   0 156 254 254 254 254 232  54   0   0\n",
            "   34 217 254 254  18   0   0   0   0   0]\n",
            " [  0   0   0   0   0   0   0   0   4 170 254 254 254 200  25   0   0   0\n",
            "    0  94 254 254  98   0   0   0   0   0]\n",
            " [  0   0   0   0   0   0   0   0  21 238 254 254 230  38   0   0   0   0\n",
            "   37 182 254 254 142   0   0   0   0   0]\n",
            " [  0   0   0   0   0   0   0   0   0 156 254 254 254 170  50  50  87 174\n",
            "  241 254 254 254 118   0   0   0   0   0]\n",
            " [  0   0   0   0   0   0   0   0   0 156 254 254 254 254 254 254 254 254\n",
            "  254 254 254 151   6   0   0   0   0   0]\n",
            " [  0   0   0   0   0   0   0   0   0 118 232 254 254 254 254 254 254 254\n",
            "  254 254 230  18   0   0   0   0   0   0]\n",
            " [  0   0   0   0   0   0   0   0   0  58 232 254 254 254 254 254 254 254\n",
            "  254 254 181   7   0   0   0   0   0   0]\n",
            " [  0   0   0   0   0   0   0   0  57 233 254 254 254 254 254 254 254 231\n",
            "  242 254 254  24   0   0   0   0   0   0]\n",
            " [  0   0   0   0   0   0   0   6 183 254 254 254 254 254 254 254 231  58\n",
            "  112 254 254 158   6   0   0   0   0   0]\n",
            " [  0   0   0   0   0   0   0  19 254 254 254 254 254 254 254 188  57   0\n",
            "   45 237 254 218  12   0   0   0   0   0]\n",
            " [  0   0   0   0   0   0   0  19 254 254 254 254 190 133  37   9   0   0\n",
            "  194 254 254 148   0   0   0   0   0   0]\n",
            " [  0   0   0   0   0   0   0  81 254 254 254 233  41   0   0   0  79 201\n",
            "  249 254 254  39   0   0   0   0   0   0]\n",
            " [  0   0   0   0   0   0   0  11 211 254 254 254 238 231 231 231 249 254\n",
            "  254 254 254  24   0   0   0   0   0   0]\n",
            " [  0   0   0   0   0   0   0   0  95 254 254 254 254 254 254 254 254 254\n",
            "  254 213  94   2   0   0   0   0   0   0]\n",
            " [  0   0   0   0   0   0   0   0   2 103 254 254 254 254 254 254 254 217\n",
            "  136  25   0   0   0   0   0   0   0   0]\n",
            " [  0   0   0   0   0   0   0   0   0   1  85 212 255 254 254 160  94   4\n",
            "    0   0   0   0   0   0   0   0   0   0]\n",
            " [  0   0   0   0   0   0   0   0   0   0   0   0   0   0   0   0   0   0\n",
            "    0   0   0   0   0   0   0   0   0   0]\n",
            " [  0   0   0   0   0   0   0   0   0   0   0   0   0   0   0   0   0   0\n",
            "    0   0   0   0   0   0   0   0   0   0]\n",
            " [  0   0   0   0   0   0   0   0   0   0   0   0   0   0   0   0   0   0\n",
            "    0   0   0   0   0   0   0   0   0   0]\n",
            " [  0   0   0   0   0   0   0   0   0   0   0   0   0   0   0   0   0   0\n",
            "    0   0   0   0   0   0   0   0   0   0]]\n"
          ]
        }
      ]
    },
    {
      "cell_type": "code",
      "source": [
        "image_selected=Numero.flatten()\n",
        "print(image_selected)\n",
        "ver_valor=image_selected[148]\n",
        "print(ver_valor)\n",
        "dimensiones=image_selected.shape\n",
        "print(dimensiones)"
      ],
      "metadata": {
        "colab": {
          "base_uri": "https://localhost:8080/"
        },
        "id": "XvOD-yMj6s2O",
        "outputId": "025a882a-31f8-4b6f-ab82-b529a3944f65",
        "collapsed": true
      },
      "execution_count": null,
      "outputs": [
        {
          "output_type": "stream",
          "name": "stdout",
          "text": [
            "[  0   0   0   0   0   0   0   0   0   0   0   0   0   0   0   0   0   0\n",
            "   0   0   0   0   0   0   0   0   0   0   0   0   0   0   0   0   0   0\n",
            "   0   0   0   0   0   0   0   0   0   0   0   0   0   0   0   0   0   0\n",
            "   0   0   0   0   0   0   0   0   0   0   0   0   0   0   0   0   0   0\n",
            "   0   0   0   0   0   0   0   0   0   0   0   0   0   0   0   0   0   0\n",
            "   0   0   0   0   0   0   0   0   0   0   0   0   0   0   0   0   0   0\n",
            "   0   0   0   0   0   0   0   0   0   0   0   0   0   0   0   0  29 158\n",
            " 194 222 131 131  28   4   0   0   0   0   0   0   0   0   0   0   0   0\n",
            "   0   0   0   0   0   0   2  96 218 254 254 254 254 254 254 211  23   0\n",
            "   0   0   0   0   0   0   0   0   0   0   0   0   0   0   0  27 160 254\n",
            " 254 254 254 254 254 254 254 254 211  14   0   0   0   0   0   0   0   0\n",
            "   0   0   0   0   0   0   0 156 254 254 254 254 254 236 131 105 217 254\n",
            " 254 108   2   0   0   0   0   0   0   0   0   0   0   0   0   0   0 156\n",
            " 254 254 254 254 232  54   0   0  34 217 254 254  18   0   0   0   0   0\n",
            "   0   0   0   0   0   0   0   0   4 170 254 254 254 200  25   0   0   0\n",
            "   0  94 254 254  98   0   0   0   0   0   0   0   0   0   0   0   0   0\n",
            "  21 238 254 254 230  38   0   0   0   0  37 182 254 254 142   0   0   0\n",
            "   0   0   0   0   0   0   0   0   0   0   0 156 254 254 254 170  50  50\n",
            "  87 174 241 254 254 254 118   0   0   0   0   0   0   0   0   0   0   0\n",
            "   0   0   0 156 254 254 254 254 254 254 254 254 254 254 254 151   6   0\n",
            "   0   0   0   0   0   0   0   0   0   0   0   0   0 118 232 254 254 254\n",
            " 254 254 254 254 254 254 230  18   0   0   0   0   0   0   0   0   0   0\n",
            "   0   0   0   0   0  58 232 254 254 254 254 254 254 254 254 254 181   7\n",
            "   0   0   0   0   0   0   0   0   0   0   0   0   0   0  57 233 254 254\n",
            " 254 254 254 254 254 231 242 254 254  24   0   0   0   0   0   0   0   0\n",
            "   0   0   0   0   0   6 183 254 254 254 254 254 254 254 231  58 112 254\n",
            " 254 158   6   0   0   0   0   0   0   0   0   0   0   0   0  19 254 254\n",
            " 254 254 254 254 254 188  57   0  45 237 254 218  12   0   0   0   0   0\n",
            "   0   0   0   0   0   0   0  19 254 254 254 254 190 133  37   9   0   0\n",
            " 194 254 254 148   0   0   0   0   0   0   0   0   0   0   0   0   0  81\n",
            " 254 254 254 233  41   0   0   0  79 201 249 254 254  39   0   0   0   0\n",
            "   0   0   0   0   0   0   0   0   0  11 211 254 254 254 238 231 231 231\n",
            " 249 254 254 254 254  24   0   0   0   0   0   0   0   0   0   0   0   0\n",
            "   0   0  95 254 254 254 254 254 254 254 254 254 254 213  94   2   0   0\n",
            "   0   0   0   0   0   0   0   0   0   0   0   0   2 103 254 254 254 254\n",
            " 254 254 254 217 136  25   0   0   0   0   0   0   0   0   0   0   0   0\n",
            "   0   0   0   0   0   1  85 212 255 254 254 160  94   4   0   0   0   0\n",
            "   0   0   0   0   0   0   0   0   0   0   0   0   0   0   0   0   0   0\n",
            "   0   0   0   0   0   0   0   0   0   0   0   0   0   0   0   0   0   0\n",
            "   0   0   0   0   0   0   0   0   0   0   0   0   0   0   0   0   0   0\n",
            "   0   0   0   0   0   0   0   0   0   0   0   0   0   0   0   0   0   0\n",
            "   0   0   0   0   0   0   0   0   0   0   0   0   0   0   0   0   0   0\n",
            "   0   0   0   0   0   0   0   0   0   0   0   0   0   0   0   0   0   0\n",
            "   0   0   0   0   0   0   0   0   0   0]\n",
            "0\n",
            "(784,)\n"
          ]
        }
      ]
    },
    {
      "cell_type": "code",
      "source": [
        "import numpy as np\n",
        "import json\n",
        "import pandas as pd\n",
        "\n",
        "def format_img_fpga(img):\n",
        "    \"\"\"\n",
        "    MNSIT\n",
        "    \"\"\"\n",
        "\n",
        "    if img.shape != (28, 28):\n",
        "      raise Exception('Wrong image shape')\n",
        "    fpga_img = img.flatten().reshape(1, -1)\n",
        "    fpga_img=np.concatenate((fpga_img, np.zeros((1, 1), dtype=fpga_img.dtype)), axis=1)\n",
        "    return fpga_img"
      ],
      "metadata": {
        "id": "mwtXwE9A7iFQ"
      },
      "execution_count": null,
      "outputs": []
    },
    {
      "cell_type": "code",
      "source": [
        "img = format_img_fpga(X_test[index_numero])\n",
        "print(img)\n",
        "with open('MNSIT_8_index_6070.bin', 'wb') as f:\n",
        "    f.write(img)"
      ],
      "metadata": {
        "colab": {
          "base_uri": "https://localhost:8080/"
        },
        "id": "5qDuofDV9Ff8",
        "outputId": "c6975974-be40-4ed4-e39c-09d6a41c26c2",
        "collapsed": true
      },
      "execution_count": null,
      "outputs": [
        {
          "output_type": "stream",
          "name": "stdout",
          "text": [
            "[[  0   0   0   0   0   0   0   0   0   0   0   0   0   0   0   0   0   0\n",
            "    0   0   0   0   0   0   0   0   0   0   0   0   0   0   0   0   0   0\n",
            "    0   0   0   0   0   0   0   0   0   0   0   0   0   0   0   0   0   0\n",
            "    0   0   0   0   0   0   0   0   0   0   0   0   0   0   0   0   0   0\n",
            "    0   0   0   0   0   0   0   0   0   0   0   0   0   0   0   0   0   0\n",
            "    0   0   0   0   0   0   0   0   0   0   0   0   0   0   0   0   0   0\n",
            "    0   0   0   0   0   0   0   0   0   0   0   0   0   0   0   0  29 158\n",
            "  194 222 131 131  28   4   0   0   0   0   0   0   0   0   0   0   0   0\n",
            "    0   0   0   0   0   0   2  96 218 254 254 254 254 254 254 211  23   0\n",
            "    0   0   0   0   0   0   0   0   0   0   0   0   0   0   0  27 160 254\n",
            "  254 254 254 254 254 254 254 254 211  14   0   0   0   0   0   0   0   0\n",
            "    0   0   0   0   0   0   0 156 254 254 254 254 254 236 131 105 217 254\n",
            "  254 108   2   0   0   0   0   0   0   0   0   0   0   0   0   0   0 156\n",
            "  254 254 254 254 232  54   0   0  34 217 254 254  18   0   0   0   0   0\n",
            "    0   0   0   0   0   0   0   0   4 170 254 254 254 200  25   0   0   0\n",
            "    0  94 254 254  98   0   0   0   0   0   0   0   0   0   0   0   0   0\n",
            "   21 238 254 254 230  38   0   0   0   0  37 182 254 254 142   0   0   0\n",
            "    0   0   0   0   0   0   0   0   0   0   0 156 254 254 254 170  50  50\n",
            "   87 174 241 254 254 254 118   0   0   0   0   0   0   0   0   0   0   0\n",
            "    0   0   0 156 254 254 254 254 254 254 254 254 254 254 254 151   6   0\n",
            "    0   0   0   0   0   0   0   0   0   0   0   0   0 118 232 254 254 254\n",
            "  254 254 254 254 254 254 230  18   0   0   0   0   0   0   0   0   0   0\n",
            "    0   0   0   0   0  58 232 254 254 254 254 254 254 254 254 254 181   7\n",
            "    0   0   0   0   0   0   0   0   0   0   0   0   0   0  57 233 254 254\n",
            "  254 254 254 254 254 231 242 254 254  24   0   0   0   0   0   0   0   0\n",
            "    0   0   0   0   0   6 183 254 254 254 254 254 254 254 231  58 112 254\n",
            "  254 158   6   0   0   0   0   0   0   0   0   0   0   0   0  19 254 254\n",
            "  254 254 254 254 254 188  57   0  45 237 254 218  12   0   0   0   0   0\n",
            "    0   0   0   0   0   0   0  19 254 254 254 254 190 133  37   9   0   0\n",
            "  194 254 254 148   0   0   0   0   0   0   0   0   0   0   0   0   0  81\n",
            "  254 254 254 233  41   0   0   0  79 201 249 254 254  39   0   0   0   0\n",
            "    0   0   0   0   0   0   0   0   0  11 211 254 254 254 238 231 231 231\n",
            "  249 254 254 254 254  24   0   0   0   0   0   0   0   0   0   0   0   0\n",
            "    0   0  95 254 254 254 254 254 254 254 254 254 254 213  94   2   0   0\n",
            "    0   0   0   0   0   0   0   0   0   0   0   0   2 103 254 254 254 254\n",
            "  254 254 254 217 136  25   0   0   0   0   0   0   0   0   0   0   0   0\n",
            "    0   0   0   0   0   1  85 212 255 254 254 160  94   4   0   0   0   0\n",
            "    0   0   0   0   0   0   0   0   0   0   0   0   0   0   0   0   0   0\n",
            "    0   0   0   0   0   0   0   0   0   0   0   0   0   0   0   0   0   0\n",
            "    0   0   0   0   0   0   0   0   0   0   0   0   0   0   0   0   0   0\n",
            "    0   0   0   0   0   0   0   0   0   0   0   0   0   0   0   0   0   0\n",
            "    0   0   0   0   0   0   0   0   0   0   0   0   0   0   0   0   0   0\n",
            "    0   0   0   0   0   0   0   0   0   0   0   0   0   0   0   0   0   0\n",
            "    0   0   0   0   0   0   0   0   0   0   0]]\n"
          ]
        }
      ]
    },
    {
      "cell_type": "code",
      "source": [
        "ver_valor=img[148]\n",
        "print(ver_valor)\n",
        "dimensiones=img.shape\n",
        "print(dimensiones)"
      ],
      "metadata": {
        "colab": {
          "base_uri": "https://localhost:8080/",
          "height": 203
        },
        "id": "DxtZm5h8-cZd",
        "outputId": "a939923b-83e8-4c95-c1c8-3fafcda7a56e",
        "collapsed": true
      },
      "execution_count": null,
      "outputs": [
        {
          "output_type": "error",
          "ename": "IndexError",
          "evalue": "index 148 is out of bounds for axis 0 with size 1",
          "traceback": [
            "\u001b[0;31m---------------------------------------------------------------------------\u001b[0m",
            "\u001b[0;31mIndexError\u001b[0m                                Traceback (most recent call last)",
            "\u001b[0;32m<ipython-input-9-d811b62d08fc>\u001b[0m in \u001b[0;36m<cell line: 1>\u001b[0;34m()\u001b[0m\n\u001b[0;32m----> 1\u001b[0;31m \u001b[0mver_valor\u001b[0m\u001b[0;34m=\u001b[0m\u001b[0mimg\u001b[0m\u001b[0;34m[\u001b[0m\u001b[0;36m148\u001b[0m\u001b[0;34m]\u001b[0m\u001b[0;34m\u001b[0m\u001b[0;34m\u001b[0m\u001b[0m\n\u001b[0m\u001b[1;32m      2\u001b[0m \u001b[0mprint\u001b[0m\u001b[0;34m(\u001b[0m\u001b[0mver_valor\u001b[0m\u001b[0;34m)\u001b[0m\u001b[0;34m\u001b[0m\u001b[0;34m\u001b[0m\u001b[0m\n\u001b[1;32m      3\u001b[0m \u001b[0mdimensiones\u001b[0m\u001b[0;34m=\u001b[0m\u001b[0mimg\u001b[0m\u001b[0;34m.\u001b[0m\u001b[0mshape\u001b[0m\u001b[0;34m\u001b[0m\u001b[0;34m\u001b[0m\u001b[0m\n\u001b[1;32m      4\u001b[0m \u001b[0mprint\u001b[0m\u001b[0;34m(\u001b[0m\u001b[0mdimensiones\u001b[0m\u001b[0;34m)\u001b[0m\u001b[0;34m\u001b[0m\u001b[0;34m\u001b[0m\u001b[0m\n",
            "\u001b[0;31mIndexError\u001b[0m: index 148 is out of bounds for axis 0 with size 1"
          ]
        }
      ]
    },
    {
      "cell_type": "code",
      "source": [
        "img_orig=X_test[index_numero]\n",
        "img_orig = img_orig.flatten().reshape(1, -1)\n",
        "img_orig=np.concatenate((img_orig, np.zeros((1, 1), dtype=img_orig.dtype)), axis=1)\n",
        "dimensiones=img_orig.shape\n",
        "print(dimensiones)\n",
        "img_orig"
      ],
      "metadata": {
        "id": "zQbhBFtsENmw",
        "collapsed": true
      },
      "execution_count": null,
      "outputs": []
    },
    {
      "cell_type": "markdown",
      "source": [
        "SI SOLO QUIERES UN NÚMERO EN CONCRETO"
      ],
      "metadata": {
        "id": "btuDXayXqDjl"
      }
    },
    {
      "cell_type": "markdown",
      "source": [
        "EL CERO"
      ],
      "metadata": {
        "id": "9KTWW6OEDDys"
      }
    },
    {
      "cell_type": "code",
      "source": [
        "number_selected=0\n",
        "index_numero_concreto=90\n",
        "images_with_label_num = X_test[Y_test ==number_selected]\n",
        "labels_with_label_num = Y_test[Y_test == number_selected]\n",
        "Numero_concreto=images_with_label_num[index_numero_concreto]\n",
        "plt.title(labels_with_label_num[index_numero_concreto])\n",
        "plt.imshow(Numero_concreto,cmap='gray') #display sample training image\n",
        "plt.show()\n",
        "print(Numero_concreto)"
      ],
      "metadata": {
        "colab": {
          "base_uri": "https://localhost:8080/",
          "height": 1000
        },
        "id": "HMl7GufcDFed",
        "outputId": "4a763449-6dee-4783-c2ee-ab1c5cca3cb6",
        "collapsed": true
      },
      "execution_count": 9,
      "outputs": [
        {
          "output_type": "display_data",
          "data": {
            "text/plain": [
              "<Figure size 640x480 with 1 Axes>"
            ],
            "image/png": "[encoded data removed]"
          },
          "metadata": {}
        },
        {
          "output_type": "stream",
          "name": "stdout",
          "text": [
            "[[  0   0   0   0   0   0   0   0   0   0   0   0   0   0   0   0   0   0\n",
            "    0   0   0   0   0   0   0   0   0   0]\n",
            " [  0   0   0   0   0   0   0   0   0   0   0   0   0   0   0   0   0   0\n",
            "    0   0   0   0   0   0   0   0   0   0]\n",
            " [  0   0   0   0   0   0   0   0   0   0   0   0   0   0   0   0   0   0\n",
            "    0   0   0   0   0   0   0   0   0   0]\n",
            " [  0   0   0   0   0   0   0   0   0   0   0   0   0   0   0   0   0   0\n",
            "    0   0   0   0   0   0   0   0   0   0]\n",
            " [  0   0   0   0   0   0   0   0   0   0   0   0   0   0   0   0   0   0\n",
            "    0   0   0   0   0   0   0   0   0   0]\n",
            " [  0   0   0   0   0   0   0   0   0   0   0   0   0   0   0   0   0   0\n",
            "    0   0   0   0   0   0   0   0   0   0]\n",
            " [  0   0   0   0   0   0   0   0   0   0   0   0  41 102 183 142 102  41\n",
            "    0   0   0   0   0   0   0   0   0   0]\n",
            " [  0   0   0   0   0   0   0   0   0  11  92 254 253 254 253 254 253 254\n",
            "  172  52  10   0   0   0   0   0   0   0]\n",
            " [  0   0   0   0   0   0   0   0   0 132 252 253 252 253 252 253 252 253\n",
            "  252 253 212  41   0   0   0   0   0   0]\n",
            " [  0   0   0   0   0   0   0   0 163 254 253 254 253 254 253 254 253 234\n",
            "  253 254 253 234  51   0   0   0   0   0]\n",
            " [  0   0   0   0   0   0   0 163 243 253 252 253 212  50  50  71 111  30\n",
            "   50 253 252 253 232  41   0   0   0   0]\n",
            " [  0   0   0   0   0   0  62 254 253 244 162  41   0   0   0   0   0   0\n",
            "    0 163 243 254 253 214  10   0   0   0]\n",
            " [  0   0   0   0   0  21 203 253 252 122   0   0   0   0   0   0   0   0\n",
            "    0   0  81 213 252 253 131   0   0   0]\n",
            " [  0   0   0   0   0  51 253 254 192   0   0   0   0   0   0   0   0   0\n",
            "    0   0   0  82 243 254 253   0   0   0]\n",
            " [  0   0   0   0   0 132 252 253  70   0   0   0   0   0   0   0   0   0\n",
            "    0   0   0   0 162 253 252   0   0   0]\n",
            " [  0   0   0   0   0 254 253 244  40   0   0   0   0   0   0   0   0   0\n",
            "    0   0   0   0 102 254 253   0   0   0]\n",
            " [  0   0   0   0   0 253 252 203   0   0   0   0   0   0   0   0   0   0\n",
            "    0   0   0   0 102 253 252   0   0   0]\n",
            " [  0   0   0   0   0 254 253 203   0   0   0   0   0   0   0   0   0   0\n",
            "    0   0   0  52 233 254 233   0   0   0]\n",
            " [  0   0   0   0   0 253 252 223  20   0   0   0   0   0   0   0   0   0\n",
            "    0  21 142 233 252 233  50   0   0   0]\n",
            " [  0   0   0   0   0 234 253 254  71   0   0   0   0   0   0   0  21  72\n",
            "  152 254 253 254 233  82   0   0   0   0]\n",
            " [  0   0   0   0   0  71 252 253 232 142 102 102 102 102 102 163 223 253\n",
            "  252 253 252 172  30   0   0   0   0   0]\n",
            " [  0   0   0   0   0  21 183 255 253 255 253 254 253 254 253 254 253 254\n",
            "  233 142  20   0   0   0   0   0   0   0]\n",
            " [  0   0   0   0   0   0   0 112 232 253 252 253 252 253 252 253 171 131\n",
            "   30   0   0   0   0   0   0   0   0   0]\n",
            " [  0   0   0   0   0   0   0   0   0  62 102 102 102 102  20   0   0   0\n",
            "    0   0   0   0   0   0   0   0   0   0]\n",
            " [  0   0   0   0   0   0   0   0   0   0   0   0   0   0   0   0   0   0\n",
            "    0   0   0   0   0   0   0   0   0   0]\n",
            " [  0   0   0   0   0   0   0   0   0   0   0   0   0   0   0   0   0   0\n",
            "    0   0   0   0   0   0   0   0   0   0]\n",
            " [  0   0   0   0   0   0   0   0   0   0   0   0   0   0   0   0   0   0\n",
            "    0   0   0   0   0   0   0   0   0   0]\n",
            " [  0   0   0   0   0   0   0   0   0   0   0   0   0   0   0   0   0   0\n",
            "    0   0   0   0   0   0   0   0   0   0]]\n"
          ]
        }
      ]
    },
    {
      "cell_type": "code",
      "source": [
        "img = format_img_fpga(Numero_concreto)\n",
        "print(img)\n",
        "with open('MNSIT_0_index_concr_90.bin', 'wb') as f:\n",
        "    f.write(img)"
      ],
      "metadata": {
        "colab": {
          "base_uri": "https://localhost:8080/"
        },
        "id": "r8G6SfsPDbj-",
        "outputId": "425f85e5-887e-45ea-b948-01115052b809",
        "collapsed": true
      },
      "execution_count": 10,
      "outputs": [
        {
          "output_type": "stream",
          "name": "stdout",
          "text": [
            "[[  0   0   0   0   0   0   0   0   0   0   0   0   0   0   0   0   0   0\n",
            "    0   0   0   0   0   0   0   0   0   0   0   0   0   0   0   0   0   0\n",
            "    0   0   0   0   0   0   0   0   0   0   0   0   0   0   0   0   0   0\n",
            "    0   0   0   0   0   0   0   0   0   0   0   0   0   0   0   0   0   0\n",
            "    0   0   0   0   0   0   0   0   0   0   0   0   0   0   0   0   0   0\n",
            "    0   0   0   0   0   0   0   0   0   0   0   0   0   0   0   0   0   0\n",
            "    0   0   0   0   0   0   0   0   0   0   0   0   0   0   0   0   0   0\n",
            "    0   0   0   0   0   0   0   0   0   0   0   0   0   0   0   0   0   0\n",
            "    0   0   0   0   0   0   0   0   0   0   0   0   0   0   0   0   0   0\n",
            "    0   0   0   0   0   0   0   0   0   0   0   0   0   0   0   0   0   0\n",
            "   41 102 183 142 102  41   0   0   0   0   0   0   0   0   0   0   0   0\n",
            "    0   0   0   0   0   0   0  11  92 254 253 254 253 254 253 254 172  52\n",
            "   10   0   0   0   0   0   0   0   0   0   0   0   0   0   0   0   0 132\n",
            "  252 253 252 253 252 253 252 253 252 253 212  41   0   0   0   0   0   0\n",
            "    0   0   0   0   0   0   0   0 163 254 253 254 253 254 253 254 253 234\n",
            "  253 254 253 234  51   0   0   0   0   0   0   0   0   0   0   0   0 163\n",
            "  243 253 252 253 212  50  50  71 111  30  50 253 252 253 232  41   0   0\n",
            "    0   0   0   0   0   0   0   0  62 254 253 244 162  41   0   0   0   0\n",
            "    0   0   0 163 243 254 253 214  10   0   0   0   0   0   0   0   0  21\n",
            "  203 253 252 122   0   0   0   0   0   0   0   0   0   0  81 213 252 253\n",
            "  131   0   0   0   0   0   0   0   0  51 253 254 192   0   0   0   0   0\n",
            "    0   0   0   0   0   0   0  82 243 254 253   0   0   0   0   0   0   0\n",
            "    0 132 252 253  70   0   0   0   0   0   0   0   0   0   0   0   0   0\n",
            "  162 253 252   0   0   0   0   0   0   0   0 254 253 244  40   0   0   0\n",
            "    0   0   0   0   0   0   0   0   0   0 102 254 253   0   0   0   0   0\n",
            "    0   0   0 253 252 203   0   0   0   0   0   0   0   0   0   0   0   0\n",
            "    0   0 102 253 252   0   0   0   0   0   0   0   0 254 253 203   0   0\n",
            "    0   0   0   0   0   0   0   0   0   0   0  52 233 254 233   0   0   0\n",
            "    0   0   0   0   0 253 252 223  20   0   0   0   0   0   0   0   0   0\n",
            "    0  21 142 233 252 233  50   0   0   0   0   0   0   0   0 234 253 254\n",
            "   71   0   0   0   0   0   0   0  21  72 152 254 253 254 233  82   0   0\n",
            "    0   0   0   0   0   0   0  71 252 253 232 142 102 102 102 102 102 163\n",
            "  223 253 252 253 252 172  30   0   0   0   0   0   0   0   0   0   0  21\n",
            "  183 255 253 255 253 254 253 254 253 254 253 254 233 142  20   0   0   0\n",
            "    0   0   0   0   0   0   0   0   0   0   0 112 232 253 252 253 252 253\n",
            "  252 253 171 131  30   0   0   0   0   0   0   0   0   0   0   0   0   0\n",
            "    0   0   0   0   0  62 102 102 102 102  20   0   0   0   0   0   0   0\n",
            "    0   0   0   0   0   0   0   0   0   0   0   0   0   0   0   0   0   0\n",
            "    0   0   0   0   0   0   0   0   0   0   0   0   0   0   0   0   0   0\n",
            "    0   0   0   0   0   0   0   0   0   0   0   0   0   0   0   0   0   0\n",
            "    0   0   0   0   0   0   0   0   0   0   0   0   0   0   0   0   0   0\n",
            "    0   0   0   0   0   0   0   0   0   0   0   0   0   0   0   0   0   0\n",
            "    0   0   0   0   0   0   0   0   0   0   0   0   0   0   0   0   0   0\n",
            "    0   0   0   0   0   0   0   0   0   0   0]]\n"
          ]
        }
      ]
    },
    {
      "cell_type": "markdown",
      "source": [
        "EL UNO"
      ],
      "metadata": {
        "id": "VjdZ8jwdEMzK"
      }
    },
    {
      "cell_type": "code",
      "source": [
        "number_selected=1\n",
        "index_numero_concreto=15\n",
        "images_with_label_num = X_test[Y_test ==number_selected]\n",
        "labels_with_label_num = Y_test[Y_test == number_selected]\n",
        "Numero_concreto=images_with_label_num[index_numero_concreto]\n",
        "plt.title(labels_with_label_num[index_numero_concreto])\n",
        "plt.imshow(Numero_concreto,cmap='gray') #display sample training image\n",
        "plt.show()\n",
        "print(Numero_concreto)"
      ],
      "metadata": {
        "colab": {
          "base_uri": "https://localhost:8080/",
          "height": 1000
        },
        "id": "lj2wXfTPEOf5",
        "outputId": "00053471-758e-4874-d520-4f0ad12b7a3f",
        "collapsed": true
      },
      "execution_count": null,
      "outputs": [
        {
          "output_type": "display_data",
          "data": {
            "text/plain": [
              "<Figure size 640x480 with 1 Axes>"
            ],
            "image/png": "[encoded data removed]"
          },
          "metadata": {}
        },
        {
          "output_type": "stream",
          "name": "stdout",
          "text": [
            "[[  0   0   0   0   0   0   0   0   0   0   0   0   0   0   0   0   0   0\n",
            "    0   0   0   0   0   0   0   0   0   0]\n",
            " [  0   0   0   0   0   0   0   0   0   0   0   0   0   0   0   0   0   0\n",
            "    0   0   0   0   0   0   0   0   0   0]\n",
            " [  0   0   0   0   0   0   0   0   0   0   0   0   0   0   0   0   0   0\n",
            "    0   0   0   0   0   0   0   0   0   0]\n",
            " [  0   0   0   0   0   0   0   0   0   0   0   0   0   0   0   0   0   0\n",
            "    0   0   0   0   0   0   0   0   0   0]\n",
            " [  0   0   0   0   0   0   0   0   0   0   0   0   0  53 243 242  52   0\n",
            "    0   0   0   0   0   0   0   0   0   0]\n",
            " [  0   0   0   0   0   0   0   0   0   0   0   0   0 132 254 254 229  24\n",
            "    0   0   0   0   0   0   0   0   0   0]\n",
            " [  0   0   0   0   0   0   0   0   0   0   0   0   0 132 254 254 254  30\n",
            "    0   0   0   0   0   0   0   0   0   0]\n",
            " [  0   0   0   0   0   0   0   0   0   0   0   0   0 132 254 254 254  30\n",
            "    0   0   0   0   0   0   0   0   0   0]\n",
            " [  0   0   0   0   0   0   0   0   0   0   0   0   0 132 254 254 254  30\n",
            "    0   0   0   0   0   0   0   0   0   0]\n",
            " [  0   0   0   0   0   0   0   0   0   0   0   0   0 132 254 254 186  14\n",
            "    0   0   0   0   0   0   0   0   0   0]\n",
            " [  0   0   0   0   0   0   0   0   0   0   0   0  11 173 254 254 130   0\n",
            "    0   0   0   0   0   0   0   0   0   0]\n",
            " [  0   0   0   0   0   0   0   0   0   0   0   0  32 254 254 254 130   0\n",
            "    0   0   0   0   0   0   0   0   0   0]\n",
            " [  0   0   0   0   0   0   0   0   0   0   0   0  32 254 254 254 130   0\n",
            "    0   0   0   0   0   0   0   0   0   0]\n",
            " [  0   0   0   0   0   0   0   0   0   0   0   0  79 254 254 247  91   0\n",
            "    0   0   0   0   0   0   0   0   0   0]\n",
            " [  0   0   0   0   0   0   0   0   0   0   0   0 186 254 254 231   0   0\n",
            "    0   0   0   0   0   0   0   0   0   0]\n",
            " [  0   0   0   0   0   0   0   0   0   0   0   0 186 254 254 231   0   0\n",
            "    0   0   0   0   0   0   0   0   0   0]\n",
            " [  0   0   0   0   0   0   0   0   0   0   0   0 186 254 254 231   0   0\n",
            "    0   0   0   0   0   0   0   0   0   0]\n",
            " [  0   0   0   0   0   0   0   0   0   0   0   0 186 254 254 231   0   0\n",
            "    0   0   0   0   0   0   0   0   0   0]\n",
            " [  0   0   0   0   0   0   0   0   0   0   0   0 186 254 254 231   0   0\n",
            "    0   0   0   0   0   0   0   0   0   0]\n",
            " [  0   0   0   0   0   0   0   0   0   0   0   0 186 254 254 231   0   0\n",
            "    0   0   0   0   0   0   0   0   0   0]\n",
            " [  0   0   0   0   0   0   0   0   0   0   0   0 186 255 254 231   0   0\n",
            "    0   0   0   0   0   0   0   0   0   0]\n",
            " [  0   0   0   0   0   0   0   0   0   0   0   0 186 254 254 231   0   0\n",
            "    0   0   0   0   0   0   0   0   0   0]\n",
            " [  0   0   0   0   0   0   0   0   0   0   0   0 186 254 254 231   0   0\n",
            "    0   0   0   0   0   0   0   0   0   0]\n",
            " [  0   0   0   0   0   0   0   0   0   0   0   0  92 255 254 136   0   0\n",
            "    0   0   0   0   0   0   0   0   0   0]\n",
            " [  0   0   0   0   0   0   0   0   0   0   0   0   0   0   0   0   0   0\n",
            "    0   0   0   0   0   0   0   0   0   0]\n",
            " [  0   0   0   0   0   0   0   0   0   0   0   0   0   0   0   0   0   0\n",
            "    0   0   0   0   0   0   0   0   0   0]\n",
            " [  0   0   0   0   0   0   0   0   0   0   0   0   0   0   0   0   0   0\n",
            "    0   0   0   0   0   0   0   0   0   0]\n",
            " [  0   0   0   0   0   0   0   0   0   0   0   0   0   0   0   0   0   0\n",
            "    0   0   0   0   0   0   0   0   0   0]]\n"
          ]
        }
      ]
    },
    {
      "cell_type": "code",
      "source": [
        "img = format_img_fpga(Numero_concreto)\n",
        "print(img)\n",
        "with open('MNSIT_1_index_concr_15.bin', 'wb') as f:\n",
        "    f.write(img)"
      ],
      "metadata": {
        "colab": {
          "base_uri": "https://localhost:8080/"
        },
        "id": "RNOtXSaZEcTb",
        "outputId": "251804ed-8172-4271-8bdb-b9b6f436364c",
        "collapsed": true
      },
      "execution_count": null,
      "outputs": [
        {
          "output_type": "stream",
          "name": "stdout",
          "text": [
            "[[  0   0   0   0   0   0   0   0   0   0   0   0   0   0   0   0   0   0\n",
            "    0   0   0   0   0   0   0   0   0   0   0   0   0   0   0   0   0   0\n",
            "    0   0   0   0   0   0   0   0   0   0   0   0   0   0   0   0   0   0\n",
            "    0   0   0   0   0   0   0   0   0   0   0   0   0   0   0   0   0   0\n",
            "    0   0   0   0   0   0   0   0   0   0   0   0   0   0   0   0   0   0\n",
            "    0   0   0   0   0   0   0   0   0   0   0   0   0   0   0   0   0   0\n",
            "    0   0   0   0   0   0   0   0   0   0   0   0   0   0   0   0   0  53\n",
            "  243 242  52   0   0   0   0   0   0   0   0   0   0   0   0   0   0   0\n",
            "    0   0   0   0   0   0   0   0   0 132 254 254 229  24   0   0   0   0\n",
            "    0   0   0   0   0   0   0   0   0   0   0   0   0   0   0   0   0   0\n",
            "    0 132 254 254 254  30   0   0   0   0   0   0   0   0   0   0   0   0\n",
            "    0   0   0   0   0   0   0   0   0   0   0 132 254 254 254  30   0   0\n",
            "    0   0   0   0   0   0   0   0   0   0   0   0   0   0   0   0   0   0\n",
            "    0   0   0 132 254 254 254  30   0   0   0   0   0   0   0   0   0   0\n",
            "    0   0   0   0   0   0   0   0   0   0   0   0   0 132 254 254 186  14\n",
            "    0   0   0   0   0   0   0   0   0   0   0   0   0   0   0   0   0   0\n",
            "    0   0   0   0  11 173 254 254 130   0   0   0   0   0   0   0   0   0\n",
            "    0   0   0   0   0   0   0   0   0   0   0   0   0   0  32 254 254 254\n",
            "  130   0   0   0   0   0   0   0   0   0   0   0   0   0   0   0   0   0\n",
            "    0   0   0   0   0   0  32 254 254 254 130   0   0   0   0   0   0   0\n",
            "    0   0   0   0   0   0   0   0   0   0   0   0   0   0   0   0  79 254\n",
            "  254 247  91   0   0   0   0   0   0   0   0   0   0   0   0   0   0   0\n",
            "    0   0   0   0   0   0   0   0 186 254 254 231   0   0   0   0   0   0\n",
            "    0   0   0   0   0   0   0   0   0   0   0   0   0   0   0   0   0   0\n",
            "  186 254 254 231   0   0   0   0   0   0   0   0   0   0   0   0   0   0\n",
            "    0   0   0   0   0   0   0   0   0   0 186 254 254 231   0   0   0   0\n",
            "    0   0   0   0   0   0   0   0   0   0   0   0   0   0   0   0   0   0\n",
            "    0   0 186 254 254 231   0   0   0   0   0   0   0   0   0   0   0   0\n",
            "    0   0   0   0   0   0   0   0   0   0   0   0 186 254 254 231   0   0\n",
            "    0   0   0   0   0   0   0   0   0   0   0   0   0   0   0   0   0   0\n",
            "    0   0   0   0 186 254 254 231   0   0   0   0   0   0   0   0   0   0\n",
            "    0   0   0   0   0   0   0   0   0   0   0   0   0   0 186 255 254 231\n",
            "    0   0   0   0   0   0   0   0   0   0   0   0   0   0   0   0   0   0\n",
            "    0   0   0   0   0   0 186 254 254 231   0   0   0   0   0   0   0   0\n",
            "    0   0   0   0   0   0   0   0   0   0   0   0   0   0   0   0 186 254\n",
            "  254 231   0   0   0   0   0   0   0   0   0   0   0   0   0   0   0   0\n",
            "    0   0   0   0   0   0   0   0  92 255 254 136   0   0   0   0   0   0\n",
            "    0   0   0   0   0   0   0   0   0   0   0   0   0   0   0   0   0   0\n",
            "    0   0   0   0   0   0   0   0   0   0   0   0   0   0   0   0   0   0\n",
            "    0   0   0   0   0   0   0   0   0   0   0   0   0   0   0   0   0   0\n",
            "    0   0   0   0   0   0   0   0   0   0   0   0   0   0   0   0   0   0\n",
            "    0   0   0   0   0   0   0   0   0   0   0   0   0   0   0   0   0   0\n",
            "    0   0   0   0   0   0   0   0   0   0   0   0   0   0   0   0   0   0\n",
            "    0   0   0   0   0   0   0   0   0   0   0]]\n"
          ]
        }
      ]
    },
    {
      "cell_type": "markdown",
      "source": [
        "EL DOS"
      ],
      "metadata": {
        "id": "fcwfLKncJcvL"
      }
    },
    {
      "cell_type": "code",
      "source": [
        "number_selected=2\n",
        "index_numero_concreto=732\n",
        "images_with_label_num = X_test[Y_test ==number_selected]\n",
        "labels_with_label_num = Y_test[Y_test == number_selected]\n",
        "Numero_concreto=images_with_label_num[index_numero_concreto]\n",
        "plt.title(labels_with_label_num[index_numero_concreto])\n",
        "plt.imshow(Numero_concreto,cmap='gray') #display sample training image\n",
        "plt.show()\n",
        "print(Numero_concreto)"
      ],
      "metadata": {
        "colab": {
          "base_uri": "https://localhost:8080/",
          "height": 1000
        },
        "id": "gglZ7pPUJeaa",
        "outputId": "c0a66798-f455-4eff-f3a1-a6eca7fd761f",
        "collapsed": true
      },
      "execution_count": null,
      "outputs": [
        {
          "output_type": "display_data",
          "data": {
            "text/plain": [
              "<Figure size 640x480 with 1 Axes>"
            ],
            "image/png": "[encoded data removed]"
          },
          "metadata": {}
        },
        {
          "output_type": "stream",
          "name": "stdout",
          "text": [
            "[[  0   0   0   0   0   0   0   0   0   0   0   0   0   0   0   0   0   0\n",
            "    0   0   0   0   0   0   0   0   0   0]\n",
            " [  0   0   0   0   0   0   0   0   0   0   0   0   0   0   0   0   0   0\n",
            "    0   0   0   0   0   0   0   0   0   0]\n",
            " [  0   0   0   0   0   0   0   0   0   0   0   0   0   0   0   0   0   0\n",
            "    0   0   0   0   0   0   0   0   0   0]\n",
            " [  0   0   0   0   0   0   0   0   0   0   0   0   0   0   0   0   0   0\n",
            "    0   0   0   0   0   0   0   0   0   0]\n",
            " [  0   0   0   0   0   0   0   0   0   0   0   0   0  32 229 253  79  54\n",
            "  141 141  13   0   0   0   0   0   0   0]\n",
            " [  0   0   0   0   0   0   0   0   0   0   0   0   0 131 252 252 253 252\n",
            "  252 252 194  19   0   0   0   0   0   0]\n",
            " [  0   0   0   0   0   0   0   0   0   0   0   0  60 234 252 252 253 252\n",
            "  252 252 253 122   0   0   0   0   0   0]\n",
            " [  0   0   0   0   0   0   0   0   0   0   0   0 191 252 252 252 241 139\n",
            "   90 240 253 196   0   0   0   0   0   0]\n",
            " [  0   0   0   0   0   0   0   0   0   0   0  63 255 253 244 125   0   0\n",
            "    0 226 255 197   0   0   0   0   0   0]\n",
            " [  0   0   0   0   0   0   0   0   0   0   0  88 253 240  81   0   0   0\n",
            "    0 225 253 196   0   0   0   0   0   0]\n",
            " [  0   0   0   0   0   0   0   0   0   0   0   0  56  43   0   0   0   0\n",
            "   29 234 253 158   0   0   0   0   0   0]\n",
            " [  0   0   0   0   0   0   0   0   0   0   0   0   0   0   0   0   0   0\n",
            "  134 252 241  47   0   0   0   0   0   0]\n",
            " [  0   0   0   0   0   0   0   0   0   0   0   0   0   0   0   0   0  32\n",
            "  229 253 214   0   0   0   0   0   0   0]\n",
            " [  0   0   0   0   0   0   0   0   0   0   0   0   0   0   0   0   0 131\n",
            "  252 252  88   0   0   0   0   0   0   0]\n",
            " [  0   0   0   0   0   0   0   0   0   0   0   0  85  85  19   0  60 234\n",
            "  252 214   0   0   0   0   0   0   0   0]\n",
            " [  0   0   0   0   0   0   0   0  63 138 225 225 253 252 231 125 241 252\n",
            "  252  40   0   0   0   0   0   0   0   0]\n",
            " [  0   0   0   0   0   0   0  76 204 253 253 253 254 253 253 253 254 253\n",
            "  106   0   0   0   0   0   0   0   0   0]\n",
            " [  0   0   0   0   0   0  82 243 253 240 196 145 153 252 252 252 253 252\n",
            "  187  69   0  63  38   0   0   0   0   0]\n",
            " [  0   0   0   0   0  45 240 252 206  81   0   0 154 252 252 252 253 252\n",
            "  252 252 198 234  56   0   0   0   0   0]\n",
            " [  0   0   0   0   0 107 252 252 113   0  38 213 253 252 252 102  28 128\n",
            "  252 252 253 227  31   0   0   0   0   0]\n",
            " [  0   0   0   0   0 170 253 253  29 128 253 253 254 222  25   0   0   0\n",
            "    0 101 163  88   0   0   0   0   0   0]\n",
            " [  0   0   0   0   0 169 252 252 253 252 252 252 209  65   0   0   0   0\n",
            "    0   0   0   0   0   0   0   0   0   0]\n",
            " [  0   0   0   0   0  82 252 252 253 252 252 127  25   0   0   0   0   0\n",
            "    0   0   0   0   0   0   0   0   0   0]\n",
            " [  0   0   0   0   0   7 153 252 241 115  28   3   0   0   0   0   0   0\n",
            "    0   0   0   0   0   0   0   0   0   0]\n",
            " [  0   0   0   0   0   0   0   0   0   0   0   0   0   0   0   0   0   0\n",
            "    0   0   0   0   0   0   0   0   0   0]\n",
            " [  0   0   0   0   0   0   0   0   0   0   0   0   0   0   0   0   0   0\n",
            "    0   0   0   0   0   0   0   0   0   0]\n",
            " [  0   0   0   0   0   0   0   0   0   0   0   0   0   0   0   0   0   0\n",
            "    0   0   0   0   0   0   0   0   0   0]\n",
            " [  0   0   0   0   0   0   0   0   0   0   0   0   0   0   0   0   0   0\n",
            "    0   0   0   0   0   0   0   0   0   0]]\n"
          ]
        }
      ]
    },
    {
      "cell_type": "code",
      "source": [
        "img = format_img_fpga(Numero_concreto)\n",
        "print(img)\n",
        "with open('MNSIT_2_index_concr_732.bin', 'wb') as f:\n",
        "    f.write(img)"
      ],
      "metadata": {
        "colab": {
          "base_uri": "https://localhost:8080/"
        },
        "id": "W6043PL6JqPr",
        "outputId": "c3fb0d28-ba71-42c0-cab6-6ea940b2d6b6",
        "collapsed": true
      },
      "execution_count": null,
      "outputs": [
        {
          "output_type": "stream",
          "name": "stdout",
          "text": [
            "[[  0   0   0   0   0   0   0   0   0   0   0   0   0   0   0   0   0   0\n",
            "    0   0   0   0   0   0   0   0   0   0   0   0   0   0   0   0   0   0\n",
            "    0   0   0   0   0   0   0   0   0   0   0   0   0   0   0   0   0   0\n",
            "    0   0   0   0   0   0   0   0   0   0   0   0   0   0   0   0   0   0\n",
            "    0   0   0   0   0   0   0   0   0   0   0   0   0   0   0   0   0   0\n",
            "    0   0   0   0   0   0   0   0   0   0   0   0   0   0   0   0   0   0\n",
            "    0   0   0   0   0   0   0   0   0   0   0   0   0   0   0   0   0  32\n",
            "  229 253  79  54 141 141  13   0   0   0   0   0   0   0   0   0   0   0\n",
            "    0   0   0   0   0   0   0   0   0 131 252 252 253 252 252 252 194  19\n",
            "    0   0   0   0   0   0   0   0   0   0   0   0   0   0   0   0   0   0\n",
            "   60 234 252 252 253 252 252 252 253 122   0   0   0   0   0   0   0   0\n",
            "    0   0   0   0   0   0   0   0   0   0 191 252 252 252 241 139  90 240\n",
            "  253 196   0   0   0   0   0   0   0   0   0   0   0   0   0   0   0   0\n",
            "    0  63 255 253 244 125   0   0   0 226 255 197   0   0   0   0   0   0\n",
            "    0   0   0   0   0   0   0   0   0   0   0  88 253 240  81   0   0   0\n",
            "    0 225 253 196   0   0   0   0   0   0   0   0   0   0   0   0   0   0\n",
            "    0   0   0   0  56  43   0   0   0   0  29 234 253 158   0   0   0   0\n",
            "    0   0   0   0   0   0   0   0   0   0   0   0   0   0   0   0   0   0\n",
            "    0   0 134 252 241  47   0   0   0   0   0   0   0   0   0   0   0   0\n",
            "    0   0   0   0   0   0   0   0   0   0   0  32 229 253 214   0   0   0\n",
            "    0   0   0   0   0   0   0   0   0   0   0   0   0   0   0   0   0   0\n",
            "    0   0   0 131 252 252  88   0   0   0   0   0   0   0   0   0   0   0\n",
            "    0   0   0   0   0   0   0   0  85  85  19   0  60 234 252 214   0   0\n",
            "    0   0   0   0   0   0   0   0   0   0   0   0   0   0  63 138 225 225\n",
            "  253 252 231 125 241 252 252  40   0   0   0   0   0   0   0   0   0   0\n",
            "    0   0   0   0   0  76 204 253 253 253 254 253 253 253 254 253 106   0\n",
            "    0   0   0   0   0   0   0   0   0   0   0   0   0   0  82 243 253 240\n",
            "  196 145 153 252 252 252 253 252 187  69   0  63  38   0   0   0   0   0\n",
            "    0   0   0   0   0  45 240 252 206  81   0   0 154 252 252 252 253 252\n",
            "  252 252 198 234  56   0   0   0   0   0   0   0   0   0   0 107 252 252\n",
            "  113   0  38 213 253 252 252 102  28 128 252 252 253 227  31   0   0   0\n",
            "    0   0   0   0   0   0   0 170 253 253  29 128 253 253 254 222  25   0\n",
            "    0   0   0 101 163  88   0   0   0   0   0   0   0   0   0   0   0 169\n",
            "  252 252 253 252 252 252 209  65   0   0   0   0   0   0   0   0   0   0\n",
            "    0   0   0   0   0   0   0   0   0  82 252 252 253 252 252 127  25   0\n",
            "    0   0   0   0   0   0   0   0   0   0   0   0   0   0   0   0   0   0\n",
            "    0   7 153 252 241 115  28   3   0   0   0   0   0   0   0   0   0   0\n",
            "    0   0   0   0   0   0   0   0   0   0   0   0   0   0   0   0   0   0\n",
            "    0   0   0   0   0   0   0   0   0   0   0   0   0   0   0   0   0   0\n",
            "    0   0   0   0   0   0   0   0   0   0   0   0   0   0   0   0   0   0\n",
            "    0   0   0   0   0   0   0   0   0   0   0   0   0   0   0   0   0   0\n",
            "    0   0   0   0   0   0   0   0   0   0   0   0   0   0   0   0   0   0\n",
            "    0   0   0   0   0   0   0   0   0   0   0   0   0   0   0   0   0   0\n",
            "    0   0   0   0   0   0   0   0   0   0   0]]\n"
          ]
        }
      ]
    },
    {
      "cell_type": "markdown",
      "source": [
        "EL 3"
      ],
      "metadata": {
        "id": "7cHLuJvNaRL3"
      }
    },
    {
      "cell_type": "code",
      "source": [
        "number_selected=3\n",
        "index_numero_concreto=863\n",
        "images_with_label_num = X_test[Y_test ==number_selected]\n",
        "labels_with_label_num = Y_test[Y_test == number_selected]\n",
        "Numero_concreto=images_with_label_num[index_numero_concreto]\n",
        "plt.title(labels_with_label_num[index_numero_concreto])\n",
        "plt.imshow(Numero_concreto,cmap='gray') #display sample training image\n",
        "plt.show()\n",
        "print(Numero_concreto)"
      ],
      "metadata": {
        "colab": {
          "base_uri": "https://localhost:8080/",
          "height": 1000
        },
        "collapsed": true,
        "id": "i6OELhl_aTjQ",
        "outputId": "147e147d-833f-40d1-ffe7-d4c8dc60f254"
      },
      "execution_count": null,
      "outputs": [
        {
          "output_type": "display_data",
          "data": {
            "text/plain": [
              "<Figure size 640x480 with 1 Axes>"
            ],
            "image/png": "[encoded data removed]"
          },
          "metadata": {}
        },
        {
          "output_type": "stream",
          "name": "stdout",
          "text": [
            "[[  0   0   0   0   0   0   0   0   0   0   0   0   0   0   0   0   0   0\n",
            "    0   0   0   0   0   0   0   0   0   0]\n",
            " [  0   0   0   0   0   0   0   0   0   0   0   0   0   0   0   0   0   0\n",
            "    0   0   0   0   0   0   0   0   0   0]\n",
            " [  0   0   0   0   0   0   0   0   0   0   0   0   0   0   0   0   0   0\n",
            "    0   0   0   0   0   0   0   0   0   0]\n",
            " [  0   0   0   0   0   0   0   0   0   0   0   0   0   0   0   0   0   0\n",
            "    0   0   0   0   0   0   0   0   0   0]\n",
            " [  0   0   0   0   0   0   0   0   0   0   0   0   0   0   0   0   0   0\n",
            "    0   0   0   0   0   0   0   0   0   0]\n",
            " [  0   0   0   0   0   0   0   0   1  89 130 219 254 254 254 254 254 254\n",
            "  145  79   4   0   0   0   0   0   0   0]\n",
            " [  0   0   0   0   0   1  13  89 154 253 253 253 244 241 241 241 251 253\n",
            "  253 253 202   7   0   0   0   0   0   0]\n",
            " [  0   0   0   0   8 151 253 253 241 235 210 111  30   0   0   0  93 111\n",
            "  227 253 253  91   1   0   0   0   0   0]\n",
            " [  0   0   0  16 154 253 253 235  38   0   0   0   0   0   0   0   0   0\n",
            "  112 253 253 253   5   0   0   0   0   0]\n",
            " [  0   0   0 145 253 251 210  87   0   0   0   0   0   0   0   0  11  32\n",
            "  227 253 253 166   2   0   0   0   0   0]\n",
            " [  0   0   0 156 210  86   0   0   0   0   0   0   0   0  11 137 193 253\n",
            "  253 238 216  10   0   0   0   0   0   0]\n",
            " [  0   0   0   0   0   0   0   0   0   8  44  44 134 167 193 253 253 253\n",
            "  253 127   0   0   0   0   0   0   0   0]\n",
            " [  0   0   0   0   0   0   0   0   0 128 253 253 253 253 253 253 253 253\n",
            "  253 181  37   0   0   0   0   0   0   0]\n",
            " [  0   0   0   0   0   0   0   0   0 130 225 210 212 164  74  74  74  74\n",
            "  205 253 221   8   0   0   0   0   0   0]\n",
            " [  0   0   0   0   0   0   0   0   0   0  33  15  18   0   0   0   0   0\n",
            "   27 144 253 189   4   0   0   0   0   0]\n",
            " [  0   0   0   0   0   0   0   0   0   0   0   0   0   0   0   0   0   0\n",
            "    0  26 206 253 100   0   0   0   0   0]\n",
            " [  0   0   0   0   0   0   0   0   0   0   0   0   0   0   0   0   0   0\n",
            "    0   0 112 253 165   0   0   0   0   0]\n",
            " [  0   0   0   0  44  81  34   0   0   0   0   0   0   0   0   0   0   0\n",
            "    0   0  22 244 253   0   0   0   0   0]\n",
            " [  0   0   0 109 234 253 105   0   0   0   0   0   0   0   0   0   0   0\n",
            "    0   0  94 251 253   0   0   0   0   0]\n",
            " [  0   0   0  85 253 237  15   0   0   0   0   0   0   0   0   0   0   0\n",
            "    0   0 112 253 147   0   0   0   0   0]\n",
            " [  0   0   0   1 150 251 140   0   0   0   0   0   0   0   0   0   0   0\n",
            "    0  42 228 253 129   0   0   0   0   0]\n",
            " [  0   0   0   0  25 253 251 140   0   0   0   0   0   0   0   0   0   0\n",
            "    0 106 253 253  78   0   0   0   0   0]\n",
            " [  0   0   0   0   1  88 207 236  96   0   0   0   0   0   0   0   0  42\n",
            "  221 243 253  89   1   0   0   0   0   0]\n",
            " [  0   0   0   0   0   0  92 253 252 160  38   0   0  32 119 179 221 246\n",
            "  253 253 143   6   0   0   0   0   0   0]\n",
            " [  0   0   0   0   0   0   1  97 253 253 250 248 248 250 253 253 253 253\n",
            "  144  78   1   0   0   0   0   0   0   0]\n",
            " [  0   0   0   0   0   0   0   0   0   0   0   0   0   0   0   0   0   0\n",
            "    0   0   0   0   0   0   0   0   0   0]\n",
            " [  0   0   0   0   0   0   0   0   0   0   0   0   0   0   0   0   0   0\n",
            "    0   0   0   0   0   0   0   0   0   0]\n",
            " [  0   0   0   0   0   0   0   0   0   0   0   0   0   0   0   0   0   0\n",
            "    0   0   0   0   0   0   0   0   0   0]]\n"
          ]
        }
      ]
    },
    {
      "cell_type": "code",
      "source": [
        "img = format_img_fpga(Numero_concreto)\n",
        "print(img)\n",
        "with open('MNSIT_3_index_concr_863.bin', 'wb') as f:\n",
        "    f.write(img)"
      ],
      "metadata": {
        "colab": {
          "base_uri": "https://localhost:8080/"
        },
        "collapsed": true,
        "id": "0_YXzklCadKw",
        "outputId": "2192cee6-33ca-4ca0-959e-ef3a835e2863"
      },
      "execution_count": null,
      "outputs": [
        {
          "output_type": "stream",
          "name": "stdout",
          "text": [
            "[[  0   0   0   0   0   0   0   0   0   0   0   0   0   0   0   0   0   0\n",
            "    0   0   0   0   0   0   0   0   0   0   0   0   0   0   0   0   0   0\n",
            "    0   0   0   0   0   0   0   0   0   0   0   0   0   0   0   0   0   0\n",
            "    0   0   0   0   0   0   0   0   0   0   0   0   0   0   0   0   0   0\n",
            "    0   0   0   0   0   0   0   0   0   0   0   0   0   0   0   0   0   0\n",
            "    0   0   0   0   0   0   0   0   0   0   0   0   0   0   0   0   0   0\n",
            "    0   0   0   0   0   0   0   0   0   0   0   0   0   0   0   0   0   0\n",
            "    0   0   0   0   0   0   0   0   0   0   0   0   0   0   0   0   0   0\n",
            "    0   0   0   0   1  89 130 219 254 254 254 254 254 254 145  79   4   0\n",
            "    0   0   0   0   0   0   0   0   0   0   0   1  13  89 154 253 253 253\n",
            "  244 241 241 241 251 253 253 253 202   7   0   0   0   0   0   0   0   0\n",
            "    0   0   8 151 253 253 241 235 210 111  30   0   0   0  93 111 227 253\n",
            "  253  91   1   0   0   0   0   0   0   0   0  16 154 253 253 235  38   0\n",
            "    0   0   0   0   0   0   0   0 112 253 253 253   5   0   0   0   0   0\n",
            "    0   0   0 145 253 251 210  87   0   0   0   0   0   0   0   0  11  32\n",
            "  227 253 253 166   2   0   0   0   0   0   0   0   0 156 210  86   0   0\n",
            "    0   0   0   0   0   0  11 137 193 253 253 238 216  10   0   0   0   0\n",
            "    0   0   0   0   0   0   0   0   0   0   0   8  44  44 134 167 193 253\n",
            "  253 253 253 127   0   0   0   0   0   0   0   0   0   0   0   0   0   0\n",
            "    0   0   0 128 253 253 253 253 253 253 253 253 253 181  37   0   0   0\n",
            "    0   0   0   0   0   0   0   0   0   0   0   0   0 130 225 210 212 164\n",
            "   74  74  74  74 205 253 221   8   0   0   0   0   0   0   0   0   0   0\n",
            "    0   0   0   0   0   0  33  15  18   0   0   0   0   0  27 144 253 189\n",
            "    4   0   0   0   0   0   0   0   0   0   0   0   0   0   0   0   0   0\n",
            "    0   0   0   0   0   0   0  26 206 253 100   0   0   0   0   0   0   0\n",
            "    0   0   0   0   0   0   0   0   0   0   0   0   0   0   0   0   0   0\n",
            "  112 253 165   0   0   0   0   0   0   0   0   0  44  81  34   0   0   0\n",
            "    0   0   0   0   0   0   0   0   0   0  22 244 253   0   0   0   0   0\n",
            "    0   0   0 109 234 253 105   0   0   0   0   0   0   0   0   0   0   0\n",
            "    0   0  94 251 253   0   0   0   0   0   0   0   0  85 253 237  15   0\n",
            "    0   0   0   0   0   0   0   0   0   0   0   0 112 253 147   0   0   0\n",
            "    0   0   0   0   0   1 150 251 140   0   0   0   0   0   0   0   0   0\n",
            "    0   0   0  42 228 253 129   0   0   0   0   0   0   0   0   0  25 253\n",
            "  251 140   0   0   0   0   0   0   0   0   0   0   0 106 253 253  78   0\n",
            "    0   0   0   0   0   0   0   0   1  88 207 236  96   0   0   0   0   0\n",
            "    0   0   0  42 221 243 253  89   1   0   0   0   0   0   0   0   0   0\n",
            "    0   0  92 253 252 160  38   0   0  32 119 179 221 246 253 253 143   6\n",
            "    0   0   0   0   0   0   0   0   0   0   0   0   1  97 253 253 250 248\n",
            "  248 250 253 253 253 253 144  78   1   0   0   0   0   0   0   0   0   0\n",
            "    0   0   0   0   0   0   0   0   0   0   0   0   0   0   0   0   0   0\n",
            "    0   0   0   0   0   0   0   0   0   0   0   0   0   0   0   0   0   0\n",
            "    0   0   0   0   0   0   0   0   0   0   0   0   0   0   0   0   0   0\n",
            "    0   0   0   0   0   0   0   0   0   0   0   0   0   0   0   0   0   0\n",
            "    0   0   0   0   0   0   0   0   0   0   0]]\n"
          ]
        }
      ]
    },
    {
      "cell_type": "markdown",
      "source": [
        "EL CUATRO"
      ],
      "metadata": {
        "id": "d6k4OuLbdNIl"
      }
    },
    {
      "cell_type": "code",
      "source": [
        "number_selected=4\n",
        "index_numero_concreto=344\n",
        "images_with_label_num = X_test[Y_test ==number_selected]\n",
        "labels_with_label_num = Y_test[Y_test == number_selected]\n",
        "Numero_concreto=images_with_label_num[index_numero_concreto]\n",
        "plt.title(labels_with_label_num[index_numero_concreto])\n",
        "plt.imshow(Numero_concreto,cmap='gray') #display sample training image\n",
        "plt.show()\n",
        "print(Numero_concreto)"
      ],
      "metadata": {
        "colab": {
          "base_uri": "https://localhost:8080/",
          "height": 1000
        },
        "id": "1J10yStwdQOl",
        "outputId": "8cda09bd-54fa-4b9a-c8fb-66844db2b492",
        "collapsed": true
      },
      "execution_count": null,
      "outputs": [
        {
          "output_type": "display_data",
          "data": {
            "text/plain": [
              "<Figure size 640x480 with 1 Axes>"
            ],
            "image/png": "[encoded data removed]"
          },
          "metadata": {}
        },
        {
          "output_type": "stream",
          "name": "stdout",
          "text": [
            "[[  0   0   0   0   0   0   0   0   0   0   0   0   0   0   0   0   0   0\n",
            "    0   0   0   0   0   0   0   0   0   0]\n",
            " [  0   0   0   0   0   0   0   0   0   0   0   0   0   0   0   0   0   0\n",
            "    0   0   0   0   0   0   0   0   0   0]\n",
            " [  0   0   0   0   0   0   0   0   0   0   0   0   0   0   0   0   0   0\n",
            "    0   0   0   0   0   0   0   0   0   0]\n",
            " [  0   0   0   0   0   0   0   0   0   0   0   0   0   0   0   0   0   0\n",
            "    0   0   0   0   0   0   0   0   0   0]\n",
            " [  0   0   0   0   0   0   0   0   0   0   0   0   0   0   0   0   0   0\n",
            "    0   0   0   0   0   0   0   0   0   0]\n",
            " [  0   0   0   0   0   0   0   0   0   0   0   0   0   0   0   0   0   0\n",
            "    0   0   0   0   0   0   0   0   0   0]\n",
            " [  0   0   0   0   0   0   0   0   0   0   0   0   0   0   0   0   0   0\n",
            "  220 102   0   0   0   0   0   0   0   0]\n",
            " [  0   0   0   0   0   0   0   0   0   0  96  69   0   0   0   0   0  52\n",
            "  253 161   0   0   0   0   0   0   0   0]\n",
            " [  0   0   0   0   0   0   0   0   0  85 250  61   0   0   0   0   0 105\n",
            "  254 131   0   0   0   0   0   0   0   0]\n",
            " [  0   0   0   0   0   0   0   0  10 211 239  28   0   0   0   0   0 189\n",
            "  229  29   0   0   0   0   0   0   0   0]\n",
            " [  0   0   0   0   0   0   0   0 121 254 151   0   0   0   0   0  54 250\n",
            "  210   0   0   0   0   0   0   0   0   0]\n",
            " [  0   0   0   0   0   0   0   0 144 237  42   0   0   0   0   0  62 254\n",
            "  210   0   0   0   0   0   0   0   0   0]\n",
            " [  0   0   0   0   0   0   0   6 223 148   0   0   0   0   0   0 131 254\n",
            "  214  23   0   0   0   0   0   0   0   0]\n",
            " [  0   0   0   0   0   0   0  53 254 131   0   0   0   0   0   5 187 254\n",
            "  254 206   0   0   0   0   0   0   0   0]\n",
            " [  0   0   0   0   0   0   0  51 252 208  23   0   0   7  67 170 254 252\n",
            "  214  12   0   0   0   0   0   0   0   0]\n",
            " [  0   0   0   0   0   0   0   0 189 254 218 139  88 202 254 254 254 170\n",
            "    0   0   0   0   0   0   0   0   0   0]\n",
            " [  0   0   0   0   0   0   0   0  46 199 254 254 255 200 119 191 254 114\n",
            "    0   0   0   0   0   0   0   0   0   0]\n",
            " [  0   0   0   0   0   0   0   0   0  47 156 127  93   3   0 182 254  59\n",
            "    0   0   0   0   0   0   0   0   0   0]\n",
            " [  0   0   0   0   0   0   0   0   0   0   0   0   0   0  47 250 196   2\n",
            "    0   0   0   0   0   0   0   0   0   0]\n",
            " [  0   0   0   0   0   0   0   0   0   0   0   0   0   0  80 254 143   0\n",
            "    0   0   0   0   0   0   0   0   0   0]\n",
            " [  0   0   0   0   0   0   0   0   0   0   0   0   0   0  80 254 105   0\n",
            "    0   0   0   0   0   0   0   0   0   0]\n",
            " [  0   0   0   0   0   0   0   0   0   0   0   0   0   0 139 254  63   0\n",
            "    0   0   0   0   0   0   0   0   0   0]\n",
            " [  0   0   0   0   0   0   0   0   0   0   0   0   0   0  80 254  87   0\n",
            "    0   0   0   0   0   0   0   0   0   0]\n",
            " [  0   0   0   0   0   0   0   0   0   0   0   0   0   0  80 254 141   0\n",
            "    0   0   0   0   0   0   0   0   0   0]\n",
            " [  0   0   0   0   0   0   0   0   0   0   0   0   0   0  50 248 192   0\n",
            "    0   0   0   0   0   0   0   0   0   0]\n",
            " [  0   0   0   0   0   0   0   0   0   0   0   0   0   0   0 128 102   0\n",
            "    0   0   0   0   0   0   0   0   0   0]\n",
            " [  0   0   0   0   0   0   0   0   0   0   0   0   0   0   0   0   0   0\n",
            "    0   0   0   0   0   0   0   0   0   0]\n",
            " [  0   0   0   0   0   0   0   0   0   0   0   0   0   0   0   0   0   0\n",
            "    0   0   0   0   0   0   0   0   0   0]]\n"
          ]
        }
      ]
    },
    {
      "cell_type": "code",
      "source": [
        "img = format_img_fpga(Numero_concreto)\n",
        "print(img)\n",
        "with open('MNSIT_4_index_concr_344.bin', 'wb') as f:\n",
        "    f.write(img)"
      ],
      "metadata": {
        "colab": {
          "base_uri": "https://localhost:8080/"
        },
        "id": "p5uTwi7udsVu",
        "outputId": "a4d23a31-b890-461b-da3a-fd0de461bb34",
        "collapsed": true
      },
      "execution_count": null,
      "outputs": [
        {
          "output_type": "stream",
          "name": "stdout",
          "text": [
            "[[  0   0   0   0   0   0   0   0   0   0   0   0   0   0   0   0   0   0\n",
            "    0   0   0   0   0   0   0   0   0   0   0   0   0   0   0   0   0   0\n",
            "    0   0   0   0   0   0   0   0   0   0   0   0   0   0   0   0   0   0\n",
            "    0   0   0   0   0   0   0   0   0   0   0   0   0   0   0   0   0   0\n",
            "    0   0   0   0   0   0   0   0   0   0   0   0   0   0   0   0   0   0\n",
            "    0   0   0   0   0   0   0   0   0   0   0   0   0   0   0   0   0   0\n",
            "    0   0   0   0   0   0   0   0   0   0   0   0   0   0   0   0   0   0\n",
            "    0   0   0   0   0   0   0   0   0   0   0   0   0   0   0   0   0   0\n",
            "    0   0   0   0   0   0   0   0   0   0   0   0   0   0   0   0   0   0\n",
            "    0   0   0   0   0   0   0   0   0   0   0   0   0   0   0   0   0   0\n",
            "    0   0   0   0   0   0 220 102   0   0   0   0   0   0   0   0   0   0\n",
            "    0   0   0   0   0   0   0   0  96  69   0   0   0   0   0  52 253 161\n",
            "    0   0   0   0   0   0   0   0   0   0   0   0   0   0   0   0   0  85\n",
            "  250  61   0   0   0   0   0 105 254 131   0   0   0   0   0   0   0   0\n",
            "    0   0   0   0   0   0   0   0  10 211 239  28   0   0   0   0   0 189\n",
            "  229  29   0   0   0   0   0   0   0   0   0   0   0   0   0   0   0   0\n",
            "  121 254 151   0   0   0   0   0  54 250 210   0   0   0   0   0   0   0\n",
            "    0   0   0   0   0   0   0   0   0   0 144 237  42   0   0   0   0   0\n",
            "   62 254 210   0   0   0   0   0   0   0   0   0   0   0   0   0   0   0\n",
            "    0   6 223 148   0   0   0   0   0   0 131 254 214  23   0   0   0   0\n",
            "    0   0   0   0   0   0   0   0   0   0   0  53 254 131   0   0   0   0\n",
            "    0   5 187 254 254 206   0   0   0   0   0   0   0   0   0   0   0   0\n",
            "    0   0   0  51 252 208  23   0   0   7  67 170 254 252 214  12   0   0\n",
            "    0   0   0   0   0   0   0   0   0   0   0   0   0   0 189 254 218 139\n",
            "   88 202 254 254 254 170   0   0   0   0   0   0   0   0   0   0   0   0\n",
            "    0   0   0   0   0   0  46 199 254 254 255 200 119 191 254 114   0   0\n",
            "    0   0   0   0   0   0   0   0   0   0   0   0   0   0   0   0   0  47\n",
            "  156 127  93   3   0 182 254  59   0   0   0   0   0   0   0   0   0   0\n",
            "    0   0   0   0   0   0   0   0   0   0   0   0   0   0  47 250 196   2\n",
            "    0   0   0   0   0   0   0   0   0   0   0   0   0   0   0   0   0   0\n",
            "    0   0   0   0   0   0  80 254 143   0   0   0   0   0   0   0   0   0\n",
            "    0   0   0   0   0   0   0   0   0   0   0   0   0   0   0   0  80 254\n",
            "  105   0   0   0   0   0   0   0   0   0   0   0   0   0   0   0   0   0\n",
            "    0   0   0   0   0   0   0   0 139 254  63   0   0   0   0   0   0   0\n",
            "    0   0   0   0   0   0   0   0   0   0   0   0   0   0   0   0   0   0\n",
            "   80 254  87   0   0   0   0   0   0   0   0   0   0   0   0   0   0   0\n",
            "    0   0   0   0   0   0   0   0   0   0  80 254 141   0   0   0   0   0\n",
            "    0   0   0   0   0   0   0   0   0   0   0   0   0   0   0   0   0   0\n",
            "    0   0  50 248 192   0   0   0   0   0   0   0   0   0   0   0   0   0\n",
            "    0   0   0   0   0   0   0   0   0   0   0   0   0 128 102   0   0   0\n",
            "    0   0   0   0   0   0   0   0   0   0   0   0   0   0   0   0   0   0\n",
            "    0   0   0   0   0   0   0   0   0   0   0   0   0   0   0   0   0   0\n",
            "    0   0   0   0   0   0   0   0   0   0   0   0   0   0   0   0   0   0\n",
            "    0   0   0   0   0   0   0   0   0   0   0]]\n"
          ]
        }
      ]
    },
    {
      "cell_type": "markdown",
      "source": [
        "EL CINCO"
      ],
      "metadata": {
        "id": "fbH8SLe7pJ-C"
      }
    },
    {
      "cell_type": "code",
      "source": [
        "number_selected=5\n",
        "index_numero_concreto=775\n",
        "images_with_label_num = X_test[Y_test ==number_selected]\n",
        "labels_with_label_num = Y_test[Y_test == number_selected]\n",
        "Numero_concreto=images_with_label_num[index_numero_concreto]\n",
        "plt.title(labels_with_label_num[index_numero_concreto])\n",
        "plt.imshow(Numero_concreto,cmap='gray') #display sample training image\n",
        "plt.show()\n",
        "print(Numero_concreto)"
      ],
      "metadata": {
        "colab": {
          "base_uri": "https://localhost:8080/",
          "height": 1000
        },
        "collapsed": true,
        "id": "XuubzogWpM3K",
        "outputId": "bf126fb5-3f24-4e80-c36f-978c6d2c0003"
      },
      "execution_count": null,
      "outputs": [
        {
          "output_type": "display_data",
          "data": {
            "text/plain": [
              "<Figure size 640x480 with 1 Axes>"
            ],
            "image/png": "[encoded data removed]"
          },
          "metadata": {}
        },
        {
          "output_type": "stream",
          "name": "stdout",
          "text": [
            "[[  0   0   0   0   0   0   0   0   0   0   0   0   0   0   0   0   0   0\n",
            "    0   0   0   0   0   0   0   0   0   0]\n",
            " [  0   0   0   0   0   0   0   0   0   0   0   0   0   0   0   0   0   0\n",
            "    0   0   0   0   0   0   0   0   0   0]\n",
            " [  0   0   0   0   0   0   0   0   0   0   0   0   0   0   0   0   0   0\n",
            "    0   0   0   0   0   0   0   0   0   0]\n",
            " [  0   0   0   0   0   0   0   0   0   0   0   0   0   0   0   0   0   0\n",
            "    0   0   0   0   0   0   0   0   0   0]\n",
            " [  0   0   0   0   0   0   0   0   0   0   0   0   0   0  32  70 162 245\n",
            "  245  44   0   0   0   0   0   0   0   0]\n",
            " [  0   0   0   0   0   0   0   0   0  26  47 114 139 155 241 253 254 227\n",
            "  123   6   0   0   0   0   0   0   0   0]\n",
            " [  0   0   0   0   0   0   0   0   0 126 249 253 254 240 221 137  80  21\n",
            "    0   0   0   0   0   0   0   0   0   0]\n",
            " [  0   0   0   0   0   0   0   0   0   0 140 253 136  31   0   0   0   0\n",
            "    0   0   0   0   0   0   0   0   0   0]\n",
            " [  0   0   0   0   0   0   0   0   0  13 153 161   0   0   0   0   0   0\n",
            "    0   0   0   0   0   0   0   0   0   0]\n",
            " [  0   0   0   0   0   0   0   0  30 185 223  73   0   0   0   0   0   0\n",
            "    0   0   0   0   0   0   0   0   0   0]\n",
            " [  0   0   0   0   0   0   3  91 237 248 102  57 116 199 132 116  17   0\n",
            "    0   0   0   0   0   0   0   0   0   0]\n",
            " [  0   0   0   0   0  17 174 253 254 240 215 253 161 160 202 253 235 167\n",
            "   17   0   0   0   0   0   0   0   0   0]\n",
            " [  0   0   0   0   0 114 254 203 127  76   0   0   0   0   0  68 204 254\n",
            "  245  69   0   0   0   0   0   0   0   0]\n",
            " [  0   0   0   0   0   5  23   6   0   0   0   0   0   0   0   0   7 124\n",
            "  244 245  51   0   0   0   0   0   0   0]\n",
            " [  0   0   0   0   0   0   0   0   0   0   0   0   0   0   0   0   0   0\n",
            "  124 253 199  11   0   0   0   0   0   0]\n",
            " [  0   0   0   0   0   0   0   0   0   0   0   0   0   0   0   0   0   0\n",
            "    7 203 254  90   0   0   0   0   0   0]\n",
            " [  0   0   0   0   0   0   0   0   0   0   0   0   0   0   0   0   0   0\n",
            "    0  34 254 186  13   0   0   0   0   0]\n",
            " [  0   0   0   0   0   0   0   0   0   0   0   0   0   0   0   0   0   0\n",
            "    0   0 254 253  46   0   0   0   0   0]\n",
            " [  0   0   0   0   0   0   0   0   9   0   0   0   0   0   0   0   0   0\n",
            "    0   0 254 253  46   0   0   0   0   0]\n",
            " [  0   0   0   0   0   0   0  68 127   0   0   0   0   0   0   0   0   0\n",
            "    0 102 254 219  13   0   0   0   0   0]\n",
            " [  0   0   0   0   0   0   0  68 229  40   0   0   0   0   0   0   0  13\n",
            "  153 254 255 115   0   0   0   0   0   0]\n",
            " [  0   0   0   0   0   0   0   0 237 190  59   0   0   0   5  47 164 235\n",
            "  253 253 124  11   0   0   0   0   0   0]\n",
            " [  0   0   0   0   0   0   0   0  88 234 249 207 208 207 212 253 254 248\n",
            "  154  71   0   0   0   0   0   0   0   0]\n",
            " [  0   0   0   0   0   0   0   0   0  89 202 253 254 253 253 253 161  64\n",
            "    0   0   0   0   0   0   0   0   0   0]\n",
            " [  0   0   0   0   0   0   0   0   0   0   0   0   0   0   0   0   0   0\n",
            "    0   0   0   0   0   0   0   0   0   0]\n",
            " [  0   0   0   0   0   0   0   0   0   0   0   0   0   0   0   0   0   0\n",
            "    0   0   0   0   0   0   0   0   0   0]\n",
            " [  0   0   0   0   0   0   0   0   0   0   0   0   0   0   0   0   0   0\n",
            "    0   0   0   0   0   0   0   0   0   0]\n",
            " [  0   0   0   0   0   0   0   0   0   0   0   0   0   0   0   0   0   0\n",
            "    0   0   0   0   0   0   0   0   0   0]]\n"
          ]
        }
      ]
    },
    {
      "cell_type": "code",
      "source": [
        "img = format_img_fpga(Numero_concreto)\n",
        "print(img)\n",
        "with open('MNSIT_5_index_concr_775.bin', 'wb') as f:\n",
        "    f.write(img)"
      ],
      "metadata": {
        "colab": {
          "base_uri": "https://localhost:8080/"
        },
        "collapsed": true,
        "id": "6zTEvH1UpPZy",
        "outputId": "6a490031-e51b-46b2-afe5-73d92cc81e6d"
      },
      "execution_count": null,
      "outputs": [
        {
          "output_type": "stream",
          "name": "stdout",
          "text": [
            "[[  0   0   0   0   0   0   0   0   0   0   0   0   0   0   0   0   0   0\n",
            "    0   0   0   0   0   0   0   0   0   0   0   0   0   0   0   0   0   0\n",
            "    0   0   0   0   0   0   0   0   0   0   0   0   0   0   0   0   0   0\n",
            "    0   0   0   0   0   0   0   0   0   0   0   0   0   0   0   0   0   0\n",
            "    0   0   0   0   0   0   0   0   0   0   0   0   0   0   0   0   0   0\n",
            "    0   0   0   0   0   0   0   0   0   0   0   0   0   0   0   0   0   0\n",
            "    0   0   0   0   0   0   0   0   0   0   0   0   0   0   0   0   0   0\n",
            "   32  70 162 245 245  44   0   0   0   0   0   0   0   0   0   0   0   0\n",
            "    0   0   0   0   0  26  47 114 139 155 241 253 254 227 123   6   0   0\n",
            "    0   0   0   0   0   0   0   0   0   0   0   0   0   0   0 126 249 253\n",
            "  254 240 221 137  80  21   0   0   0   0   0   0   0   0   0   0   0   0\n",
            "    0   0   0   0   0   0   0   0 140 253 136  31   0   0   0   0   0   0\n",
            "    0   0   0   0   0   0   0   0   0   0   0   0   0   0   0   0   0  13\n",
            "  153 161   0   0   0   0   0   0   0   0   0   0   0   0   0   0   0   0\n",
            "    0   0   0   0   0   0   0   0  30 185 223  73   0   0   0   0   0   0\n",
            "    0   0   0   0   0   0   0   0   0   0   0   0   0   0   0   0   3  91\n",
            "  237 248 102  57 116 199 132 116  17   0   0   0   0   0   0   0   0   0\n",
            "    0   0   0   0   0   0   0  17 174 253 254 240 215 253 161 160 202 253\n",
            "  235 167  17   0   0   0   0   0   0   0   0   0   0   0   0   0   0 114\n",
            "  254 203 127  76   0   0   0   0   0  68 204 254 245  69   0   0   0   0\n",
            "    0   0   0   0   0   0   0   0   0   5  23   6   0   0   0   0   0   0\n",
            "    0   0   7 124 244 245  51   0   0   0   0   0   0   0   0   0   0   0\n",
            "    0   0   0   0   0   0   0   0   0   0   0   0   0   0 124 253 199  11\n",
            "    0   0   0   0   0   0   0   0   0   0   0   0   0   0   0   0   0   0\n",
            "    0   0   0   0   0   0   7 203 254  90   0   0   0   0   0   0   0   0\n",
            "    0   0   0   0   0   0   0   0   0   0   0   0   0   0   0   0   0  34\n",
            "  254 186  13   0   0   0   0   0   0   0   0   0   0   0   0   0   0   0\n",
            "    0   0   0   0   0   0   0   0   0   0 254 253  46   0   0   0   0   0\n",
            "    0   0   0   0   0   0   0   0   9   0   0   0   0   0   0   0   0   0\n",
            "    0   0 254 253  46   0   0   0   0   0   0   0   0   0   0   0   0  68\n",
            "  127   0   0   0   0   0   0   0   0   0   0 102 254 219  13   0   0   0\n",
            "    0   0   0   0   0   0   0   0   0  68 229  40   0   0   0   0   0   0\n",
            "    0  13 153 254 255 115   0   0   0   0   0   0   0   0   0   0   0   0\n",
            "    0   0 237 190  59   0   0   0   5  47 164 235 253 253 124  11   0   0\n",
            "    0   0   0   0   0   0   0   0   0   0   0   0  88 234 249 207 208 207\n",
            "  212 253 254 248 154  71   0   0   0   0   0   0   0   0   0   0   0   0\n",
            "    0   0   0   0   0  89 202 253 254 253 253 253 161  64   0   0   0   0\n",
            "    0   0   0   0   0   0   0   0   0   0   0   0   0   0   0   0   0   0\n",
            "    0   0   0   0   0   0   0   0   0   0   0   0   0   0   0   0   0   0\n",
            "    0   0   0   0   0   0   0   0   0   0   0   0   0   0   0   0   0   0\n",
            "    0   0   0   0   0   0   0   0   0   0   0   0   0   0   0   0   0   0\n",
            "    0   0   0   0   0   0   0   0   0   0   0   0   0   0   0   0   0   0\n",
            "    0   0   0   0   0   0   0   0   0   0   0   0   0   0   0   0   0   0\n",
            "    0   0   0   0   0   0   0   0   0   0   0]]\n"
          ]
        }
      ]
    },
    {
      "cell_type": "markdown",
      "source": [
        "EL SEIS"
      ],
      "metadata": {
        "id": "nXDfT07ZDY8t"
      }
    },
    {
      "cell_type": "code",
      "source": [
        "number_selected=6\n",
        "index_numero_concreto=296\n",
        "images_with_label_num = X_test[Y_test ==number_selected]\n",
        "labels_with_label_num = Y_test[Y_test == number_selected]\n",
        "Numero_concreto=images_with_label_num[index_numero_concreto]\n",
        "plt.title(labels_with_label_num[index_numero_concreto])\n",
        "plt.imshow(Numero_concreto,cmap='gray') #display sample training image\n",
        "plt.show()\n",
        "print(Numero_concreto)"
      ],
      "metadata": {
        "collapsed": true,
        "id": "lp8Fboyxh-ey",
        "colab": {
          "base_uri": "https://localhost:8080/",
          "height": 1000
        },
        "outputId": "5c07abcc-e1e3-4c37-e148-efe63c0559b6"
      },
      "execution_count": null,
      "outputs": [
        {
          "output_type": "display_data",
          "data": {
            "text/plain": [
              "<Figure size 640x480 with 1 Axes>"
            ],
            "image/png": "[encoded data removed]"
          },
          "metadata": {}
        },
        {
          "output_type": "stream",
          "name": "stdout",
          "text": [
            "[[  0   0   0   0   0   0   0   0   0   0   0   0   0   0   0   0   0   0\n",
            "    0   0   0   0   0   0   0   0   0   0]\n",
            " [  0   0   0   0   0   0   0   0   0   0   0   0   0   0   0   0   0   0\n",
            "    0   0   0   0   0   0   0   0   0   0]\n",
            " [  0   0   0   0   0   0   0   0   0   0   0   0   0   0   0   0   0   0\n",
            "    0   0   0   0   0   0   0   0   0   0]\n",
            " [  0   0   0   0   0   0   0   0   0   0   0   0   0   0   0  70 202 230\n",
            "   44   0   0   0   0   0   0   0   0   0]\n",
            " [  0   0   0   0   0   0   0   0   0   0   0   0   0  38 146 240 254 254\n",
            "  156   0   0   0   0   0   0   0   0   0]\n",
            " [  0   0   0   0   0   0   0   0   0   0   0   0  40 230 254 254 252 151\n",
            "   20   0   0   0   0   0   0   0   0   0]\n",
            " [  0   0   0   0   0   0   0   0   0   0   0   0 106 254 254 254 106   0\n",
            "    0   0   0   0   0   0   0   0   0   0]\n",
            " [  0   0   0   0   0   0   0   0   0   0   0 119 240 254 254 105   4   0\n",
            "    0   0   0   0   0   0   0   0   0   0]\n",
            " [  0   0   0   0   0   0   0   0   0   0   6 203 254 254 150   6   0   0\n",
            "    0   0   0   0   0   0   0   0   0   0]\n",
            " [  0   0   0   0   0   0   0   0   0   0  79 254 254 238   0   0   0   0\n",
            "    0   0   0   0   0   0   0   0   0   0]\n",
            " [  0   0   0   0   0   0   0   0   0   0 157 254 254 154   0   0   0   0\n",
            "    0   0   0   0   0   0   0   0   0   0]\n",
            " [  0   0   0   0   0   0   0   0   0  41 241 254 254  30   0   0   9  17\n",
            "   17   1   0   0   0   0   0   0   0   0]\n",
            " [  0   0   0   0   0   0   0   0   0 106 254 254 199   8   0  83 210 254\n",
            "  254 103   0   0   0   0   0   0   0   0]\n",
            " [  0   0   0   0   0   0   0   0   0 105 254 254 128   6 162 243 254 254\n",
            "  254 249  64   0   0   0   0   0   0   0]\n",
            " [  0   0   0   0   0   0   0   0   0  82 254 254 104 231 254 254 187 154\n",
            "  254 254  81   0   0   0   0   0   0   0]\n",
            " [  0   0   0   0   0   0   0   0   0  82 254 254 171 254 242 109  42  60\n",
            "  254 254  81   0   0   0   0   0   0   0]\n",
            " [  0   0   0   0   0   0   0   0   0  82 254 215 165 248  77   0   0 102\n",
            "  254 254  81   0   0   0   0   0   0   0]\n",
            " [  0   0   0   0   0   0   0   0   0 174 254 205  41  65   0   0  24 214\n",
            "  254 254  81   0   0   0   0   0   0   0]\n",
            " [  0   0   0   0   0   0   0   0   0  61 248 239  69   0   0   0 158 255\n",
            "  254 208  26   0   0   0   0   0   0   0]\n",
            " [  0   0   0   0   0   0   0   0   0   0 184 254 203  53  23 189 252 254\n",
            "  254  75   0   0   0   0   0   0   0   0]\n",
            " [  0   0   0   0   0   0   0   0   0   0  58 242 254 252 251 254 254 254\n",
            "  228   9   0   0   0   0   0   0   0   0]\n",
            " [  0   0   0   0   0   0   0   0   0   0   0  68 238 254 254 254 254 254\n",
            "   48   0   0   0   0   0   0   0   0   0]\n",
            " [  0   0   0   0   0   0   0   0   0   0   0   0  66 199 254 215 100 121\n",
            "    7   0   0   0   0   0   0   0   0   0]\n",
            " [  0   0   0   0   0   0   0   0   0   0   0   0   0   0   0   0   0   0\n",
            "    0   0   0   0   0   0   0   0   0   0]\n",
            " [  0   0   0   0   0   0   0   0   0   0   0   0   0   0   0   0   0   0\n",
            "    0   0   0   0   0   0   0   0   0   0]\n",
            " [  0   0   0   0   0   0   0   0   0   0   0   0   0   0   0   0   0   0\n",
            "    0   0   0   0   0   0   0   0   0   0]\n",
            " [  0   0   0   0   0   0   0   0   0   0   0   0   0   0   0   0   0   0\n",
            "    0   0   0   0   0   0   0   0   0   0]\n",
            " [  0   0   0   0   0   0   0   0   0   0   0   0   0   0   0   0   0   0\n",
            "    0   0   0   0   0   0   0   0   0   0]]\n"
          ]
        }
      ]
    },
    {
      "cell_type": "code",
      "source": [
        "img = format_img_fpga(Numero_concreto)\n",
        "print(img)\n",
        "with open('MNSIT_6_index_concr_296.bin', 'wb') as f:\n",
        "    f.write(img)"
      ],
      "metadata": {
        "collapsed": true,
        "id": "0cGXscW7iOYa",
        "colab": {
          "base_uri": "https://localhost:8080/"
        },
        "outputId": "96de1acc-6d58-495c-aad7-5d124b636d3f"
      },
      "execution_count": null,
      "outputs": [
        {
          "output_type": "stream",
          "name": "stdout",
          "text": [
            "[[  0   0   0   0   0   0   0   0   0   0   0   0   0   0   0   0   0   0\n",
            "    0   0   0   0   0   0   0   0   0   0   0   0   0   0   0   0   0   0\n",
            "    0   0   0   0   0   0   0   0   0   0   0   0   0   0   0   0   0   0\n",
            "    0   0   0   0   0   0   0   0   0   0   0   0   0   0   0   0   0   0\n",
            "    0   0   0   0   0   0   0   0   0   0   0   0   0   0   0   0   0   0\n",
            "    0   0   0   0   0   0   0   0   0  70 202 230  44   0   0   0   0   0\n",
            "    0   0   0   0   0   0   0   0   0   0   0   0   0   0   0   0   0  38\n",
            "  146 240 254 254 156   0   0   0   0   0   0   0   0   0   0   0   0   0\n",
            "    0   0   0   0   0   0   0   0  40 230 254 254 252 151  20   0   0   0\n",
            "    0   0   0   0   0   0   0   0   0   0   0   0   0   0   0   0   0   0\n",
            "  106 254 254 254 106   0   0   0   0   0   0   0   0   0   0   0   0   0\n",
            "    0   0   0   0   0   0   0   0   0 119 240 254 254 105   4   0   0   0\n",
            "    0   0   0   0   0   0   0   0   0   0   0   0   0   0   0   0   0   0\n",
            "    6 203 254 254 150   6   0   0   0   0   0   0   0   0   0   0   0   0\n",
            "    0   0   0   0   0   0   0   0   0   0  79 254 254 238   0   0   0   0\n",
            "    0   0   0   0   0   0   0   0   0   0   0   0   0   0   0   0   0   0\n",
            "    0   0 157 254 254 154   0   0   0   0   0   0   0   0   0   0   0   0\n",
            "    0   0   0   0   0   0   0   0   0   0   0  41 241 254 254  30   0   0\n",
            "    9  17  17   1   0   0   0   0   0   0   0   0   0   0   0   0   0   0\n",
            "    0   0   0 106 254 254 199   8   0  83 210 254 254 103   0   0   0   0\n",
            "    0   0   0   0   0   0   0   0   0   0   0   0   0 105 254 254 128   6\n",
            "  162 243 254 254 254 249  64   0   0   0   0   0   0   0   0   0   0   0\n",
            "    0   0   0   0   0  82 254 254 104 231 254 254 187 154 254 254  81   0\n",
            "    0   0   0   0   0   0   0   0   0   0   0   0   0   0   0  82 254 254\n",
            "  171 254 242 109  42  60 254 254  81   0   0   0   0   0   0   0   0   0\n",
            "    0   0   0   0   0   0   0  82 254 215 165 248  77   0   0 102 254 254\n",
            "   81   0   0   0   0   0   0   0   0   0   0   0   0   0   0   0   0 174\n",
            "  254 205  41  65   0   0  24 214 254 254  81   0   0   0   0   0   0   0\n",
            "    0   0   0   0   0   0   0   0   0  61 248 239  69   0   0   0 158 255\n",
            "  254 208  26   0   0   0   0   0   0   0   0   0   0   0   0   0   0   0\n",
            "    0   0 184 254 203  53  23 189 252 254 254  75   0   0   0   0   0   0\n",
            "    0   0   0   0   0   0   0   0   0   0   0   0  58 242 254 252 251 254\n",
            "  254 254 228   9   0   0   0   0   0   0   0   0   0   0   0   0   0   0\n",
            "    0   0   0   0   0  68 238 254 254 254 254 254  48   0   0   0   0   0\n",
            "    0   0   0   0   0   0   0   0   0   0   0   0   0   0   0   0  66 199\n",
            "  254 215 100 121   7   0   0   0   0   0   0   0   0   0   0   0   0   0\n",
            "    0   0   0   0   0   0   0   0   0   0   0   0   0   0   0   0   0   0\n",
            "    0   0   0   0   0   0   0   0   0   0   0   0   0   0   0   0   0   0\n",
            "    0   0   0   0   0   0   0   0   0   0   0   0   0   0   0   0   0   0\n",
            "    0   0   0   0   0   0   0   0   0   0   0   0   0   0   0   0   0   0\n",
            "    0   0   0   0   0   0   0   0   0   0   0   0   0   0   0   0   0   0\n",
            "    0   0   0   0   0   0   0   0   0   0   0   0   0   0   0   0   0   0\n",
            "    0   0   0   0   0   0   0   0   0   0   0   0   0   0   0   0   0   0\n",
            "    0   0   0   0   0   0   0   0   0   0   0]]\n"
          ]
        }
      ]
    },
    {
      "cell_type": "markdown",
      "source": [
        "EL SIETE"
      ],
      "metadata": {
        "id": "nqpiYd7o8Rfi"
      }
    },
    {
      "cell_type": "code",
      "source": [
        "number_selected=7\n",
        "index_numero_concreto=157\n",
        "images_with_label_num = X_test[Y_test ==number_selected]\n",
        "labels_with_label_num = Y_test[Y_test == number_selected]\n",
        "Numero_concreto=images_with_label_num[index_numero_concreto]\n",
        "plt.title(labels_with_label_num[index_numero_concreto])\n",
        "plt.imshow(Numero_concreto,cmap='gray') #display sample training image\n",
        "plt.show()\n",
        "print(Numero_concreto)"
      ],
      "metadata": {
        "colab": {
          "base_uri": "https://localhost:8080/",
          "height": 1000
        },
        "collapsed": true,
        "id": "upFCd_fo8Uh4",
        "outputId": "fd041ebb-8ba3-475f-bfd7-557762391e1f"
      },
      "execution_count": null,
      "outputs": [
        {
          "output_type": "display_data",
          "data": {
            "text/plain": [
              "<Figure size 640x480 with 1 Axes>"
            ],
            "image/png": "[encoded data removed]"
          },
          "metadata": {}
        },
        {
          "output_type": "stream",
          "name": "stdout",
          "text": [
            "[[  0   0   0   0   0   0   0   0   0   0   0   0   0   0   0   0   0   0\n",
            "    0   0   0   0   0   0   0   0   0   0]\n",
            " [  0   0   0   0   0   0   0   0   0   0   0   0   0   0   0   0   0   0\n",
            "    0   0   0   0   0   0   0   0   0   0]\n",
            " [  0   0   0   0   0   0   0   0   0   0   0   0   0   0   0   0   0   0\n",
            "    0   0   0   0   0   0   0   0   0   0]\n",
            " [  0   0   0   0   0   0   0   0   0   0   0   0   0   0   0   0   0   0\n",
            "    0   0   0   0   0   0   0   0   0   0]\n",
            " [  0   0   0   0   0   0   0   0   0   0   0   0   0   0   0   0   0   0\n",
            "    0   0   0   0   0   0   0   0   0   0]\n",
            " [  0   0   0   0   0   0   0   0   0   0   0   0   0   0   0   0   0   0\n",
            "    0   0   0   0   0   0   0   0   0   0]\n",
            " [  0   0   0   0   0   0   0   0   0   0   0   0   0   0   0   0   0   0\n",
            "    0   0   0   0   0   0   0   0   0   0]\n",
            " [  0   0   0  39 250 221 140  48  48  36   0   0   0   0   0   0   0   0\n",
            "    0   0   0   0   0   0   0   0   0   0]\n",
            " [  0   0   0   0 126 254 254 254 254 241 198 198 198 198 198 198 198 198\n",
            "  198 194  35   0   0   0   0   0   0   0]\n",
            " [  0   0   0   0   2  44 114 143 218 227 255 254 254 219 218 218 218 251\n",
            "  254 238  80   0   0   0   0   0   0   0]\n",
            " [  0   0   0   0   0   0   0   0   0  17  67  67  67   2   0   0   0 229\n",
            "  254 106   0   0   0   0   0   0   0   0]\n",
            " [  0   0   0   0   0   0   0   0   0   0   0   0   0   0   0   0   0 229\n",
            "  254  36   0   0   0   0   0   0   0   0]\n",
            " [  0   0   0   0   0   0   0   0   0   0   0   0   0   0   0   0  55 247\n",
            "  235  26   0   0   0   0   0   0   0   0]\n",
            " [  0   0   0   0   0   0   0   0   0   0   0   0   0   0   0   0 128 254\n",
            "  137   0   0   0   0   0   0   0   0   0]\n",
            " [  0   0   0   0   0   0   0   0   0   0   0   0   0   0   0  21 230 254\n",
            "   83   0   0   0   0   0   0   0   0   0]\n",
            " [  0   0   0   0   0   0   0   0   0   0   0   0   0   0   0  32 254 254\n",
            "   81   0   0   0   0   0   0   0   0   0]\n",
            " [  0   0   0   0   0   0   0   0   0   0   0   0   0   0   0  32 254 234\n",
            "    0   0   0   0   0   0   0   0   0   0]\n",
            " [  0   0   0   0   0   0   0   0   0   0   0   0   0   0   0  73 254 150\n",
            "    0   0   0   0   0   0   0   0   0   0]\n",
            " [  0   0   0   0   0   0   0   0   0   0   0   0   0   0   0 152 254  70\n",
            "    0   0   0   0   0   0   0   0   0   0]\n",
            " [  0   0   0   0   0   0   0   0   0   0   0   0   0   0  31 245 254  26\n",
            "    0   0   0   0   0   0   0   0   0   0]\n",
            " [  0   0   0   0   0   0   0   0   0   0   0   0   0   0  89 254 245  22\n",
            "    0   0   0   0   0   0   0   0   0   0]\n",
            " [  0   0   0   0   0   0   0   0   0   0   0   0   0   0  89 254 176   0\n",
            "    0   0   0   0   0   0   0   0   0   0]\n",
            " [  0   0   0   0   0   0   0   0   0   0   0   0   0   0  89 254 176   0\n",
            "    0   0   0   0   0   0   0   0   0   0]\n",
            " [  0   0   0   0   0   0   0   0   0   0   0   0   0   0  89 254 197   7\n",
            "    0   0   0   0   0   0   0   0   0   0]\n",
            " [  0   0   0   0   0   0   0   0   0   0   0   0   0   0  89 254 254  26\n",
            "    0   0   0   0   0   0   0   0   0   0]\n",
            " [  0   0   0   0   0   0   0   0   0   0   0   0   0   0  69 251 254  26\n",
            "    0   0   0   0   0   0   0   0   0   0]\n",
            " [  0   0   0   0   0   0   0   0   0   0   0   0   0   0   0 100 193  15\n",
            "    0   0   0   0   0   0   0   0   0   0]\n",
            " [  0   0   0   0   0   0   0   0   0   0   0   0   0   0   0   0   0   0\n",
            "    0   0   0   0   0   0   0   0   0   0]]\n"
          ]
        }
      ]
    },
    {
      "cell_type": "code",
      "source": [
        "img = format_img_fpga(Numero_concreto)\n",
        "print(img)\n",
        "with open('MNSIT_7_index_concr_157.bin', 'wb') as f:\n",
        "    f.write(img)"
      ],
      "metadata": {
        "colab": {
          "base_uri": "https://localhost:8080/"
        },
        "collapsed": true,
        "id": "mwCa3BvO8XkB",
        "outputId": "ed0a47e0-7adc-4f5d-9d9c-f20fd23bd390"
      },
      "execution_count": null,
      "outputs": [
        {
          "output_type": "stream",
          "name": "stdout",
          "text": [
            "[[  0   0   0   0   0   0   0   0   0   0   0   0   0   0   0   0   0   0\n",
            "    0   0   0   0   0   0   0   0   0   0   0   0   0   0   0   0   0   0\n",
            "    0   0   0   0   0   0   0   0   0   0   0   0   0   0   0   0   0   0\n",
            "    0   0   0   0   0   0   0   0   0   0   0   0   0   0   0   0   0   0\n",
            "    0   0   0   0   0   0   0   0   0   0   0   0   0   0   0   0   0   0\n",
            "    0   0   0   0   0   0   0   0   0   0   0   0   0   0   0   0   0   0\n",
            "    0   0   0   0   0   0   0   0   0   0   0   0   0   0   0   0   0   0\n",
            "    0   0   0   0   0   0   0   0   0   0   0   0   0   0   0   0   0   0\n",
            "    0   0   0   0   0   0   0   0   0   0   0   0   0   0   0   0   0   0\n",
            "    0   0   0   0   0   0   0   0   0   0   0   0   0   0   0   0   0   0\n",
            "    0   0   0   0   0   0   0   0   0   0   0   0   0   0   0   0   0   0\n",
            "    0  39 250 221 140  48  48  36   0   0   0   0   0   0   0   0   0   0\n",
            "    0   0   0   0   0   0   0   0   0   0   0   0 126 254 254 254 254 241\n",
            "  198 198 198 198 198 198 198 198 198 194  35   0   0   0   0   0   0   0\n",
            "    0   0   0   0   2  44 114 143 218 227 255 254 254 219 218 218 218 251\n",
            "  254 238  80   0   0   0   0   0   0   0   0   0   0   0   0   0   0   0\n",
            "    0  17  67  67  67   2   0   0   0 229 254 106   0   0   0   0   0   0\n",
            "    0   0   0   0   0   0   0   0   0   0   0   0   0   0   0   0   0   0\n",
            "    0 229 254  36   0   0   0   0   0   0   0   0   0   0   0   0   0   0\n",
            "    0   0   0   0   0   0   0   0   0   0  55 247 235  26   0   0   0   0\n",
            "    0   0   0   0   0   0   0   0   0   0   0   0   0   0   0   0   0   0\n",
            "    0   0 128 254 137   0   0   0   0   0   0   0   0   0   0   0   0   0\n",
            "    0   0   0   0   0   0   0   0   0   0   0  21 230 254  83   0   0   0\n",
            "    0   0   0   0   0   0   0   0   0   0   0   0   0   0   0   0   0   0\n",
            "    0   0   0  32 254 254  81   0   0   0   0   0   0   0   0   0   0   0\n",
            "    0   0   0   0   0   0   0   0   0   0   0   0   0  32 254 234   0   0\n",
            "    0   0   0   0   0   0   0   0   0   0   0   0   0   0   0   0   0   0\n",
            "    0   0   0   0   0  73 254 150   0   0   0   0   0   0   0   0   0   0\n",
            "    0   0   0   0   0   0   0   0   0   0   0   0   0   0   0 152 254  70\n",
            "    0   0   0   0   0   0   0   0   0   0   0   0   0   0   0   0   0   0\n",
            "    0   0   0   0   0   0  31 245 254  26   0   0   0   0   0   0   0   0\n",
            "    0   0   0   0   0   0   0   0   0   0   0   0   0   0   0   0  89 254\n",
            "  245  22   0   0   0   0   0   0   0   0   0   0   0   0   0   0   0   0\n",
            "    0   0   0   0   0   0   0   0  89 254 176   0   0   0   0   0   0   0\n",
            "    0   0   0   0   0   0   0   0   0   0   0   0   0   0   0   0   0   0\n",
            "   89 254 176   0   0   0   0   0   0   0   0   0   0   0   0   0   0   0\n",
            "    0   0   0   0   0   0   0   0   0   0  89 254 197   7   0   0   0   0\n",
            "    0   0   0   0   0   0   0   0   0   0   0   0   0   0   0   0   0   0\n",
            "    0   0  89 254 254  26   0   0   0   0   0   0   0   0   0   0   0   0\n",
            "    0   0   0   0   0   0   0   0   0   0   0   0  69 251 254  26   0   0\n",
            "    0   0   0   0   0   0   0   0   0   0   0   0   0   0   0   0   0   0\n",
            "    0   0   0   0   0 100 193  15   0   0   0   0   0   0   0   0   0   0\n",
            "    0   0   0   0   0   0   0   0   0   0   0   0   0   0   0   0   0   0\n",
            "    0   0   0   0   0   0   0   0   0   0   0]]\n"
          ]
        }
      ]
    },
    {
      "cell_type": "markdown",
      "source": [
        "EL 8"
      ],
      "metadata": {
        "id": "Ad1jDzk6mnsU"
      }
    },
    {
      "cell_type": "code",
      "source": [
        "number_selected=8\n",
        "index_numero_concreto=80\n",
        "images_with_label_num = X_test[Y_test ==number_selected]\n",
        "labels_with_label_num = Y_test[Y_test == number_selected]\n",
        "Numero_concreto=images_with_label_num[index_numero_concreto]\n",
        "plt.title(labels_with_label_num[index_numero_concreto])\n",
        "plt.imshow(Numero_concreto,cmap='gray') #display sample training image\n",
        "plt.show()\n",
        "print(Numero_concreto)"
      ],
      "metadata": {
        "id": "QwcUP_HdD2-A",
        "colab": {
          "base_uri": "https://localhost:8080/",
          "height": 1000
        },
        "collapsed": true,
        "outputId": "29ac5b89-e9cf-4ce9-c6c3-d8b1c33a7515"
      },
      "execution_count": null,
      "outputs": [
        {
          "output_type": "display_data",
          "data": {
            "text/plain": [
              "<Figure size 640x480 with 1 Axes>"
            ],
            "image/png": "[encoded data removed]"
          },
          "metadata": {}
        },
        {
          "output_type": "stream",
          "name": "stdout",
          "text": [
            "[[  0   0   0   0   0   0   0   0   0   0   0   0   0   0   0   0   0   0\n",
            "    0   0   0   0   0   0   0   0   0   0]\n",
            " [  0   0   0   0   0   0   0   0   0   0   0   0   0   0   0   0   0   0\n",
            "    0   0   0   0   0   0   0   0   0   0]\n",
            " [  0   0   0   0   0   0   0   0   0   0   0   0   0   0   0   0   0   0\n",
            "    0   0   0   0   0   0   0   0   0   0]\n",
            " [  0   0   0   0   0   0   0   0   0   0   0   0   0   0   0   0   0   0\n",
            "    0   0   0   0   0   0   0   0   0   0]\n",
            " [  0   0   0   0   0   0   0   0   0   0   0   0   0   0   0   0   0   0\n",
            "    0   0   0   0   0   0   0   0   0   0]\n",
            " [  0   0   0   0   0   0   0   0   0   0   0   0   0   0   0   0  59 139\n",
            "  223 254 212  72   0   0   0   0   0   0]\n",
            " [  0   0   0   0   0   0   0   0   0   0   0   0   0   0  29 192 251 252\n",
            "  216 251 254 232   7   0   0   0   0   0]\n",
            " [  0   0   0   0   0   0   0   0   0   0   1  77 125 163 239 252 195  75\n",
            "   63 250 246 100   0   0   0   0   0   0]\n",
            " [  0   0   0   0   0   0   0   0   0   0 111 254 254 254 254  98   0  70\n",
            "  226 254 143   0   0   0   0   0   0   0]\n",
            " [  0   0   0   0   0   0   0   0   0   0 207 254 254 231  67   0  22 222\n",
            "  254 192   4   0   0   0   0   0   0   0]\n",
            " [  0   0   0   0   0   0   0   0   0   0 207 254 165  24   0   5 159 253\n",
            "  207  28   0   0   0   0   0   0   0   0]\n",
            " [  0   0   0   0   0   0   0   0   0   0 207 254  68   0  32 164 254 146\n",
            "    0   0   0   0   0   0   0   0   0   0]\n",
            " [  0   0   0   0   0   0   0   0   0   0 207 254 125  38 224 254 140   2\n",
            "    0   0   0   0   0   0   0   0   0   0]\n",
            " [  0   0   0   0   0   0   0   0   0   0 117 254 245 235 254 142   4   0\n",
            "    0   0   0   0   0   0   0   0   0   0]\n",
            " [  0   0   0   0   0   0   0   0   0   0   5 198 254 254 218   0   0   0\n",
            "    0   0   0   0   0   0   0   0   0   0]\n",
            " [  0   0   0   0   0   0   0   0   0   0 104 254 254 254 255 231 102   0\n",
            "    0   0   0   0   0   0   0   0   0   0]\n",
            " [  0   0   0   0   0   0   0   0   0  39 231 254 161 122 206 254 249 188\n",
            "   70   3   0   0   0   0   0   0   0   0]\n",
            " [  0   0   0   0   0   0   0   0   0 215 254 215   6   0  21 116 235 254\n",
            "  254 132   2   0   0   0   0   0   0   0]\n",
            " [  0   0   0   0   0   0   0   0  79 248 248  53   0   0   0   0  13 126\n",
            "  254 254  47   0   0   0   0   0   0   0]\n",
            " [  0   0   0   0   0   0   0   9 248 254  95   0   0   0   0   0   0   5\n",
            "  207 254 134   0   0   0   0   0   0   0]\n",
            " [  0   0   0   0   0   0   0  17 254 232  26   0   0   0   0   0   0   8\n",
            "  238 254  99   0   0   0   0   0   0   0]\n",
            " [  0   0   0   0   0   0   0 104 254 206   0   0   0   0   0   0  13 127\n",
            "  254 189  14   0   0   0   0   0   0   0]\n",
            " [  0   0   0   0   0   0   0  48 254 206   0   0   0   0  22  82 201 251\n",
            "  169  11   0   0   0   0   0   0   0   0]\n",
            " [  0   0   0   0   0   0   0   9 244 247 175 123 143 217 230 254 225  92\n",
            "    0   0   0   0   0   0   0   0   0   0]\n",
            " [  0   0   0   0   0   0   0   0  44 152 166 254 254 254 218 135  32   0\n",
            "    0   0   0   0   0   0   0   0   0   0]\n",
            " [  0   0   0   0   0   0   0   0   0   0   0   0   0   0   0   0   0   0\n",
            "    0   0   0   0   0   0   0   0   0   0]\n",
            " [  0   0   0   0   0   0   0   0   0   0   0   0   0   0   0   0   0   0\n",
            "    0   0   0   0   0   0   0   0   0   0]\n",
            " [  0   0   0   0   0   0   0   0   0   0   0   0   0   0   0   0   0   0\n",
            "    0   0   0   0   0   0   0   0   0   0]]\n"
          ]
        }
      ]
    },
    {
      "cell_type": "code",
      "source": [
        "img = format_img_fpga(Numero_concreto)\n",
        "print(img)\n",
        "with open('MNSIT_8_index_concr_80.bin', 'wb') as f:\n",
        "    f.write(img)"
      ],
      "metadata": {
        "id": "JR30b05Sq08b",
        "colab": {
          "base_uri": "https://localhost:8080/"
        },
        "collapsed": true,
        "outputId": "6dea848f-5fc4-4ec3-8f7f-94da78d75b04"
      },
      "execution_count": null,
      "outputs": [
        {
          "output_type": "stream",
          "name": "stdout",
          "text": [
            "[[  0   0   0   0   0   0   0   0   0   0   0   0   0   0   0   0   0   0\n",
            "    0   0   0   0   0   0   0   0   0   0   0   0   0   0   0   0   0   0\n",
            "    0   0   0   0   0   0   0   0   0   0   0   0   0   0   0   0   0   0\n",
            "    0   0   0   0   0   0   0   0   0   0   0   0   0   0   0   0   0   0\n",
            "    0   0   0   0   0   0   0   0   0   0   0   0   0   0   0   0   0   0\n",
            "    0   0   0   0   0   0   0   0   0   0   0   0   0   0   0   0   0   0\n",
            "    0   0   0   0   0   0   0   0   0   0   0   0   0   0   0   0   0   0\n",
            "    0   0   0   0   0   0   0   0   0   0   0   0   0   0   0   0   0   0\n",
            "    0   0   0   0   0   0   0   0   0   0   0   0  59 139 223 254 212  72\n",
            "    0   0   0   0   0   0   0   0   0   0   0   0   0   0   0   0   0   0\n",
            "    0   0  29 192 251 252 216 251 254 232   7   0   0   0   0   0   0   0\n",
            "    0   0   0   0   0   0   0   0   1  77 125 163 239 252 195  75  63 250\n",
            "  246 100   0   0   0   0   0   0   0   0   0   0   0   0   0   0   0   0\n",
            "  111 254 254 254 254  98   0  70 226 254 143   0   0   0   0   0   0   0\n",
            "    0   0   0   0   0   0   0   0   0   0 207 254 254 231  67   0  22 222\n",
            "  254 192   4   0   0   0   0   0   0   0   0   0   0   0   0   0   0   0\n",
            "    0   0 207 254 165  24   0   5 159 253 207  28   0   0   0   0   0   0\n",
            "    0   0   0   0   0   0   0   0   0   0   0   0 207 254  68   0  32 164\n",
            "  254 146   0   0   0   0   0   0   0   0   0   0   0   0   0   0   0   0\n",
            "    0   0   0   0 207 254 125  38 224 254 140   2   0   0   0   0   0   0\n",
            "    0   0   0   0   0   0   0   0   0   0   0   0   0   0 117 254 245 235\n",
            "  254 142   4   0   0   0   0   0   0   0   0   0   0   0   0   0   0   0\n",
            "    0   0   0   0   0   0   5 198 254 254 218   0   0   0   0   0   0   0\n",
            "    0   0   0   0   0   0   0   0   0   0   0   0   0   0   0   0 104 254\n",
            "  254 254 255 231 102   0   0   0   0   0   0   0   0   0   0   0   0   0\n",
            "    0   0   0   0   0   0   0  39 231 254 161 122 206 254 249 188  70   3\n",
            "    0   0   0   0   0   0   0   0   0   0   0   0   0   0   0   0   0 215\n",
            "  254 215   6   0  21 116 235 254 254 132   2   0   0   0   0   0   0   0\n",
            "    0   0   0   0   0   0   0   0  79 248 248  53   0   0   0   0  13 126\n",
            "  254 254  47   0   0   0   0   0   0   0   0   0   0   0   0   0   0   9\n",
            "  248 254  95   0   0   0   0   0   0   5 207 254 134   0   0   0   0   0\n",
            "    0   0   0   0   0   0   0   0   0  17 254 232  26   0   0   0   0   0\n",
            "    0   8 238 254  99   0   0   0   0   0   0   0   0   0   0   0   0   0\n",
            "    0 104 254 206   0   0   0   0   0   0  13 127 254 189  14   0   0   0\n",
            "    0   0   0   0   0   0   0   0   0   0   0  48 254 206   0   0   0   0\n",
            "   22  82 201 251 169  11   0   0   0   0   0   0   0   0   0   0   0   0\n",
            "    0   0   0   9 244 247 175 123 143 217 230 254 225  92   0   0   0   0\n",
            "    0   0   0   0   0   0   0   0   0   0   0   0   0   0  44 152 166 254\n",
            "  254 254 218 135  32   0   0   0   0   0   0   0   0   0   0   0   0   0\n",
            "    0   0   0   0   0   0   0   0   0   0   0   0   0   0   0   0   0   0\n",
            "    0   0   0   0   0   0   0   0   0   0   0   0   0   0   0   0   0   0\n",
            "    0   0   0   0   0   0   0   0   0   0   0   0   0   0   0   0   0   0\n",
            "    0   0   0   0   0   0   0   0   0   0   0   0   0   0   0   0   0   0\n",
            "    0   0   0   0   0   0   0   0   0   0   0]]\n"
          ]
        }
      ]
    },
    {
      "cell_type": "markdown",
      "source": [
        "EL 9"
      ],
      "metadata": {
        "id": "0SagKvLHmprb"
      }
    },
    {
      "cell_type": "code",
      "source": [
        "number_selected=9\n",
        "index_numero_concreto=159\n",
        "images_with_label_num = X_test[Y_test ==number_selected]\n",
        "labels_with_label_num = Y_test[Y_test == number_selected]\n",
        "Numero_concreto=images_with_label_num[index_numero_concreto]\n",
        "plt.title(labels_with_label_num[index_numero_concreto])\n",
        "plt.imshow(Numero_concreto,cmap='gray') #display sample training image\n",
        "plt.show()\n",
        "print(Numero_concreto)"
      ],
      "metadata": {
        "id": "_rwxTzPkmqx1",
        "colab": {
          "base_uri": "https://localhost:8080/",
          "height": 1000
        },
        "collapsed": true,
        "outputId": "d1668f9d-45f2-4edf-ed00-858478c62d94"
      },
      "execution_count": null,
      "outputs": [
        {
          "output_type": "display_data",
          "data": {
            "text/plain": [
              "<Figure size 640x480 with 1 Axes>"
            ],
            "image/png": "[encoded data removed]"
          },
          "metadata": {}
        },
        {
          "output_type": "stream",
          "name": "stdout",
          "text": [
            "[[  0   0   0   0   0   0   0   0   0   0   0   0   0   0   0   0   0   0\n",
            "    0   0   0   0   0   0   0   0   0   0]\n",
            " [  0   0   0   0   0   0   0   0   0   0   0   0   0   0   0   0   0   0\n",
            "    0   0   0   0   0   0   0   0   0   0]\n",
            " [  0   0   0   0   0   0   0   0   0   0   0   0   0   0   0   0   0   0\n",
            "    0   0   0   0   0   0   0   0   0   0]\n",
            " [  0   0   0   0   0   0   0   0   0   0   0   0   0   0   0   0   0   0\n",
            "    0   0   0   0   0   0   0   0   0   0]\n",
            " [  0   0   0   0   0   0   0   0   0   0   0   0   0   0   0   0   0   0\n",
            "    0   0   0   0   0   0   0   0   0   0]\n",
            " [  0   0   0   0   0   0   0   0   0   0   0   0   0   0   0   0   0   0\n",
            "    0   0   0   0   0   0   0   0   0   0]\n",
            " [  0   0   0   0   0   0   0   0   0  39 147 147 247 232 108  19   0   0\n",
            "    0   0   0   0   0   0   0   0   0   0]\n",
            " [  0   0   0   0   0   0   0   0  92 247 254 254 254 254 254 163 102  68\n",
            "    0   0   0   0   0   0   0   0   0   0]\n",
            " [  0   0   0   0   0   0   0  39 247 254 182 140  48 165 254 254 254 242\n",
            "    9   0   0   0   0   0   0   0   0   0]\n",
            " [  0   0   0   0   0   0   0 109 254 160   0   0  29 174 254 254 254 254\n",
            "   29   0   0   0   0   0   0   0   0   0]\n",
            " [  0   0   0   0   0   0   5 229 254  27   0   0  91 254 225 133 254 254\n",
            "  119   0   0   0   0   0   0   0   0   0]\n",
            " [  0   0   0   0   0   0  57 254 254  27   0   0   2  27  17  21 251 254\n",
            "  170   0   0   0   0   0   0   0   0   0]\n",
            " [  0   0   0   0   0   0 115 254 254  27   0   0   0   0   0   0 168 254\n",
            "  227   0   0   0   0   0   0   0   0   0]\n",
            " [  0   0   0   0   0   0 115 254 254  27   0   0   0   0   0   0 168 254\n",
            "  227   0   0   0   0   0   0   0   0   0]\n",
            " [  0   0   0   0   0   0  15 254 254  34   0   0   0   0   0  18 211 254\n",
            "  227   0   0   0   0   0   0   0   0   0]\n",
            " [  0   0   0   0   0   0   2 189 254 207  21   0   0   0  44 157 254 254\n",
            "  157   0   0   0   0   0   0   0   0   0]\n",
            " [  0   0   0   0   0   0   0  67 254 254 154  22  86 162 243 254 254 254\n",
            "  119   0   0   0   0   0   0   0   0   0]\n",
            " [  0   0   0   0   0   0   0   3 131 252 254 243 253 254 247 177 210 254\n",
            "  221   0   0   0   0   0   0   0   0   0]\n",
            " [  0   0   0   0   0   0   0   0   0 128 195 241 199 126  55   0  97 254\n",
            "  234  19   0   0   0   0   0   0   0   0]\n",
            " [  0   0   0   0   0   0   0   0   0   0   0  37   4   0   0   0  60 254\n",
            "  254  81   0   0   0   0   0   0   0   0]\n",
            " [  0   0   0   0   0   0   0   0   0   0   0   0   0   0   0   0  60 254\n",
            "  254  81   0   0   0   0   0   0   0   0]\n",
            " [  0   0   0   0   0   0   0   0   0   0   0   0   0   0   0   0  60 254\n",
            "  254  81   0   0   0   0   0   0   0   0]\n",
            " [  0   0   0   0   0   0   0   0   0   0   0   0   0   0   0   0  10 215\n",
            "  254 151 104   2   0   0   0   0   0   0]\n",
            " [  0   0   0   0   0   0   0   0   0   0   0   0   0   0   0   0   0 193\n",
            "  254 254 254   5   0   0   0   0   0   0]\n",
            " [  0   0   0   0   0   0   0   0   0   0   0   0   0   0   0   0   0  29\n",
            "  248 254 254   5   0   0   0   0   0   0]\n",
            " [  0   0   0   0   0   0   0   0   0   0   0   0   0   0   0   0   0   0\n",
            "  152 254 120   1   0   0   0   0   0   0]\n",
            " [  0   0   0   0   0   0   0   0   0   0   0   0   0   0   0   0   0   0\n",
            "    0   0   0   0   0   0   0   0   0   0]\n",
            " [  0   0   0   0   0   0   0   0   0   0   0   0   0   0   0   0   0   0\n",
            "    0   0   0   0   0   0   0   0   0   0]]\n"
          ]
        }
      ]
    },
    {
      "cell_type": "code",
      "source": [
        "img = format_img_fpga(Numero_concreto)\n",
        "print(img)\n",
        "with open('MNSIT_9_index_concr_159.bin', 'wb') as f:\n",
        "    f.write(img)"
      ],
      "metadata": {
        "id": "WbQhO_bwmxJi",
        "colab": {
          "base_uri": "https://localhost:8080/"
        },
        "collapsed": true,
        "outputId": "48dab85b-d150-4536-a18d-03c51b6b4922"
      },
      "execution_count": null,
      "outputs": [
        {
          "output_type": "stream",
          "name": "stdout",
          "text": [
            "[[  0   0   0   0   0   0   0   0   0   0   0   0   0   0   0   0   0   0\n",
            "    0   0   0   0   0   0   0   0   0   0   0   0   0   0   0   0   0   0\n",
            "    0   0   0   0   0   0   0   0   0   0   0   0   0   0   0   0   0   0\n",
            "    0   0   0   0   0   0   0   0   0   0   0   0   0   0   0   0   0   0\n",
            "    0   0   0   0   0   0   0   0   0   0   0   0   0   0   0   0   0   0\n",
            "    0   0   0   0   0   0   0   0   0   0   0   0   0   0   0   0   0   0\n",
            "    0   0   0   0   0   0   0   0   0   0   0   0   0   0   0   0   0   0\n",
            "    0   0   0   0   0   0   0   0   0   0   0   0   0   0   0   0   0   0\n",
            "    0   0   0   0   0   0   0   0   0   0   0   0   0   0   0   0   0   0\n",
            "    0   0   0   0   0   0   0   0   0   0   0   0   0   0   0  39 147 147\n",
            "  247 232 108  19   0   0   0   0   0   0   0   0   0   0   0   0   0   0\n",
            "    0   0   0   0   0   0  92 247 254 254 254 254 254 163 102  68   0   0\n",
            "    0   0   0   0   0   0   0   0   0   0   0   0   0   0   0  39 247 254\n",
            "  182 140  48 165 254 254 254 242   9   0   0   0   0   0   0   0   0   0\n",
            "    0   0   0   0   0   0   0 109 254 160   0   0  29 174 254 254 254 254\n",
            "   29   0   0   0   0   0   0   0   0   0   0   0   0   0   0   0   5 229\n",
            "  254  27   0   0  91 254 225 133 254 254 119   0   0   0   0   0   0   0\n",
            "    0   0   0   0   0   0   0   0  57 254 254  27   0   0   2  27  17  21\n",
            "  251 254 170   0   0   0   0   0   0   0   0   0   0   0   0   0   0   0\n",
            "  115 254 254  27   0   0   0   0   0   0 168 254 227   0   0   0   0   0\n",
            "    0   0   0   0   0   0   0   0   0   0 115 254 254  27   0   0   0   0\n",
            "    0   0 168 254 227   0   0   0   0   0   0   0   0   0   0   0   0   0\n",
            "    0   0  15 254 254  34   0   0   0   0   0  18 211 254 227   0   0   0\n",
            "    0   0   0   0   0   0   0   0   0   0   0   0   2 189 254 207  21   0\n",
            "    0   0  44 157 254 254 157   0   0   0   0   0   0   0   0   0   0   0\n",
            "    0   0   0   0   0  67 254 254 154  22  86 162 243 254 254 254 119   0\n",
            "    0   0   0   0   0   0   0   0   0   0   0   0   0   0   0   3 131 252\n",
            "  254 243 253 254 247 177 210 254 221   0   0   0   0   0   0   0   0   0\n",
            "    0   0   0   0   0   0   0   0   0 128 195 241 199 126  55   0  97 254\n",
            "  234  19   0   0   0   0   0   0   0   0   0   0   0   0   0   0   0   0\n",
            "    0   0   0  37   4   0   0   0  60 254 254  81   0   0   0   0   0   0\n",
            "    0   0   0   0   0   0   0   0   0   0   0   0   0   0   0   0   0   0\n",
            "   60 254 254  81   0   0   0   0   0   0   0   0   0   0   0   0   0   0\n",
            "    0   0   0   0   0   0   0   0   0   0  60 254 254  81   0   0   0   0\n",
            "    0   0   0   0   0   0   0   0   0   0   0   0   0   0   0   0   0   0\n",
            "    0   0  10 215 254 151 104   2   0   0   0   0   0   0   0   0   0   0\n",
            "    0   0   0   0   0   0   0   0   0   0   0   0   0 193 254 254 254   5\n",
            "    0   0   0   0   0   0   0   0   0   0   0   0   0   0   0   0   0   0\n",
            "    0   0   0   0   0  29 248 254 254   5   0   0   0   0   0   0   0   0\n",
            "    0   0   0   0   0   0   0   0   0   0   0   0   0   0   0   0 152 254\n",
            "  120   1   0   0   0   0   0   0   0   0   0   0   0   0   0   0   0   0\n",
            "    0   0   0   0   0   0   0   0   0   0   0   0   0   0   0   0   0   0\n",
            "    0   0   0   0   0   0   0   0   0   0   0   0   0   0   0   0   0   0\n",
            "    0   0   0   0   0   0   0   0   0   0   0]]\n"
          ]
        }
      ]
    }
  ]
}