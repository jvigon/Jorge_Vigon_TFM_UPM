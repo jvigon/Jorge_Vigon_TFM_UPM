{
  "nbformat": 4,
  "nbformat_minor": 0,
  "metadata": {
    "colab": {
      "provenance": []
    },
    "kernelspec": {
      "name": "python3",
      "display_name": "Python 3"
    },
    "language_info": {
      "name": "python"
    }
  },
  "cells": [
    {
      "cell_type": "markdown",
      "source": [
        "PARA CONSEGUIR IMAGEN EN ESPECIFICO TEST, LO QUE SE UTILIZA"
      ],
      "metadata": {
        "id": "JTvin4HRnNnF"
      }
    },
    {
      "cell_type": "code",
      "source": [
        "import pickle\n",
        "import matplotlib.pyplot as plt\n",
        "import itertools\n",
        "from sklearn import preprocessing\n",
        "from sklearn.preprocessing import Normalizer\n",
        "import numpy as np\n",
        "import matplotlib.pyplot as plt\n",
        "import numpy as np\n",
        "\n",
        "import tensorflow as tf\n",
        "#import keras.api._v2.keras as keras\n",
        "#from tensorflow.keras import datasets, layers, models, regularizers"
      ],
      "metadata": {
        "id": "Fgk-oPPknSmc"
      },
      "execution_count": 2,
      "outputs": []
    },
    {
      "cell_type": "code",
      "source": [
        "cifar10 = tf.keras.datasets.cifar10\n",
        "(X_train, Y_train), (X_test, Y_test) = cifar10.load_data()"
      ],
      "metadata": {
        "id": "yzik9r0vs8w1",
        "colab": {
          "base_uri": "https://localhost:8080/"
        },
        "outputId": "cbd98405-c0d5-4f7f-f33c-500303364b76"
      },
      "execution_count": 3,
      "outputs": [
        {
          "output_type": "stream",
          "name": "stdout",
          "text": [
            "Downloading data from https://www.cs.toronto.edu/~kriz/cifar-10-python.tar.gz\n",
            "\u001b[1m170498071/170498071\u001b[0m \u001b[32m━━━━━━━━━━━━━━━━━━━━\u001b[0m\u001b[37m\u001b[0m \u001b[1m11s\u001b[0m 0us/step\n"
          ]
        }
      ]
    },
    {
      "cell_type": "code",
      "source": [
        "avion_class = 0  #AVION\n",
        "rana_class = 6  # RANA\n",
        "\n",
        "# Filtrar las imágenes y etiquetas para quedarnos solo con los gatos y perros\n",
        "avion_indices = (Y_train == avion_class).squeeze()\n",
        "rana_indices = (Y_train == rana_class).squeeze()\n",
        "avion_rana_indices = avion_indices | rana_indices\n",
        "\n",
        "X_train_avion_rana = X_train[avion_rana_indices]\n",
        "Y_train_avion_rana = Y_train[avion_rana_indices]\n",
        "\n",
        "# Verificar las dimensiones del nuevo conjunto de datos\n",
        "print(\"Dimensiones de X_train_cat_dog:\", X_train_avion_rana.shape)\n",
        "print(\"Dimensiones de Y_train_cat_dog:\", Y_train_avion_rana.shape)"
      ],
      "metadata": {
        "colab": {
          "base_uri": "https://localhost:8080/"
        },
        "id": "VDk405n8tF91",
        "outputId": "2a4a12f2-d0c0-4f5c-f79c-2e0ea31f43da"
      },
      "execution_count": 4,
      "outputs": [
        {
          "output_type": "stream",
          "name": "stdout",
          "text": [
            "Dimensiones de X_train_cat_dog: (10000, 32, 32, 3)\n",
            "Dimensiones de Y_train_cat_dog: (10000, 1)\n"
          ]
        }
      ]
    },
    {
      "cell_type": "code",
      "source": [
        "# Definir las clases que nos interesan (aviom y rana) PARA HACERLO SOLO CON SIGMOID\n",
        "avion_class = 0  #AVION\n",
        "rana_class = 6  # RANA\n",
        "\n",
        "# Filtrar las imágenes y etiquetas para quedarnos solo con los gatos y perros\n",
        "avion_indices = (Y_test == avion_class).squeeze()\n",
        "rana_indices = (Y_test == rana_class).squeeze()\n",
        "avion_rana_indices = avion_indices | rana_indices\n",
        "\n",
        "X_test_avion_rana = X_test[avion_rana_indices]\n",
        "Y_test_avion_rana = Y_test[avion_rana_indices]\n",
        "\n",
        "# Verificar las dimensiones del nuevo conjunto de datos\n",
        "print(\"Dimensiones de X_train_cat_dog:\", X_test_avion_rana.shape)\n",
        "print(\"Dimensiones de Y_train_cat_dog:\", Y_test_avion_rana.shape)"
      ],
      "metadata": {
        "colab": {
          "base_uri": "https://localhost:8080/"
        },
        "id": "kschGh2ItQD1",
        "outputId": "5eb919fc-2d62-4dbe-9883-7177f2e7a0fa"
      },
      "execution_count": 5,
      "outputs": [
        {
          "output_type": "stream",
          "name": "stdout",
          "text": [
            "Dimensiones de X_train_cat_dog: (2000, 32, 32, 3)\n",
            "Dimensiones de Y_train_cat_dog: (2000, 1)\n"
          ]
        }
      ]
    },
    {
      "cell_type": "code",
      "source": [
        "Y_train_avion_rana= np.where(Y_train_avion_rana == rana_class, 0, 1) # 1 avion 0 rana\n",
        "Y_test_avion_rana = np.where(Y_test_avion_rana == rana_class, 0, 1)"
      ],
      "metadata": {
        "id": "f52BIz5-tUOs"
      },
      "execution_count": 6,
      "outputs": []
    },
    {
      "cell_type": "code",
      "source": [
        "#FOTO RANA INDEX 124\n",
        "index = 426 #280 rana,115 avion\n",
        "image_selected=X_test_avion_rana[index]\n",
        "image_selected_array =np.array(image_selected)\n",
        "image_selected= image_selected_array.reshape(32, 32, 3)\n",
        "plt.title(Y_test_avion_rana[index])\n",
        "plt.imshow(image_selected) #display sample training image\n",
        "plt.show()"
      ],
      "metadata": {
        "colab": {
          "base_uri": "https://localhost:8080/",
          "height": 452
        },
        "id": "TbX4aLENtY8d",
        "outputId": "bda28c1c-be21-491a-b635-b3305b04be81"
      },
      "execution_count": 7,
      "outputs": [
        {
          "output_type": "display_data",
          "data": {
            "text/plain": [
              "<Figure size 640x480 with 1 Axes>"
            ],
            "image/png": "[encoded data removed]"
          },
          "metadata": {}
        }
      ]
    },
    {
      "cell_type": "code",
      "source": [
        "image_selected\n",
        "print(image_selected)"
      ],
      "metadata": {
        "colab": {
          "base_uri": "https://localhost:8080/"
        },
        "id": "gZuCFDu4vpn-",
        "outputId": "72ec3c8b-b3d8-405a-988b-937c1b7bd5d2",
        "collapsed": true
      },
      "execution_count": 8,
      "outputs": [
        {
          "output_type": "stream",
          "name": "stdout",
          "text": [
            "[[[ 72  88  54]\n",
            "  [ 83 107  57]\n",
            "  [ 88 111  55]\n",
            "  ...\n",
            "  [ 55  48  38]\n",
            "  [ 60  51  41]\n",
            "  [ 36  27  18]]\n",
            "\n",
            " [[ 47  69  30]\n",
            "  [ 97 127  66]\n",
            "  [ 97 123  60]\n",
            "  ...\n",
            "  [ 24  24  18]\n",
            "  [ 22  19  12]\n",
            "  [ 25  16   8]]\n",
            "\n",
            " [[ 87 115  64]\n",
            "  [104 135  74]\n",
            "  [ 82 108  51]\n",
            "  ...\n",
            "  [  2   3   0]\n",
            "  [  7   5   0]\n",
            "  [ 35  26  12]]\n",
            "\n",
            " ...\n",
            "\n",
            " [[102  89  54]\n",
            "  [119 106  72]\n",
            "  [114 101  67]\n",
            "  ...\n",
            "  [ 43  35  20]\n",
            "  [ 44  35  20]\n",
            "  [ 37  28  18]]\n",
            "\n",
            " [[100  87  54]\n",
            "  [107  94  62]\n",
            "  [101  88  56]\n",
            "  ...\n",
            "  [ 61  55  34]\n",
            "  [ 42  35  17]\n",
            "  [ 70  60  39]]\n",
            "\n",
            " [[ 84  70  41]\n",
            "  [ 80  66  38]\n",
            "  [ 77  63  35]\n",
            "  ...\n",
            "  [ 41  35  22]\n",
            "  [ 31  26  14]\n",
            "  [ 57  45  26]]]\n"
          ]
        }
      ]
    },
    {
      "cell_type": "code",
      "source": [
        "import numpy as np\n",
        "import json\n",
        "import pandas as pd\n",
        "\n",
        "def format_img_fpga(img):\n",
        "    \"\"\"\n",
        "    Transforms a CIFAR-10 dataset image (32, 32, 3) into a\n",
        "    flattened and quantized version ready to be sent over to\n",
        "    the FPGA CNN implementation\n",
        "    \"\"\"\n",
        "    if img.shape != (32, 32,3):\n",
        "        raise Exception('Wrong image shape')\n",
        "\n",
        "    # Get channels (32, 32)\n",
        "    r = img[:,:,0]\n",
        "    g = img[:,:,1]\n",
        "    b = img[:,:,2]\n",
        "\n",
        "    # Flatten\n",
        "    rf = r.reshape(-1,1024)\n",
        "    gf = g.reshape(-1, 1024)\n",
        "    bf = b.reshape(-1, 1024)\n",
        "\n",
        "    # Quantize - <1,1,6> fixed-point value\n",
        "    #rq = rf >> 2\n",
        "    #gq = gf >> 2\n",
        "    #bq = bf >> 2\n",
        "\n",
        "    fpga_img = np.concatenate((rf, gf, bf), axis=1)\n",
        "    #fpga_img = rq\n",
        "   #fpga_img = np.append(fpga_img, 0)\n",
        "    fpga_img=np.concatenate((fpga_img, np.zeros((1, 1), dtype=fpga_img.dtype)), axis=1)\n",
        "    # Añadir un cero al final\n",
        "\n",
        "    return fpga_img"
      ],
      "metadata": {
        "id": "q9K1eU2dwrDd"
      },
      "execution_count": 9,
      "outputs": []
    },
    {
      "cell_type": "code",
      "source": [
        "img = format_img_fpga(X_test_avion_rana[index])\n",
        "print(img)\n",
        "with open('frog_image_index_426.bin', 'wb') as f:\n",
        "    f.write(img)"
      ],
      "metadata": {
        "colab": {
          "base_uri": "https://localhost:8080/"
        },
        "id": "2YT9ko8swvum",
        "outputId": "0da3100c-f0eb-450f-8f04-c44b1917f545"
      },
      "execution_count": 11,
      "outputs": [
        {
          "output_type": "stream",
          "name": "stdout",
          "text": [
            "[[72 83 88 ... 14 26  0]]\n"
          ]
        }
      ]
    },
    {
      "cell_type": "code",
      "source": [],
      "metadata": {
        "id": "7-t74PELAYqM"
      },
      "execution_count": null,
      "outputs": []
    }
  ]
}