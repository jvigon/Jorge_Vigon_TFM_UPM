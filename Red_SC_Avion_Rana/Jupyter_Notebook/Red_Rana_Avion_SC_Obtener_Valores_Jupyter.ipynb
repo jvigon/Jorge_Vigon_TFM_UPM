{
 "cells": [
  {
   "cell_type": "code",
   "execution_count": 1,
   "metadata": {},
   "outputs": [],
   "source": [
    "import math\n",
    "import numpy as np\n",
    "#import h5py\n",
    "import matplotlib.pyplot as plt\n",
    "#from matplotlib.pyplot import imread\n",
    "#import scipy\n",
    "#from PIL import Image\n",
    "#i#ort pandas as pd\n",
    "import tensorflow as tf\n",
    "import tensorflow.keras.layers as tfl\n",
    "from tensorflow.python.framework import ops\n",
    "#from cnn_utils import *\n",
    "from test_utils import summary, comparator\n",
    "\n",
    "%matplotlib inline\n",
    "np.random.seed(1)"
   ]
  },
  {
   "cell_type": "code",
   "execution_count": 2,
   "metadata": {},
   "outputs": [],
   "source": [
    "w=[[[[-2.87726074e-01, -2.13144615e-01],\n",
    "          [-1.70967817e-01,  7.77902901e-02],\n",
    "          [-1.10756032e-01,  4.43092525e-01]],\n",
    " \n",
    "         [[-1.01280892e-02, -2.67773181e-01],\n",
    "          [ 8.70948359e-02, -1.34741738e-01],\n",
    "          [ 3.32998447e-02,  1.81258425e-01]],\n",
    " \n",
    "         [[-2.92300284e-01,  4.39086854e-02],\n",
    "          [ 1.14349812e-01, -3.83515432e-02],\n",
    "          [ 1.80642344e-02,  6.12849519e-02]],\n",
    " \n",
    "         [[ 1.29207179e-01,  8.04681256e-02],\n",
    "          [-2.33245082e-04,  1.91771209e-01],\n",
    "          [-1.43450290e-01,  1.24637127e-01]],\n",
    " \n",
    "         [[-2.71550417e-01, -2.35374682e-02],\n",
    "          [-8.56711864e-02, -1.48314282e-01],\n",
    "          [-2.40141302e-01, -2.49819845e-01]]],\n",
    " \n",
    " \n",
    "        [[[ 1.38185605e-01, -2.00603366e-01],\n",
    "          [ 2.02244163e-01, -1.77183002e-01],\n",
    "          [-4.77392785e-02,  1.58466488e-01]],\n",
    " \n",
    "         [[-7.22985268e-02, -5.86452931e-02],\n",
    "          [ 2.00523362e-01,  9.61338431e-02],\n",
    "          [-2.11441189e-01,  1.70188665e-01]],\n",
    " \n",
    "         [[ 1.46813512e-01, -5.20003699e-02],\n",
    "          [ 3.63386311e-02,  7.69097060e-02],\n",
    "          [ 1.00694805e-01, -1.36276364e-01]],\n",
    " \n",
    "         [[-6.28469214e-02,  3.13595057e-01],\n",
    "          [ 2.19128683e-01,  1.50380135e-02],\n",
    "          [-3.29140961e-01, -3.39972936e-02]],\n",
    " \n",
    "         [[ 7.30818287e-02,  1.03169955e-01],\n",
    "          [ 7.83474818e-02,  1.91423818e-01],\n",
    "          [-1.49635404e-01, -2.43927389e-01]]],\n",
    " \n",
    " \n",
    "        [[[-4.95439060e-02, -3.32588166e-01],\n",
    "          [-7.98598900e-02, -2.58716822e-01],\n",
    "          [-4.35757041e-01,  3.36973250e-01]],\n",
    " \n",
    "         [[ 9.01433919e-03,  8.01802427e-02],\n",
    "          [ 1.13111846e-01, -1.80162601e-02],\n",
    "          [-6.74807504e-02,  1.32493213e-01]],\n",
    " \n",
    "         [[ 9.24876779e-02, -9.43584666e-02],\n",
    "          [ 7.01090693e-02, -1.81494102e-01],\n",
    "          [ 3.08505213e-03, -1.88198224e-01]],\n",
    " \n",
    "         [[-3.55880708e-02, -1.17006890e-01],\n",
    "          [-1.46335781e-01, -3.22040051e-01],\n",
    "          [-1.80616289e-01,  1.11090288e-01]],\n",
    " \n",
    "         [[-5.99052235e-02,  2.47072786e-01],\n",
    "          [ 2.45217815e-01,  1.18741188e-02],\n",
    "          [-2.26027109e-02, -1.13854930e-02]]],\n",
    " \n",
    " \n",
    "        [[[-5.53958938e-02, -3.28395724e-01],\n",
    "          [ 2.36359850e-01, -2.62579978e-01],\n",
    "          [-2.65422106e-01,  5.00602603e-01]],\n",
    " \n",
    "         [[ 1.75131410e-02, -4.11213160e-01],\n",
    "          [ 1.26186579e-01, -2.09061816e-01],\n",
    "          [ 1.64233491e-01,  9.38537493e-02]],\n",
    " \n",
    "         [[-1.84637159e-01, -6.06457889e-02],\n",
    "          [ 2.95527548e-01, -4.03569907e-01],\n",
    "          [ 3.44451936e-03,  1.52667969e-01]],\n",
    " \n",
    "         [[-7.40479603e-02, -1.48156554e-01],\n",
    "          [ 2.12050587e-01, -1.36618391e-01],\n",
    "          [-4.44800258e-02,  5.22313714e-02]],\n",
    " \n",
    "         [[-4.61285859e-02, -3.13889682e-01],\n",
    "          [-2.05800116e-01, -3.70985925e-01],\n",
    "          [-2.03848645e-01,  1.92488581e-01]]],\n",
    " \n",
    " \n",
    "        [[[ 1.46156684e-01, -1.70358688e-01],\n",
    "          [ 3.32475096e-01,  2.97371030e-01],\n",
    "          [-3.96278441e-01,  7.56586611e-01]],\n",
    " \n",
    "         [[-3.34352292e-02, -7.25021288e-02],\n",
    "          [ 1.21698171e-01,  8.29709768e-02],\n",
    "          [-1.99762672e-01,  7.00033307e-01]],\n",
    " \n",
    "         [[-9.49652791e-02, -8.26335177e-02],\n",
    "          [-1.68371737e-01,  1.11266211e-01],\n",
    "          [-1.85594395e-01,  5.12987614e-01]],\n",
    " \n",
    "         [[ 1.36395827e-01, -1.77388340e-01],\n",
    "          [ 1.79758698e-01,  1.28983170e-01],\n",
    "          [-1.44127402e-02,  4.18713033e-01]],\n",
    " \n",
    "         [[ 9.64304358e-02, -2.86781341e-01],\n",
    "          [ 1.99489206e-01, -1.34659493e-02],\n",
    "          [-2.50617951e-01,  6.50567234e-01]]]]"
   ]
  },
  {
   "cell_type": "code",
   "execution_count": 3,
   "metadata": {},
   "outputs": [],
   "source": [
    "w_array=np.array(w)\n",
    "w_pesos = w_array.reshape(5, 5, 3, 2)\n",
    "w_pesos = np.clip(w_pesos, -1,1)\n"
   ]
  },
  {
   "cell_type": "code",
   "execution_count": 4,
   "metadata": {},
   "outputs": [
    {
     "data": {
      "text/plain": [
       "0.0439086854"
      ]
     },
     "execution_count": 4,
     "metadata": {},
     "output_type": "execute_result"
    }
   ],
   "source": [
    "dato_peso = w_pesos[0,2,0,1] #fila 0 columna 2, primer color, segundo filtro\n",
    "dato_peso"
   ]
  },
  {
   "cell_type": "code",
   "execution_count": 5,
   "metadata": {},
   "outputs": [
    {
     "data": {
      "text/plain": [
       "-0.329140961"
      ]
     },
     "execution_count": 5,
     "metadata": {},
     "output_type": "execute_result"
    }
   ],
   "source": [
    "dato_peso = w_pesos[1,3,2,0] #fila 1 columna 3, tercer color, primer filtro\n",
    "dato_peso\n",
    "#orden: fila 0 columna 0 los tres colores, lueog se suma una a la columna, los tres colores asi hasta lelgar a 4 columnas donde se\n",
    "#aumenta uno a la fila, esto a la izq, a la dcha lo mismo pero con el segundo filtro"
   ]
  },
  {
   "cell_type": "code",
   "execution_count": 6,
   "metadata": {},
   "outputs": [
    {
     "name": "stdout",
     "output_type": "stream",
     "text": [
      "(5, 5, 3, 2)\n"
     ]
    }
   ],
   "source": [
    "forma_w = w_pesos.shape\n",
    "\n",
    "print(forma_w )"
   ]
  },
  {
   "cell_type": "code",
   "execution_count": 7,
   "metadata": {},
   "outputs": [
    {
     "data": {
      "text/plain": [
       "array([1.        , 0.60879153])"
      ]
     },
     "execution_count": 7,
     "metadata": {},
     "output_type": "execute_result"
    }
   ],
   "source": [
    "b_pesos = np.array([1.040436  , 0.60879153])\n",
    "b_pesos=np.clip(b_pesos,-1,1)\n",
    "b_pesos"
   ]
  },
  {
   "cell_type": "code",
   "execution_count": 8,
   "metadata": {},
   "outputs": [
    {
     "name": "stdout",
     "output_type": "stream",
     "text": [
      "(2,)\n"
     ]
    }
   ],
   "source": [
    "forma_b = b_pesos.shape\n",
    "\n",
    "print(forma_b)"
   ]
  },
  {
   "cell_type": "code",
   "execution_count": 9,
   "metadata": {},
   "outputs": [],
   "source": [
    "#COJO DE EJEMPLO PARA LA ENTRADA UNA FOTO DE RANA Y OTRA DE AVION PARA VER LOS VALORES DEL POOL\n",
    "cifar10 = tf.keras.datasets.cifar10\n",
    "(X_train_orig, Y_train_orig), (X_test_orig, Y_test_orig) = cifar10.load_data()"
   ]
  },
  {
   "cell_type": "code",
   "execution_count": 10,
   "metadata": {},
   "outputs": [],
   "source": [
    "# Definir las clases que nos interesan (gato y perro) PARA HACERLO SOLO CON SIGMOID\n",
    "avion_class_ver = 0  #AVION\n",
    "rana_class_ver = 6  # RANA\n",
    "\n",
    "# Filtrar las imágenes y etiquetas para quedarnos solo con los gatos y perros\n",
    "avion_indices = (Y_train_orig == avion_class_ver).squeeze()\n",
    "rana_indices = (Y_train_orig == rana_class_ver).squeeze()\n",
    "avion_rana_indices = avion_indices | rana_indices\n",
    "\n",
    "X_train_avion_rana_ver = X_train_orig[avion_rana_indices]\n",
    "Y_train_avion_rana_ver = Y_train_orig[avion_rana_indices]\n",
    "# Definir las clases que nos interesan (aviom y rana) PARA HACERLO SOLO CON SIGMOID\n",
    "avion_class = 0  #AVION\n",
    "rana_class = 6  # RANA\n",
    "\n",
    "# Filtrar las imágenes y etiquetas para quedarnos solo con los gatos y perros\n",
    "avion_indices = (Y_test_orig == avion_class).squeeze()\n",
    "rana_indices = (Y_test_orig == rana_class).squeeze()\n",
    "avion_rana_indices = avion_indices | rana_indices\n",
    "\n",
    "X_test_avion_rana_ver = X_test_orig[avion_rana_indices]\n",
    "Y_test_avion_rana_ver = Y_test_orig[avion_rana_indices]\n",
    "\n",
    "Y_train_avion_rana_ver= np.where(Y_train_avion_rana_ver == rana_class, 0, 1) # 1 avion 0 rana\n",
    "Y_test_avion_rana_ver = np.where(Y_test_avion_rana_ver == rana_class, 0, 1)\n"
   ]
  },
  {
   "cell_type": "code",
   "execution_count": 11,
   "metadata": {},
   "outputs": [
    {
     "data": {
      "image/png": "[encoded data removed]",
      "text/plain": [
       "<Figure size 640x480 with 1 Axes>"
      ]
     },
     "metadata": {},
     "output_type": "display_data"
    }
   ],
   "source": [
    "index_rana_ver = 280\n",
    "Entrada_rana_ver=X_test_avion_rana_ver[index_rana_ver]\n",
    "plt.title(Y_test_avion_rana_ver[index_rana_ver])\n",
    "plt.imshow(Entrada_rana_ver) #display sample training image\n",
    "plt.show()"
   ]
  },
  {
   "cell_type": "code",
   "execution_count": 12,
   "metadata": {},
   "outputs": [
    {
     "data": {
      "image/png": "[encoded data removed]",
      "text/plain": [
       "<Figure size 640x480 with 1 Axes>"
      ]
     },
     "metadata": {},
     "output_type": "display_data"
    }
   ],
   "source": [
    "#FOTO RANA INDEX 124\n",
    "index_avion_ver = 115\n",
    "Entrada_avion_ver=X_test_avion_rana_ver[index_avion_ver]\n",
    "plt.title(Y_test_avion_rana_ver[index_avion_ver])\n",
    "plt.imshow(Entrada_avion_ver) #display sample training image\n",
    "plt.show()"
   ]
  },
  {
   "cell_type": "code",
   "execution_count": 13,
   "metadata": {},
   "outputs": [],
   "source": [
    "# Normalize image vectors\n",
    "X_train = X_train_orig/255.\n",
    "X_test = X_test_orig/255.\n",
    "\n",
    "# Reshape\n",
    "Y_train = Y_train_orig\n",
    "Y_test = Y_test_orig"
   ]
  },
  {
   "cell_type": "code",
   "execution_count": 14,
   "metadata": {},
   "outputs": [],
   "source": [
    "#NORMALIZAMOS ENTRE -1 Y1 COMO HEMOS ENTRENADO\n",
    "X_train = (X_train*2)-1\n",
    "X_test =(X_test*2)-1"
   ]
  },
  {
   "cell_type": "code",
   "execution_count": 15,
   "metadata": {},
   "outputs": [
    {
     "name": "stdout",
     "output_type": "stream",
     "text": [
      "Dimensiones de X_train_cat_dog: (10000, 32, 32, 3)\n",
      "Dimensiones de Y_train_cat_dog: (10000, 1)\n"
     ]
    }
   ],
   "source": [
    "# Definir las clases que nos interesan (gato y perro) PARA HACERLO SOLO CON SIGMOID\n",
    "avion_class = 0  #AVION\n",
    "rana_class = 6  # RANA\n",
    "\n",
    "# Filtrar las imágenes y etiquetas para quedarnos solo con los gatos y perros\n",
    "avion_indices = (Y_train == avion_class).squeeze()\n",
    "rana_indices = (Y_train == rana_class).squeeze()\n",
    "avion_rana_indices = avion_indices | rana_indices\n",
    "\n",
    "X_train_avion_rana = X_train[avion_rana_indices]\n",
    "Y_train_avion_rana = Y_train[avion_rana_indices]\n",
    "\n",
    "# Verificar las dimensiones del nuevo conjunto de datos\n",
    "print(\"Dimensiones de X_train_cat_dog:\", X_train_avion_rana.shape)\n",
    "print(\"Dimensiones de Y_train_cat_dog:\", Y_train_avion_rana.shape)\n"
   ]
  },
  {
   "cell_type": "code",
   "execution_count": 16,
   "metadata": {},
   "outputs": [
    {
     "name": "stdout",
     "output_type": "stream",
     "text": [
      "Dimensiones de X_train_cat_dog: (2000, 32, 32, 3)\n",
      "Dimensiones de Y_train_cat_dog: (2000, 1)\n"
     ]
    }
   ],
   "source": [
    "# Definir las clases que nos interesan (aviom y rana) PARA HACERLO SOLO CON SIGMOID\n",
    "avion_class = 0  #AVION\n",
    "rana_class = 6  # RANA\n",
    "\n",
    "# Filtrar las imágenes y etiquetas para quedarnos solo con los gatos y perros\n",
    "avion_indices = (Y_test == avion_class).squeeze()\n",
    "rana_indices = (Y_test == rana_class).squeeze()\n",
    "avion_rana_indices = avion_indices | rana_indices\n",
    "\n",
    "X_test_avion_rana = X_test[avion_rana_indices]\n",
    "Y_test_avion_rana = Y_test[avion_rana_indices]\n",
    "\n",
    "# Verificar las dimensiones del nuevo conjunto de datos\n",
    "print(\"Dimensiones de X_train_cat_dog:\", X_test_avion_rana.shape)\n",
    "print(\"Dimensiones de Y_train_cat_dog:\", Y_test_avion_rana.shape)"
   ]
  },
  {
   "cell_type": "code",
   "execution_count": 17,
   "metadata": {},
   "outputs": [],
   "source": [
    "Y_train_avion_rana= np.where(Y_train_avion_rana == rana_class, 0, 1) # 1 avion 0 rana\n",
    "Y_test_avion_rana = np.where(Y_test_avion_rana == rana_class, 0, 1)"
   ]
  },
  {
   "cell_type": "code",
   "execution_count": 18,
   "metadata": {},
   "outputs": [
    {
     "name": "stderr",
     "output_type": "stream",
     "text": [
      "Clipping input data to the valid range for imshow with RGB data ([0..1] for floats or [0..255] for integers). Got range [-1.0..0.46666666666666656].\n"
     ]
    },
    {
     "data": {
      "image/png": "[encoded data removed]",
      "text/plain": [
       "<Figure size 640x480 with 1 Axes>"
      ]
     },
     "metadata": {},
     "output_type": "display_data"
    }
   ],
   "source": [
    "#FOTO RANA INDEX 124\n",
    "index_rana = 426\n",
    "Entrada_rana=X_test_avion_rana[index_rana]\n",
    "plt.title(Y_test_avion_rana[index_rana])\n",
    "plt.imshow(Entrada_rana) #display sample training image\n",
    "plt.show()"
   ]
  },
  {
   "cell_type": "code",
   "execution_count": 19,
   "metadata": {},
   "outputs": [
    {
     "name": "stderr",
     "output_type": "stream",
     "text": [
      "Clipping input data to the valid range for imshow with RGB data ([0..1] for floats or [0..255] for integers). Got range [-1.0..1.0].\n"
     ]
    },
    {
     "data": {
      "image/png": "[encoded data removed]",
      "text/plain": [
       "<Figure size 640x480 with 1 Axes>"
      ]
     },
     "metadata": {},
     "output_type": "display_data"
    }
   ],
   "source": [
    "#FOTO RANA INDEX 124\n",
    "index_avion = 1250\n",
    "Entrada_avion=X_test_avion_rana[index_avion]\n",
    "plt.title(Y_test_avion_rana[index_avion])\n",
    "plt.imshow(Entrada_avion) #display sample training image\n",
    "plt.show()"
   ]
  },
  {
   "cell_type": "code",
   "execution_count": 20,
   "metadata": {},
   "outputs": [],
   "source": [
    "#Entrada_rana"
   ]
  },
  {
   "cell_type": "code",
   "execution_count": 21,
   "metadata": {},
   "outputs": [],
   "source": [
    "entrada_array =np.array(Entrada_rana)\n",
    "entrada_rana= entrada_array.reshape(32, 32, 3)\n",
    "#entrada_rana"
   ]
  },
  {
   "cell_type": "code",
   "execution_count": 22,
   "metadata": {},
   "outputs": [],
   "source": [
    "np.set_printoptions(threshold=np.inf)\n",
    "\n",
    "# Ahora imprime la matriz\n",
    "#print(entrada_rana)"
   ]
  },
  {
   "cell_type": "code",
   "execution_count": 23,
   "metadata": {},
   "outputs": [
    {
     "name": "stdout",
     "output_type": "stream",
     "text": [
      "-0.5764705882352941\n"
     ]
    }
   ],
   "source": [
    "dato = entrada_rana[0, 0, 2] #en el print va fila 0, columna 0 y los tres colores\n",
    "print(dato)"
   ]
  },
  {
   "cell_type": "code",
   "execution_count": 24,
   "metadata": {},
   "outputs": [
    {
     "name": "stdout",
     "output_type": "stream",
     "text": [
      "-0.34901960784313724\n"
     ]
    }
   ],
   "source": [
    "dato = entrada_rana[0, 1, 0] #en el print va fila 0, columna 1 y el primer\n",
    "print(dato)"
   ]
  },
  {
   "cell_type": "code",
   "execution_count": 25,
   "metadata": {},
   "outputs": [
    {
     "name": "stdout",
     "output_type": "stream",
     "text": [
      "-0.7176470588235294\n"
     ]
    }
   ],
   "source": [
    "dato = entrada_rana[0, 31, 0] #en el print va fila 0, columna 1 y el primer\n",
    "print(dato)"
   ]
  },
  {
   "cell_type": "code",
   "execution_count": 26,
   "metadata": {},
   "outputs": [
    {
     "name": "stdout",
     "output_type": "stream",
     "text": [
      "-0.6313725490196078\n"
     ]
    }
   ],
   "source": [
    "dato = entrada_rana[1, 0, 0] #en el print va fila 0, columna 1 y el primer\n",
    "print(dato)\n",
    "# imprime los tres colores (3 en horizontal) luego va hace fila 0 de columna 0 a 31 y luego fila "
   ]
  },
  {
   "cell_type": "code",
   "execution_count": 27,
   "metadata": {},
   "outputs": [
    {
     "name": "stdout",
     "output_type": "stream",
     "text": [
      "(1, 32, 32, 3)\n"
     ]
    }
   ],
   "source": [
    "entrada_rana = np.expand_dims(entrada_rana, axis=0)\n",
    "forma_entrada_rana = entrada_rana.shape\n",
    "\n",
    "print(forma_entrada_rana)"
   ]
  },
  {
   "cell_type": "code",
   "execution_count": 28,
   "metadata": {},
   "outputs": [],
   "source": [
    "\n",
    "entrada_tf_rana = tf.constant(entrada_rana, dtype=tf.float32)\n",
    "pesos_filtro_tf = tf.constant(w_pesos, dtype=tf.float32)\n",
    "sesgos_tf = tf.constant(b_pesos, dtype=tf.float32)\n",
    "\n",
    "# Realizar la convolución\n",
    "resultado_convolucion = tf.nn.conv2d(entrada_tf_rana, pesos_filtro_tf, strides=[1, 9, 9, 1], padding='VALID')\n",
    "\n",
    "# Agregar los sesgos\n",
    "resultado_convolucion_y_sesgos_rana = tf.nn.bias_add(resultado_convolucion, sesgos_tf)\n"
   ]
  },
  {
   "cell_type": "code",
   "execution_count": 29,
   "metadata": {},
   "outputs": [
    {
     "data": {
      "text/plain": [
       "<tf.Tensor: shape=(1, 4, 4, 2), dtype=float32, numpy=\n",
       "array([[[[ 2.630683  , -0.6561566 ],\n",
       "         [ 2.602291  , -1.0891917 ],\n",
       "         [ 3.138454  , -1.1951141 ],\n",
       "         [ 2.5272453 ,  0.00412965]],\n",
       "\n",
       "        [[ 2.537797  , -0.66070646],\n",
       "         [ 2.246017  , -1.2590904 ],\n",
       "         [ 2.6425037 , -1.2156312 ],\n",
       "         [ 2.1718822 , -0.9506758 ]],\n",
       "\n",
       "        [[ 1.8356234 , -1.2732282 ],\n",
       "         [ 2.0121734 , -1.1194482 ],\n",
       "         [ 2.2622213 , -1.0632179 ],\n",
       "         [ 2.1953518 , -1.5161619 ]],\n",
       "\n",
       "        [[ 2.2204816 , -1.5633857 ],\n",
       "         [ 1.8358715 , -0.31878787],\n",
       "         [ 2.2868319 , -0.7967922 ],\n",
       "         [ 2.0713696 , -1.0988629 ]]]], dtype=float32)>"
      ]
     },
     "execution_count": 29,
     "metadata": {},
     "output_type": "execute_result"
    }
   ],
   "source": [
    "resultado_convolucion_y_sesgos_rana"
   ]
  },
  {
   "cell_type": "code",
   "execution_count": 30,
   "metadata": {},
   "outputs": [
    {
     "data": {
      "text/plain": [
       "<tf.Tensor: shape=(1, 4, 4, 2), dtype=float32, numpy=\n",
       "array([[[[ 0.65767074, -0.16403915],\n",
       "         [ 0.6505728 , -0.27229792],\n",
       "         [ 0.7846135 , -0.29877853],\n",
       "         [ 0.6318113 ,  0.00103241]],\n",
       "\n",
       "        [[ 0.63444924, -0.16517662],\n",
       "         [ 0.56150424, -0.3147726 ],\n",
       "         [ 0.66062593, -0.3039078 ],\n",
       "         [ 0.54297054, -0.23766895]],\n",
       "\n",
       "        [[ 0.45890585, -0.31830704],\n",
       "         [ 0.50304335, -0.27986205],\n",
       "         [ 0.56555533, -0.26580447],\n",
       "         [ 0.54883796, -0.37904048]],\n",
       "\n",
       "        [[ 0.5551204 , -0.39084643],\n",
       "         [ 0.45896786, -0.07969697],\n",
       "         [ 0.57170796, -0.19919805],\n",
       "         [ 0.5178424 , -0.27471572]]]], dtype=float32)>"
      ]
     },
     "execution_count": 30,
     "metadata": {},
     "output_type": "execute_result"
    }
   ],
   "source": [
    "resultado_filtro_norm_rana = resultado_convolucion_y_sesgos_rana/4\n",
    "resultado_filtro_norm_rana"
   ]
  },
  {
   "cell_type": "code",
   "execution_count": 31,
   "metadata": {},
   "outputs": [
    {
     "data": {
      "text/plain": [
       "array([[[[211., 107.],\n",
       "         [210.,  93.],\n",
       "         [228.,  89.],\n",
       "         [208., 128.]],\n",
       "\n",
       "        [[208., 106.],\n",
       "         [199.,  87.],\n",
       "         [212.,  89.],\n",
       "         [197.,  97.]],\n",
       "\n",
       "        [[186.,  87.],\n",
       "         [192.,  92.],\n",
       "         [200.,  94.],\n",
       "         [197.,  79.]],\n",
       "\n",
       "        [[198.,  78.],\n",
       "         [186., 117.],\n",
       "         [200., 102.],\n",
       "         [194.,  92.]]]], dtype=float32)"
      ]
     },
     "execution_count": 31,
     "metadata": {},
     "output_type": "execute_result"
    }
   ],
   "source": [
    "estocast_rana = np.round((255*resultado_filtro_norm_rana +255)/2)\n",
    "estocast_rana"
   ]
  },
  {
   "cell_type": "code",
   "execution_count": 32,
   "metadata": {},
   "outputs": [],
   "source": [
    "resultado_relu_norm_rana = tf.nn.relu(resultado_filtro_norm_rana)\n",
    "\n",
    "# Aplicar una capa de pooling 2x2\n",
    "resultado_pooling_norm_rana = tf.nn.max_pool(resultado_relu_norm_rana, ksize=[1, 2, 2, 1], strides=[1, 2, 2, 1], padding='VALID')\n",
    "\n",
    "# Imprimir la forma del resultado de"
   ]
  },
  {
   "cell_type": "code",
   "execution_count": 33,
   "metadata": {},
   "outputs": [
    {
     "data": {
      "text/plain": [
       "array([[[[0.65767074, 0.        ],\n",
       "         [0.7846135 , 0.00103241]],\n",
       "\n",
       "        [[0.5551204 , 0.        ],\n",
       "         [0.57170796, 0.        ]]]], dtype=float32)"
      ]
     },
     "execution_count": 33,
     "metadata": {},
     "output_type": "execute_result"
    }
   ],
   "source": [
    "resultado_pooling_norm_rana = np.clip (resultado_pooling_norm_rana,-1,1)\n",
    "resultado_pooling_norm_rana"
   ]
  },
  {
   "cell_type": "code",
   "execution_count": 34,
   "metadata": {},
   "outputs": [
    {
     "name": "stdout",
     "output_type": "stream",
     "text": [
      "(1, 2, 2, 2)\n"
     ]
    }
   ],
   "source": [
    "dimensiones = resultado_pooling_norm_rana.shape\n",
    "print(dimensiones) "
   ]
  },
  {
   "cell_type": "code",
   "execution_count": 35,
   "metadata": {},
   "outputs": [
    {
     "name": "stdout",
     "output_type": "stream",
     "text": [
      "0.65767074\n",
      "0.7846135\n",
      "0.5551204\n",
      "0.57170796\n",
      "0.0\n",
      "0.001032412\n",
      "0.0\n",
      "0.0\n"
     ]
    }
   ],
   "source": [
    "pool0_0_0= resultado_pooling_norm_rana[0,0,0,0]\n",
    "pool0_1_0= resultado_pooling_norm_rana[0,0,1,0]\n",
    "pool1_0_0= resultado_pooling_norm_rana[0,1,0,0]\n",
    "pool1_1_0= resultado_pooling_norm_rana[0,1,1,0]\n",
    "pool0_0_1= resultado_pooling_norm_rana[0,0,0,1]\n",
    "pool0_1_1= resultado_pooling_norm_rana[0,0,1,1]\n",
    "pool1_0_1= resultado_pooling_norm_rana[0,1,0,1]\n",
    "pool1_1_1= resultado_pooling_norm_rana[0,1,1,1]\n",
    "print(pool0_0_0)\n",
    "print(pool0_1_0)\n",
    "print(pool1_0_0)\n",
    "print(pool1_1_0)\n",
    "print(pool0_0_1)\n",
    "print(pool0_1_1)\n",
    "print(pool1_0_1)\n",
    "print(pool1_1_1)"
   ]
  },
  {
   "cell_type": "code",
   "execution_count": 36,
   "metadata": {},
   "outputs": [
    {
     "data": {
      "text/plain": [
       "array([[-0.86564887],\n",
       "       [ 0.74361247],\n",
       "       [-0.86361414],\n",
       "       [ 1.        ],\n",
       "       [ 0.29756275],\n",
       "       [-0.53874725],\n",
       "       [ 0.22574893],\n",
       "       [ 0.2403658 ]])"
      ]
     },
     "execution_count": 36,
     "metadata": {},
     "output_type": "execute_result"
    }
   ],
   "source": [
    "w_fullyc_orig=[[-0.86564887],\n",
    "        [ 0.74361247],\n",
    "        [-0.86361414],\n",
    "        [ 1.0822501 ],\n",
    "        [ 0.29756275],\n",
    "        [-0.53874725],\n",
    "        [ 0.22574893],\n",
    "        [ 0.2403658 ]]\n",
    "w_fullyc_array=np.array(w_fullyc_orig)\n",
    "w_fullyc_reshaped = w_fullyc_array.reshape(8,1)\n",
    "w_fullyc=np.clip(w_fullyc_reshaped,-1,1)\n",
    "w_fullyc"
   ]
  },
  {
   "cell_type": "code",
   "execution_count": 37,
   "metadata": {},
   "outputs": [
    {
     "data": {
      "text/plain": [
       "array([[[[0.65767074, 0.        ],\n",
       "         [0.7846135 , 0.00103241]],\n",
       "\n",
       "        [[0.5551204 , 0.        ],\n",
       "         [0.57170796, 0.        ]]]], dtype=float32)"
      ]
     },
     "execution_count": 37,
     "metadata": {},
     "output_type": "execute_result"
    }
   ],
   "source": [
    "resultado_pooling_norm_rana"
   ]
  },
  {
   "cell_type": "code",
   "execution_count": 38,
   "metadata": {},
   "outputs": [
    {
     "data": {
      "text/plain": [
       "array([0.3093216])"
      ]
     },
     "execution_count": 38,
     "metadata": {},
     "output_type": "execute_result"
    }
   ],
   "source": [
    "b_fullyc_orig = np.array([0.3093216])\n",
    "b_fullyc =b_fullyc_orig\n",
    "b_fullyc"
   ]
  },
  {
   "cell_type": "code",
   "execution_count": 39,
   "metadata": {},
   "outputs": [],
   "source": [
    "# Aplana la salida\n",
    "flattened_output_norm_rana = tfl.Flatten()(resultado_pooling_norm_rana)\n",
    "\n",
    "# Calcular la capa densa manualmente\n",
    "dense_weights_rana =w_fullyc # Inserta tus pesos aquí (debe tener la forma (flattened_output.shape[1], 8))\n",
    "dense_bias_rana = b_fullyc     # Inserta tu sesgo aquí (debe tener la forma (8,))\n",
    "z_norm_rana_pesos = tf.matmul(flattened_output_norm_rana, dense_weights_rana) \n",
    "\n",
    "#CUENTAS PAPEL POR EL BIAS Y PESOS FC\n",
    "z_norm_rana=z_norm_rana_pesos*4\n",
    "z_norm_rana=z_norm_rana + dense_bias_rana\n",
    "#NO DIVIDIMOS LOS PESOS AHORA z2_norm_rana=z_norm_rana*2\n",
    "z2_norm_rana=z_norm_rana\n",
    "sigmoid_output_rana = tf.nn.sigmoid(z2_norm_rana)\n"
   ]
  },
  {
   "cell_type": "code",
   "execution_count": 40,
   "metadata": {},
   "outputs": [
    {
     "data": {
      "text/plain": [
       "<tf.Tensor: shape=(1, 1), dtype=float32, numpy=array([[-0.9516371]], dtype=float32)>"
      ]
     },
     "execution_count": 40,
     "metadata": {},
     "output_type": "execute_result"
    }
   ],
   "source": [
    "z_norm_rana_pesos"
   ]
  },
  {
   "cell_type": "code",
   "execution_count": 41,
   "metadata": {},
   "outputs": [
    {
     "data": {
      "text/plain": [
       "<tf.Tensor: shape=(1, 8), dtype=float32, numpy=\n",
       "array([[0.65767074, 0.        , 0.7846135 , 0.00103241, 0.5551204 ,\n",
       "        0.        , 0.57170796, 0.        ]], dtype=float32)>"
      ]
     },
     "execution_count": 41,
     "metadata": {},
     "output_type": "execute_result"
    }
   ],
   "source": [
    "flattened_output_norm_rana"
   ]
  },
  {
   "cell_type": "code",
   "execution_count": 42,
   "metadata": {},
   "outputs": [
    {
     "data": {
      "text/plain": [
       "<tf.Tensor: shape=(1, 1), dtype=float32, numpy=array([[-3.4972267]], dtype=float32)>"
      ]
     },
     "execution_count": 42,
     "metadata": {},
     "output_type": "execute_result"
    }
   ],
   "source": [
    "z_norm_rana"
   ]
  },
  {
   "cell_type": "code",
   "execution_count": 43,
   "metadata": {},
   "outputs": [
    {
     "name": "stdout",
     "output_type": "stream",
     "text": [
      "(1, 8)\n"
     ]
    }
   ],
   "source": [
    "dimensiones = flattened_output_norm_rana.shape\n",
    "print(dimensiones) "
   ]
  },
  {
   "cell_type": "code",
   "execution_count": 44,
   "metadata": {},
   "outputs": [
    {
     "name": "stdout",
     "output_type": "stream",
     "text": [
      "tf.Tensor(0.65767074, shape=(), dtype=float32)\n",
      "tf.Tensor(0.0, shape=(), dtype=float32)\n",
      "tf.Tensor(0.7846135, shape=(), dtype=float32)\n"
     ]
    }
   ],
   "source": [
    "flatten0= flattened_output_norm_rana[0,0]\n",
    "flatten1= flattened_output_norm_rana[0,1]\n",
    "flatten2= flattened_output_norm_rana[0,2]\n",
    "print(flatten0)\n",
    "print(flatten1)\n",
    "print(flatten2)"
   ]
  },
  {
   "cell_type": "code",
   "execution_count": 45,
   "metadata": {},
   "outputs": [
    {
     "data": {
      "text/plain": [
       "<tf.Tensor: shape=(1, 1), dtype=float32, numpy=array([[-3.4972267]], dtype=float32)>"
      ]
     },
     "execution_count": 45,
     "metadata": {},
     "output_type": "execute_result"
    }
   ],
   "source": [
    "z2_norm_rana"
   ]
  },
  {
   "cell_type": "code",
   "execution_count": 46,
   "metadata": {},
   "outputs": [
    {
     "data": {
      "text/plain": [
       "<tf.Tensor: shape=(1, 1), dtype=float32, numpy=array([[0.02939124]], dtype=float32)>"
      ]
     },
     "execution_count": 46,
     "metadata": {},
     "output_type": "execute_result"
    }
   ],
   "source": [
    "sigmoid_output_rana"
   ]
  },
  {
   "cell_type": "code",
   "execution_count": 47,
   "metadata": {},
   "outputs": [
    {
     "data": {
      "text/plain": [
       "<tf.Tensor: shape=(1, 1), dtype=int32, numpy=array([[0]])>"
      ]
     },
     "execution_count": 47,
     "metadata": {},
     "output_type": "execute_result"
    }
   ],
   "source": [
    "binary_output_rana = tf.where(sigmoid_output_rana < 0.5, 0, 1)\n",
    "# PREDICE BIEN QUE ES UNA RANA\n",
    "binary_output_rana"
   ]
  },
  {
   "cell_type": "code",
   "execution_count": 48,
   "metadata": {},
   "outputs": [],
   "source": [
    "# AHORA COMPRUEBO QUE DARÍA LO MISMO SINO NORMALIZO NI LOS PESOS NI EL POOL2\n",
    "    # AHORA LO MISMO PERO SIN DIVIDIR LOS PESOS NI EL POOL PARA VER QUE DA LO MISMO\n",
    "w_pesos_sin_norm = w_pesos # no los habia divido\n",
    "b_pesos_sin_norm = b_pesos\n",
    "#w_fullyc_sin_norm = w_fullyc*2 # los habia divido por 2\n",
    "#b_fullyc_sin_norm = b_fullyc*2\n",
    "w_fullyc_sin_norm =w_fullyc\n",
    "b_fullyc_sin_norm = b_fullyc"
   ]
  },
  {
   "cell_type": "code",
   "execution_count": 49,
   "metadata": {},
   "outputs": [
    {
     "name": "stdout",
     "output_type": "stream",
     "text": [
      "(1, 2, 2, 2)\n"
     ]
    }
   ],
   "source": [
    "entrada_tf_sin_norm_rana = tf.constant(entrada_rana, dtype=tf.float32)# MISMA ENTRADA ESPERAMOS MISMA SALIDA\n",
    "pesos_filtro_tf_sin_norm_rana = tf.constant(w_pesos_sin_norm, dtype=tf.float32)\n",
    "sesgos_tf_sin_norm_rana = tf.constant(b_pesos_sin_norm, dtype=tf.float32)\n",
    "\n",
    "# Realizar la convolución\n",
    "resultado_convolucion_sin_norm_rana = tf.nn.conv2d(entrada_tf_sin_norm_rana, pesos_filtro_tf_sin_norm_rana, strides=[1, 9, 9, 1], padding='VALID') \n",
    "# Agregar los sesgos\n",
    "resultado_convolucion_y_sesgos_sin_norm_rana = tf.nn.bias_add(resultado_convolucion_sin_norm_rana, sesgos_tf_sin_norm_rana)\n",
    "\n",
    "# NO DIVIDIMOS\n",
    "resultado_filtro_sin_norm_rana = resultado_convolucion_y_sesgos_sin_norm_rana\n",
    "\n",
    "resultado_relu_sin_norm_rana = tf.nn.relu(resultado_filtro_sin_norm_rana)\n",
    "\n",
    "# Aplicar una capa de pooling 2x2\n",
    "resultado_pooling_sin_norm_rana = tf.nn.max_pool(resultado_relu_sin_norm_rana, ksize=[1, 2, 2, 1], strides=[1, 2, 2, 1], padding='VALID')\n",
    "\n",
    "# Imprimir la forma del resultado después de la capa de pooling\n",
    "print(resultado_pooling_sin_norm_rana.shape)"
   ]
  },
  {
   "cell_type": "code",
   "execution_count": 50,
   "metadata": {},
   "outputs": [
    {
     "data": {
      "text/plain": [
       "<tf.Tensor: shape=(1, 2, 2, 2), dtype=float32, numpy=\n",
       "array([[[[2.630683  , 0.        ],\n",
       "         [3.138454  , 0.00412965]],\n",
       "\n",
       "        [[2.2204816 , 0.        ],\n",
       "         [2.2868319 , 0.        ]]]], dtype=float32)>"
      ]
     },
     "execution_count": 50,
     "metadata": {},
     "output_type": "execute_result"
    }
   ],
   "source": [
    "resultado_pooling_sin_norm_rana"
   ]
  },
  {
   "cell_type": "code",
   "execution_count": 51,
   "metadata": {},
   "outputs": [],
   "source": [
    "# Aplana la salida\n",
    "flattened_output_sin_norm_rana = tfl.Flatten()(resultado_pooling_sin_norm_rana)\n",
    "\n",
    "# Calcular la capa densa manualmente\n",
    "dense_weights_sin_norm_rana =w_fullyc_sin_norm # Inserta tus pesos aquí (debe tener la forma (flattened_output.shape[1], 8))\n",
    "dense_bias_sin_norm_rana = b_fullyc_sin_norm     # Inserta tu sesgo aquí (debe tener la forma (8,))\n",
    "z_norm_sin_norm_rana = tf.matmul(flattened_output_sin_norm_rana, dense_weights_sin_norm_rana) + dense_bias_sin_norm_rana\n",
    "\n",
    "# Aplicar la activación sigmoide (si es necesario)\n",
    "sigmoid_output_sin_norm_rana = tf.nn.sigmoid(z_norm_sin_norm_rana)"
   ]
  },
  {
   "cell_type": "code",
   "execution_count": 52,
   "metadata": {},
   "outputs": [
    {
     "data": {
      "text/plain": [
       "<tf.Tensor: shape=(1, 1), dtype=float32, numpy=array([[-3.4972267]], dtype=float32)>"
      ]
     },
     "execution_count": 52,
     "metadata": {},
     "output_type": "execute_result"
    }
   ],
   "source": [
    "z_norm_sin_norm_rana#numpy=array([[-3.27411]] da igual que normalizando, correcto"
   ]
  },
  {
   "cell_type": "code",
   "execution_count": 53,
   "metadata": {},
   "outputs": [],
   "source": [
    "#AHORA REALIZO LO MISMO CON LA FOTO DEL AVION, PARA VER SI NORMALIZANDO EL POOL POR 2 ES SUFICIENTE PARA QUE ESTE ENTRE -1 Y 1\n",
    "entrada_array =np.array(Entrada_avion)\n",
    "entrada_avion= entrada_array.reshape(32, 32, 3)\n",
    "#entrada_avion"
   ]
  },
  {
   "cell_type": "code",
   "execution_count": 54,
   "metadata": {},
   "outputs": [],
   "source": [
    "np.set_printoptions(threshold=np.inf)\n",
    "\n",
    "# Ahora imprime la matriz\n",
    "#print(entrada_avion)"
   ]
  },
  {
   "cell_type": "code",
   "execution_count": 55,
   "metadata": {},
   "outputs": [
    {
     "name": "stdout",
     "output_type": "stream",
     "text": [
      "(1, 32, 32, 3)\n"
     ]
    }
   ],
   "source": [
    "entrada_avion = np.expand_dims(entrada_avion, axis=0)\n",
    "forma_entrada_avion = entrada_avion.shape\n",
    "\n",
    "print(forma_entrada_avion)"
   ]
  },
  {
   "cell_type": "code",
   "execution_count": 56,
   "metadata": {},
   "outputs": [
    {
     "data": {
      "text/plain": [
       "<tf.Tensor: shape=(1, 4, 4, 2), dtype=float32, numpy=\n",
       "array([[[[-0.54870903,  1.5735924 ],\n",
       "         [-0.5334039 ,  1.563808  ],\n",
       "         [-0.635234  ,  1.7194736 ],\n",
       "         [-0.5133625 ,  1.7539446 ]],\n",
       "\n",
       "        [[-0.58815575,  1.5648751 ],\n",
       "         [-0.10251439, -0.12323606],\n",
       "         [-0.58128774,  1.4923363 ],\n",
       "         [-0.5934237 ,  1.7111394 ]],\n",
       "\n",
       "        [[ 1.2943985 ,  1.7474344 ],\n",
       "         [ 1.9371028 ,  0.06353319],\n",
       "         [ 1.4169288 ,  0.3654369 ],\n",
       "         [ 0.64074856,  0.86370564]],\n",
       "\n",
       "        [[ 0.91809976, -0.49535805],\n",
       "         [ 2.387919  ,  0.44892433],\n",
       "         [ 1.4062229 , -0.5336605 ],\n",
       "         [ 1.3343918 , -0.51598555]]]], dtype=float32)>"
      ]
     },
     "execution_count": 56,
     "metadata": {},
     "output_type": "execute_result"
    }
   ],
   "source": [
    "entrada_tf_avion = tf.constant(entrada_avion, dtype=tf.float32)\n",
    "pesos_filtro_tf = tf.constant(w_pesos, dtype=tf.float32)\n",
    "sesgos_tf = tf.constant(b_pesos, dtype=tf.float32)\n",
    "\n",
    "# Realizar la convolución\n",
    "resultado_convolucion_avion = tf.nn.conv2d(entrada_tf_avion, pesos_filtro_tf, strides=[1, 9, 9, 1], padding='VALID') \n",
    "# Agregar los sesgos\n",
    "resultado_convolucion_y_sesgos_avion = tf.nn.bias_add(resultado_convolucion_avion, sesgos_tf)\n",
    "resultado_convolucion_y_sesgos_avion"
   ]
  },
  {
   "cell_type": "code",
   "execution_count": 57,
   "metadata": {},
   "outputs": [
    {
     "data": {
      "text/plain": [
       "array([[[[-0.13717726,  0.3933981 ],\n",
       "         [-0.13335097,  0.390952  ],\n",
       "         [-0.1588085 ,  0.4298684 ],\n",
       "         [-0.12834063,  0.43848616]],\n",
       "\n",
       "        [[-0.14703894,  0.39121878],\n",
       "         [-0.0256286 , -0.03080902],\n",
       "         [-0.14532194,  0.37308407],\n",
       "         [-0.14835593,  0.42778486]],\n",
       "\n",
       "        [[ 0.32359964,  0.4368586 ],\n",
       "         [ 0.4842757 ,  0.0158833 ],\n",
       "         [ 0.3542322 ,  0.09135923],\n",
       "         [ 0.16018714,  0.21592641]],\n",
       "\n",
       "        [[ 0.22952494, -0.12383951],\n",
       "         [ 0.59697974,  0.11223108],\n",
       "         [ 0.35155573, -0.13341512],\n",
       "         [ 0.33359796, -0.12899639]]]], dtype=float32)"
      ]
     },
     "execution_count": 57,
     "metadata": {},
     "output_type": "execute_result"
    }
   ],
   "source": [
    "resultado_filtro_norm_avion = resultado_convolucion_y_sesgos_avion/4\n",
    "resultado_filtro_norm_avion= np.clip(resultado_filtro_norm_avion,-1,1)\n",
    "resultado_filtro_norm_avion"
   ]
  },
  {
   "cell_type": "code",
   "execution_count": 58,
   "metadata": {},
   "outputs": [
    {
     "name": "stdout",
     "output_type": "stream",
     "text": [
      "(1, 2, 2, 2)\n"
     ]
    }
   ],
   "source": [
    "resultado_relu_norm_avion = tf.nn.relu(resultado_filtro_norm_avion)\n",
    "\n",
    "# Aplicar una capa de pooling 2x2\n",
    "resultado_pooling_norm_avion = tf.nn.max_pool(resultado_relu_norm_avion, ksize=[1, 2, 2, 1], strides=[1, 2, 2, 1], padding='VALID')\n",
    "\n",
    "# Imprimir la forma del resultado después de la capa de pooling\n",
    "print(resultado_pooling_norm_avion.shape)"
   ]
  },
  {
   "cell_type": "code",
   "execution_count": 59,
   "metadata": {},
   "outputs": [
    {
     "data": {
      "text/plain": [
       "<tf.Tensor: shape=(1, 2, 2, 2), dtype=float32, numpy=\n",
       "array([[[[0.        , 0.3933981 ],\n",
       "         [0.        , 0.43848616]],\n",
       "\n",
       "        [[0.59697974, 0.4368586 ],\n",
       "         [0.3542322 , 0.21592641]]]], dtype=float32)>"
      ]
     },
     "execution_count": 59,
     "metadata": {},
     "output_type": "execute_result"
    }
   ],
   "source": [
    "resultado_pooling_norm_avion"
   ]
  },
  {
   "cell_type": "code",
   "execution_count": 60,
   "metadata": {},
   "outputs": [],
   "source": [
    "# Aplana la salida\n",
    "flattened_output_norm_avion= tfl.Flatten()(resultado_pooling_norm_avion)\n",
    "\n",
    "# Calcular la capa densa manualmente\n",
    "dense_weights_avion =w_fullyc # Inserta tus pesos aquí (debe tener la forma (flattened_output.shape[1], 8))\n",
    "dense_bias_avion = b_fullyc     # Inserta tu sesgo aquí (debe tener la forma (8,))\n",
    "z_norm_avion_res_capa = tf.matmul(flattened_output_norm_avion, dense_weights_avion) \n",
    "z_norm_avion_res_capa = np.clip (z_norm_avion_res_capa,-1,1)\n",
    "#CUENTAS PAPEL POR EL BIAS Y PESOS FC\n",
    "z_norm_avion=z_norm_avion_res_capa*4\n",
    "z_norm_avion_suma_bias=z_norm_avion + dense_bias_avion\n",
    "z2_norm_avion=z_norm_avion_suma_bias\n",
    "# Aplicar la activación sigmoide (si es necesario)\n",
    "sigmoid_output_avion_norm = tf.nn.sigmoid(z2_norm_avion)\n"
   ]
  },
  {
   "cell_type": "code",
   "execution_count": 61,
   "metadata": {},
   "outputs": [
    {
     "data": {
      "text/plain": [
       "array([[0.80517334]], dtype=float32)"
      ]
     },
     "execution_count": 61,
     "metadata": {},
     "output_type": "execute_result"
    }
   ],
   "source": [
    "z_norm_avion_res_capa"
   ]
  },
  {
   "cell_type": "code",
   "execution_count": 62,
   "metadata": {},
   "outputs": [
    {
     "data": {
      "text/plain": [
       "array([[3.53001495]])"
      ]
     },
     "execution_count": 62,
     "metadata": {},
     "output_type": "execute_result"
    }
   ],
   "source": [
    "z_norm_avion_suma_bias  #en verdad con que sea mayor que cero va a ser avion"
   ]
  },
  {
   "cell_type": "code",
   "execution_count": 63,
   "metadata": {},
   "outputs": [
    {
     "data": {
      "text/plain": [
       "array([[3.53001495]])"
      ]
     },
     "execution_count": 63,
     "metadata": {},
     "output_type": "execute_result"
    }
   ],
   "source": [
    "z2_norm_avion"
   ]
  },
  {
   "cell_type": "code",
   "execution_count": 64,
   "metadata": {},
   "outputs": [
    {
     "data": {
      "text/plain": [
       "<tf.Tensor: shape=(1, 1), dtype=float64, numpy=array([[0.97152983]])>"
      ]
     },
     "execution_count": 64,
     "metadata": {},
     "output_type": "execute_result"
    }
   ],
   "source": [
    "sigmoid_output_avion_norm"
   ]
  },
  {
   "cell_type": "code",
   "execution_count": 65,
   "metadata": {},
   "outputs": [
    {
     "data": {
      "text/plain": [
       "<tf.Tensor: shape=(1, 1), dtype=int32, numpy=array([[1]])>"
      ]
     },
     "execution_count": 65,
     "metadata": {},
     "output_type": "execute_result"
    }
   ],
   "source": [
    "binary_output_avion = tf.where(sigmoid_output_avion_norm < 0.5, 0, 1)\n",
    "binary_output_avion\n",
    "# LO RECONOCE BIEN, TIENE MUCHO MARGEN, AUNQUE SE A RECORTADO UN POCO EN POOL (MAX ERA 2.56 , DIVIDIDO 1.28 SE HA RECORTADO A 1 \n",
    "# PERO VEMOS QUE NO LO AFECTA CASI ES 1 ANTES D ELA COMPARCION)"
   ]
  },
  {
   "cell_type": "code",
   "execution_count": 66,
   "metadata": {},
   "outputs": [
    {
     "name": "stdout",
     "output_type": "stream",
     "text": [
      "(1, 2, 2, 2)\n"
     ]
    }
   ],
   "source": [
    "#POR ULTIMO HACEMOS LA COMPARACION DE NO HACER NORMALIZACION DE PESOS, DE POOL NI POR TANTO DEL CLIP\n",
    "entrada_tf_sin_norm_avion = tf.constant(entrada_avion, dtype=tf.float32)# MISMA ENTRADA ESPERAMOS MISMA SALIDA\n",
    "pesos_filtro_tf_sin_norm_avion = tf.constant(w_pesos_sin_norm, dtype=tf.float32)\n",
    "sesgos_tf_sin_norm_avion = tf.constant(b_pesos_sin_norm, dtype=tf.float32)\n",
    "\n",
    "# Realizar la convolución\n",
    "resultado_convolucion_sin_norm_avion = tf.nn.conv2d(entrada_tf_sin_norm_avion, pesos_filtro_tf_sin_norm_avion, strides=[1, 9, 9, 1], padding='VALID') \n",
    "# Agregar los sesgos\n",
    "resultado_convolucion_y_sesgos_sin_norm_avion = tf.nn.bias_add(resultado_convolucion_sin_norm_avion, sesgos_tf_sin_norm_avion)\n",
    "\n",
    "# NO DIVIDIMOS\n",
    "resultado_filtro_sin_norm_avion = resultado_convolucion_y_sesgos_sin_norm_avion\n",
    "\n",
    "resultado_relu_sin_norm_avion = tf.nn.relu(resultado_filtro_sin_norm_avion)\n",
    "\n",
    "# Aplicar una capa de pooling 2x2\n",
    "resultado_pooling_sin_norm_avion = tf.nn.max_pool(resultado_relu_sin_norm_avion, ksize=[1, 2, 2, 1], strides=[1, 2, 2, 1], padding='VALID')\n",
    "\n",
    "# Imprimir la forma del resultado después de la capa de pooling\n",
    "print(resultado_pooling_sin_norm_avion.shape)"
   ]
  },
  {
   "cell_type": "code",
   "execution_count": 67,
   "metadata": {},
   "outputs": [
    {
     "data": {
      "text/plain": [
       "<tf.Tensor: shape=(1, 2, 2, 2), dtype=float32, numpy=\n",
       "array([[[[0.        , 1.5735924 ],\n",
       "         [0.        , 1.7539446 ]],\n",
       "\n",
       "        [[2.387919  , 1.7474344 ],\n",
       "         [1.4169288 , 0.86370564]]]], dtype=float32)>"
      ]
     },
     "execution_count": 67,
     "metadata": {},
     "output_type": "execute_result"
    }
   ],
   "source": [
    "resultado_pooling_sin_norm_avion"
   ]
  },
  {
   "cell_type": "code",
   "execution_count": 68,
   "metadata": {},
   "outputs": [],
   "source": [
    "# Aplana la salida\n",
    "flattened_output_sin_norm_avion = tfl.Flatten()(resultado_pooling_sin_norm_avion)\n",
    "\n",
    "# Calcular la capa densa manualmente\n",
    "dense_weights_sin_norm_avion =w_fullyc_sin_norm # Inserta tus pesos aquí (debe tener la forma (flattened_output.shape[1], 8))\n",
    "dense_bias_sin_norm_avion = b_fullyc_sin_norm     # Inserta tu sesgo aquí (debe tener la forma (8,))\n",
    "z_norm_sin_norm_avion= tf.matmul(flattened_output_sin_norm_avion, dense_weights_sin_norm_avion) + dense_bias_sin_norm_avion\n",
    "\n",
    "# Aplicar la activación sigmoide (si es necesario)\n",
    "sigmoid_output_sin_norm_avion = tf.nn.sigmoid(z_norm_sin_norm_avion)"
   ]
  },
  {
   "cell_type": "code",
   "execution_count": 69,
   "metadata": {},
   "outputs": [
    {
     "data": {
      "text/plain": [
       "<tf.Tensor: shape=(1, 1), dtype=float32, numpy=array([[3.530015]], dtype=float32)>"
      ]
     },
     "execution_count": 69,
     "metadata": {},
     "output_type": "execute_result"
    }
   ],
   "source": [
    "z_norm_sin_norm_avion #numpy=array(3.84147407]] normalizando, satura "
   ]
  },
  {
   "cell_type": "code",
   "execution_count": 70,
   "metadata": {},
   "outputs": [
    {
     "data": {
      "text/plain": [
       "<tf.Tensor: shape=(1, 1), dtype=float32, numpy=array([[0.97152984]], dtype=float32)>"
      ]
     },
     "execution_count": 70,
     "metadata": {},
     "output_type": "execute_result"
    }
   ],
   "source": [
    "sigmoid_output_sin_norm_avion #numpy=array([0.978989] normalizando\n",
    "#vemos que la diferencia es muy pequeña y por tanto vale más la pena dividir por 2 y tener más precisión "
   ]
  },
  {
   "cell_type": "code",
   "execution_count": null,
   "metadata": {},
   "outputs": [],
   "source": []
  }
 ],
 "metadata": {
  "kernelspec": {
   "display_name": "Python 3 (ipykernel)",
   "language": "python",
   "name": "python3"
  },
  "language_info": {
   "codemirror_mode": {
    "name": "ipython",
    "version": 3
   },
   "file_extension": ".py",
   "mimetype": "text/x-python",
   "name": "python",
   "nbconvert_exporter": "python",
   "pygments_lexer": "ipython3",
   "version": "3.12.4"
  }
 },
 "nbformat": 4,
 "nbformat_minor": 4
}
