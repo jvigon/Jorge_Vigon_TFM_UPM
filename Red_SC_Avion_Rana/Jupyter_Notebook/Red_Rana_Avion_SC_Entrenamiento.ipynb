{
 "cells": [
  {
   "cell_type": "code",
   "execution_count": 1,
   "metadata": {},
   "outputs": [],
   "source": [
    "import math\n",
    "import numpy as np\n",
    "#import h5py\n",
    "import matplotlib.pyplot as plt\n",
    "#from matplotlib.pyplot import imread\n",
    "#import scipy\n",
    "#from PIL import Image\n",
    "#i#ort pandas as pd\n",
    "import tensorflow as tf\n",
    "import tensorflow.keras.layers as tfl\n",
    "from tensorflow.python.framework import ops\n",
    "#from cnn_utils import *\n",
    "from test_utils import summary, comparator\n",
    "\n",
    "%matplotlib inline\n",
    "np.random.seed(1)"
   ]
  },
  {
   "cell_type": "code",
   "execution_count": 2,
   "metadata": {},
   "outputs": [],
   "source": [
    "cifar10 = tf.keras.datasets.cifar10\n",
    "(X_train_orig, Y_train_orig), (X_test_orig, Y_test_orig) = cifar10.load_data()"
   ]
  },
  {
   "cell_type": "code",
   "execution_count": 3,
   "metadata": {},
   "outputs": [
    {
     "data": {
      "text/plain": [
       "(10000, 1)"
      ]
     },
     "execution_count": 3,
     "metadata": {},
     "output_type": "execute_result"
    }
   ],
   "source": [
    "Y_test_orig.shape"
   ]
  },
  {
   "cell_type": "code",
   "execution_count": 4,
   "metadata": {},
   "outputs": [],
   "source": [
    "# Normalize image vectors\n",
    "X_train = X_train_orig/255.\n",
    "X_test = X_test_orig/255.\n",
    "\n",
    "# Reshape\n",
    "Y_train = Y_train_orig\n",
    "Y_test = Y_test_orig"
   ]
  },
  {
   "cell_type": "code",
   "execution_count": 5,
   "metadata": {},
   "outputs": [],
   "source": [
    "X_train = (X_train*2)-1\n",
    "X_test =(X_test*2)-1\n"
   ]
  },
  {
   "cell_type": "code",
   "execution_count": 6,
   "metadata": {},
   "outputs": [
    {
     "data": {
      "text/plain": [
       "array([[[-0.5372549 , -0.51372549, -0.50588235],\n",
       "        [-0.6627451 , -0.63921569, -0.64705882],\n",
       "        [-0.60784314, -0.62352941, -0.6627451 ],\n",
       "        ...,\n",
       "        [ 0.23921569,  0.03529412, -0.15294118],\n",
       "        [ 0.19215686, -0.01960784, -0.2       ],\n",
       "        [ 0.16078431, -0.02745098, -0.19215686]],\n",
       "\n",
       "       [[-0.8745098 , -0.84313725, -0.84313725],\n",
       "        [-1.        , -1.        , -1.        ],\n",
       "        [-0.85882353, -0.9372549 , -1.        ],\n",
       "        ...,\n",
       "        [-0.03529412, -0.30980392, -0.56862745],\n",
       "        [-0.06666667, -0.34901961, -0.60784314],\n",
       "        [-0.04313725, -0.31764706, -0.55294118]],\n",
       "\n",
       "       [[-0.80392157, -0.81176471, -0.83529412],\n",
       "        [-0.8745098 , -0.94509804, -1.        ],\n",
       "        [-0.61568627, -0.78823529, -0.9372549 ],\n",
       "        ...,\n",
       "        [-0.0745098 , -0.34117647, -0.60784314],\n",
       "        [-0.05882353, -0.34117647, -0.60784314],\n",
       "        [-0.14509804, -0.42745098, -0.67058824]],\n",
       "\n",
       "       ...,\n",
       "\n",
       "       [[ 0.63137255,  0.33333333, -0.24705882],\n",
       "        [ 0.57647059,  0.2       , -0.73333333],\n",
       "        [ 0.55294118,  0.2627451 , -0.79607843],\n",
       "        ...,\n",
       "        [ 0.25490196,  0.04313725, -0.45098039],\n",
       "        [-0.56078431, -0.75686275, -0.94509804],\n",
       "        [-0.58431373, -0.73333333, -0.84313725]],\n",
       "\n",
       "       [[ 0.41176471,  0.09019608, -0.24705882],\n",
       "        [ 0.35686275, -0.03529412, -0.67058824],\n",
       "        [ 0.45882353,  0.12941176, -0.76470588],\n",
       "        ...,\n",
       "        [ 0.44313725,  0.16078431, -0.2627451 ],\n",
       "        [-0.23921569, -0.51372549, -0.73333333],\n",
       "        [-0.34901961, -0.58431373, -0.73333333]],\n",
       "\n",
       "       [[ 0.38823529,  0.12941176, -0.09019608],\n",
       "        [ 0.31764706,  0.01176471, -0.2627451 ],\n",
       "        [ 0.40392157,  0.11372549, -0.31764706],\n",
       "        ...,\n",
       "        [ 0.69411765,  0.44313725,  0.09803922],\n",
       "        [ 0.18431373, -0.0745098 , -0.34117647],\n",
       "        [-0.03529412, -0.27843137, -0.43529412]]])"
      ]
     },
     "execution_count": 6,
     "metadata": {},
     "output_type": "execute_result"
    }
   ],
   "source": [
    "X_train[0]"
   ]
  },
  {
   "cell_type": "code",
   "execution_count": 7,
   "metadata": {},
   "outputs": [
    {
     "name": "stdout",
     "output_type": "stream",
     "text": [
      "number of training examples = 50000\n",
      "number of test examples = 10000\n",
      "X_train shape: (50000, 32, 32, 3)\n",
      "Y_train shape: (50000, 1)\n",
      "X_test shape: (10000, 32, 32, 3)\n",
      "Y_test shape: (10000, 1)\n"
     ]
    }
   ],
   "source": [
    "print (\"number of training examples = \" + str(X_train.shape[0]))\n",
    "print (\"number of test examples = \" + str(X_test.shape[0]))\n",
    "print (\"X_train shape: \" + str(X_train.shape))\n",
    "print (\"Y_train shape: \" + str(Y_train.shape)) #CONTIENE UN NUMERO CON LA CLASE DE LOS 5000 DE ENTRENAMIENTO\n",
    "print (\"X_test shape: \" + str(X_test.shape))\n",
    "print (\"Y_test shape: \" + str(Y_test.shape))"
   ]
  },
  {
   "cell_type": "code",
   "execution_count": 8,
   "metadata": {},
   "outputs": [
    {
     "data": {
      "image/png": "[encoded data removed]",
      "text/plain": [
       "<Figure size 640x480 with 1 Axes>"
      ]
     },
     "metadata": {},
     "output_type": "display_data"
    }
   ],
   "source": [
    "index = 124\n",
    "plt.imshow(X_train_orig[index]) #display sample training image\n",
    "plt.show()"
   ]
  },
  {
   "cell_type": "code",
   "execution_count": 9,
   "metadata": {},
   "outputs": [
    {
     "name": "stdout",
     "output_type": "stream",
     "text": [
      "Clases del conjunto de datos CIFAR-10:\n",
      "0\n",
      "1\n",
      "2\n",
      "3\n",
      "4\n",
      "5\n",
      "6\n",
      "7\n",
      "8\n",
      "9\n"
     ]
    }
   ],
   "source": [
    "# Obtener las clases únicas\n",
    "classes = np.unique(Y_train)\n",
    "\n",
    "# Imprimir las clases\n",
    "print(\"Clases del conjunto de datos CIFAR-10:\")\n",
    "for cls in classes:\n",
    "    print(cls)"
   ]
  },
  {
   "cell_type": "code",
   "execution_count": 10,
   "metadata": {},
   "outputs": [
    {
     "name": "stderr",
     "output_type": "stream",
     "text": [
      "Clipping input data to the valid range for imshow with RGB data ([0..1] for floats or [0..255] for integers). Got range [-1.0..1.0].\n",
      "Clipping input data to the valid range for imshow with RGB data ([0..1] for floats or [0..255] for integers). Got range [-0.9607843137254902..0.9921568627450981].\n",
      "Clipping input data to the valid range for imshow with RGB data ([0..1] for floats or [0..255] for integers). Got range [-0.8431372549019608..1.0].\n",
      "Clipping input data to the valid range for imshow with RGB data ([0..1] for floats or [0..255] for integers). Got range [-0.9686274509803922..0.8352941176470587].\n",
      "Clipping input data to the valid range for imshow with RGB data ([0..1] for floats or [0..255] for integers). Got range [-1.0..0.9921568627450981].\n"
     ]
    },
    {
     "data": {
      "image/png": "[encoded data removed]",
      "text/plain": [
       "<Figure size 1500x300 with 5 Axes>"
      ]
     },
     "metadata": {},
     "output_type": "display_data"
    }
   ],
   "source": [
    "# Definir las clases correspondientes a cada número de etiqueta\n",
    "class_names = ['avión', 'automóvil', 'pájaro', 'gato', 'ciervo',\n",
    "               'perro', 'rana', 'caballo', 'barco', 'camión']\n",
    "\n",
    "# Visualizar las clases asociadas con algunas imágenes\n",
    "num_images = 5\n",
    "fig, axes = plt.subplots(1, num_images, figsize=(15, 3))\n",
    "\n",
    "for i in range(num_images):\n",
    "    axes[i].imshow(X_train[i])\n",
    "    axes[i].set_title(class_names[Y_train[i][0]])\n",
    "    axes[i].axis('off')\n",
    "\n",
    "plt.show()"
   ]
  },
  {
   "cell_type": "code",
   "execution_count": 11,
   "metadata": {},
   "outputs": [
    {
     "name": "stderr",
     "output_type": "stream",
     "text": [
      "Clipping input data to the valid range for imshow with RGB data ([0..1] for floats or [0..255] for integers). Got range [-0.9686274509803922..0.8352941176470587].\n"
     ]
    },
    {
     "data": {
      "image/png": "[encoded data removed]",
      "text/plain": [
       "<Figure size 640x480 with 1 Axes>"
      ]
     },
     "metadata": {},
     "output_type": "display_data"
    }
   ],
   "source": [
    "index = 3\n",
    "plt.imshow(X_train[index]) #display sample training image\n",
    "plt.show()"
   ]
  },
  {
   "cell_type": "code",
   "execution_count": 12,
   "metadata": {},
   "outputs": [
    {
     "name": "stdout",
     "output_type": "stream",
     "text": [
      "Dimensiones de X_train_cat_dog: (10000, 32, 32, 3)\n",
      "Dimensiones de Y_train_cat_dog: (10000, 1)\n"
     ]
    }
   ],
   "source": [
    "# Definir las clases que nos interesan (gato y perro) PARA HACERLO SOLO CON SIGMOID\n",
    "avion_class = 0  #AVION\n",
    "rana_class = 6  # RANA\n",
    "\n",
    "# Filtrar las imágenes y etiquetas para quedarnos solo con los gatos y perros\n",
    "avion_indices = (Y_train == avion_class).squeeze()\n",
    "rana_indices = (Y_train == rana_class).squeeze()\n",
    "avion_rana_indices = avion_indices | rana_indices\n",
    "\n",
    "X_train_avion_rana = X_train[avion_rana_indices]\n",
    "Y_train_avion_rana = Y_train[avion_rana_indices]\n",
    "\n",
    "# Verificar las dimensiones del nuevo conjunto de datos\n",
    "print(\"Dimensiones de X_train_cat_dog:\", X_train_avion_rana.shape)\n",
    "print(\"Dimensiones de Y_train_cat_dog:\", Y_train_avion_rana.shape)"
   ]
  },
  {
   "cell_type": "code",
   "execution_count": 13,
   "metadata": {},
   "outputs": [
    {
     "name": "stdout",
     "output_type": "stream",
     "text": [
      "Dimensiones de X_train_cat_dog: (2000, 32, 32, 3)\n",
      "Dimensiones de Y_train_cat_dog: (2000, 1)\n"
     ]
    }
   ],
   "source": [
    "# Definir las clases que nos interesan (gato y perro) PARA HACERLO SOLO CON SIGMOID\n",
    "avion_class = 0  #AVION\n",
    "rana_class = 6  # RANA\n",
    "\n",
    "# Filtrar las imágenes y etiquetas para quedarnos solo con los gatos y perros\n",
    "avion_indices = (Y_test == avion_class).squeeze()\n",
    "rana_indices = (Y_test == rana_class).squeeze()\n",
    "avion_rana_indices = avion_indices | rana_indices\n",
    "\n",
    "X_test_avion_rana = X_test[avion_rana_indices]\n",
    "Y_test_avion_rana = Y_test[avion_rana_indices]\n",
    "\n",
    "# Verificar las dimensiones del nuevo conjunto de datos\n",
    "print(\"Dimensiones de X_train_cat_dog:\", X_test_avion_rana.shape)\n",
    "print(\"Dimensiones de Y_train_cat_dog:\", Y_test_avion_rana.shape)"
   ]
  },
  {
   "cell_type": "code",
   "execution_count": 14,
   "metadata": {},
   "outputs": [
    {
     "data": {
      "text/plain": [
       "array([[6],\n",
       "       [6],\n",
       "       [6],\n",
       "       ...,\n",
       "       [0],\n",
       "       [0],\n",
       "       [6]], dtype=uint8)"
      ]
     },
     "execution_count": 14,
     "metadata": {},
     "output_type": "execute_result"
    }
   ],
   "source": [
    "Y_train_avion_rana"
   ]
  },
  {
   "cell_type": "code",
   "execution_count": 15,
   "metadata": {},
   "outputs": [],
   "source": [
    "Y_train_avion_rana= np.where(Y_train_avion_rana == rana_class, 0, 1) # 1 avion 0 rana\n",
    "Y_test_avion_rana = np.where(Y_test_avion_rana == rana_class, 0, 1)"
   ]
  },
  {
   "cell_type": "code",
   "execution_count": 16,
   "metadata": {},
   "outputs": [
    {
     "data": {
      "text/plain": [
       "array([[0],\n",
       "       [0],\n",
       "       [0],\n",
       "       ...,\n",
       "       [1],\n",
       "       [1],\n",
       "       [0]])"
      ]
     },
     "execution_count": 16,
     "metadata": {},
     "output_type": "execute_result"
    }
   ],
   "source": [
    "Y_train_avion_rana"
   ]
  },
  {
   "cell_type": "code",
   "execution_count": 17,
   "metadata": {},
   "outputs": [
    {
     "name": "stderr",
     "output_type": "stream",
     "text": [
      "Clipping input data to the valid range for imshow with RGB data ([0..1] for floats or [0..255] for integers). Got range [-0.8117647058823529..0.6862745098039216].\n"
     ]
    },
    {
     "data": {
      "image/png": "[encoded data removed]",
      "text/plain": [
       "<Figure size 640x480 with 1 Axes>"
      ]
     },
     "metadata": {},
     "output_type": "display_data"
    },
    {
     "name": "stderr",
     "output_type": "stream",
     "text": [
      "Clipping input data to the valid range for imshow with RGB data ([0..1] for floats or [0..255] for integers). Got range [-1.0..1.0].\n"
     ]
    },
    {
     "data": {
      "image/png": "[encoded data removed]",
      "text/plain": [
       "<Figure size 640x480 with 1 Axes>"
      ]
     },
     "metadata": {},
     "output_type": "display_data"
    },
    {
     "name": "stderr",
     "output_type": "stream",
     "text": [
      "Clipping input data to the valid range for imshow with RGB data ([0..1] for floats or [0..255] for integers). Got range [-0.9607843137254902..0.9450980392156862].\n"
     ]
    },
    {
     "data": {
      "image/png": "[encoded data removed]",
      "text/plain": [
       "<Figure size 640x480 with 1 Axes>"
      ]
     },
     "metadata": {},
     "output_type": "display_data"
    },
    {
     "name": "stderr",
     "output_type": "stream",
     "text": [
      "Clipping input data to the valid range for imshow with RGB data ([0..1] for floats or [0..255] for integers). Got range [-1.0..0.8274509803921568].\n"
     ]
    },
    {
     "data": {
      "image/png": "[encoded data removed]",
      "text/plain": [
       "<Figure size 640x480 with 1 Axes>"
      ]
     },
     "metadata": {},
     "output_type": "display_data"
    }
   ],
   "source": [
    "index = 65\n",
    "plt.imshow(X_train_avion_rana[index]) #display sample training image\n",
    "plt.title(Y_train_avion_rana[index])\n",
    "plt.show()\n",
    "index = 0\n",
    "plt.imshow(X_train_avion_rana[index]) #display sample training image\n",
    "plt.title(Y_train_avion_rana[index])\n",
    "plt.show()\n",
    "index = 530\n",
    "plt.imshow(X_train_avion_rana[index]) #display sample training image\n",
    "plt.title(Y_train_avion_rana[index])\n",
    "plt.show()\n",
    "index = 753\n",
    "plt.imshow(X_train_avion_rana[index]) #display sample training image\n",
    "plt.title(Y_train_avion_rana[index])\n",
    "plt.show()"
   ]
  },
  {
   "cell_type": "code",
   "execution_count": 18,
   "metadata": {},
   "outputs": [
    {
     "name": "stderr",
     "output_type": "stream",
     "text": [
      "Clipping input data to the valid range for imshow with RGB data ([0..1] for floats or [0..255] for integers). Got range [-1.0..0.7411764705882353].\n"
     ]
    },
    {
     "data": {
      "image/png": "[encoded data removed]",
      "text/plain": [
       "<Figure size 640x480 with 1 Axes>"
      ]
     },
     "metadata": {},
     "output_type": "display_data"
    },
    {
     "name": "stderr",
     "output_type": "stream",
     "text": [
      "Clipping input data to the valid range for imshow with RGB data ([0..1] for floats or [0..255] for integers). Got range [-0.7411764705882353..0.8352941176470587].\n"
     ]
    },
    {
     "data": {
      "image/png": "[encoded data removed]",
      "text/plain": [
       "<Figure size 640x480 with 1 Axes>"
      ]
     },
     "metadata": {},
     "output_type": "display_data"
    },
    {
     "name": "stderr",
     "output_type": "stream",
     "text": [
      "Clipping input data to the valid range for imshow with RGB data ([0..1] for floats or [0..255] for integers). Got range [-1.0..1.0].\n"
     ]
    },
    {
     "data": {
      "image/png": "[encoded data removed]",
      "text/plain": [
       "<Figure size 640x480 with 1 Axes>"
      ]
     },
     "metadata": {},
     "output_type": "display_data"
    },
    {
     "name": "stderr",
     "output_type": "stream",
     "text": [
      "Clipping input data to the valid range for imshow with RGB data ([0..1] for floats or [0..255] for integers). Got range [-0.9921568627450981..1.0].\n"
     ]
    },
    {
     "data": {
      "image/png": "[encoded data removed]",
      "text/plain": [
       "<Figure size 640x480 with 1 Axes>"
      ]
     },
     "metadata": {},
     "output_type": "display_data"
    }
   ],
   "source": [
    "index = 65\n",
    "plt.imshow(X_test_avion_rana[index]) #display sample training image\n",
    "plt.title(Y_test_avion_rana[index])\n",
    "plt.show()\n",
    "index = 0\n",
    "plt.imshow(X_test_avion_rana[index]) #display sample training image\n",
    "plt.title(Y_test_avion_rana[index])\n",
    "plt.show()\n",
    "index = 530\n",
    "plt.imshow(X_test_avion_rana[index]) #display sample training image\n",
    "plt.title(Y_test_avion_rana[index])\n",
    "plt.show()\n",
    "index = 753\n",
    "plt.imshow(X_test_avion_rana[index]) #display sample training image\n",
    "plt.title(Y_test_avion_rana[index])\n",
    "plt.show()"
   ]
  },
  {
   "cell_type": "code",
   "execution_count": 19,
   "metadata": {},
   "outputs": [],
   "source": [
    "# GRADED FUNCTION: happyModel\n",
    "\n",
    "def ModelCifar10_S_Inicial():\n",
    "    \"\"\"\n",
    "    Implements the forward propagation for the binary classification model:\n",
    "    ZEROPAD2D -> CONV2D -> BATCHNORM -> RELU -> MAXPOOL -> FLATTEN -> DENSE\n",
    "    \n",
    "    Note that for simplicity and grading purposes, you'll hard-code all the values\n",
    "    such as the stride and kernel (filter) sizes. \n",
    "    Normally, functions should take these values as function parameters.\n",
    "    \n",
    "    Arguments:\n",
    "    None\n",
    "\n",
    "    Returns:\n",
    "    model -- TF Keras model (object containing the information for the entire training process) \n",
    "    \"\"\"\n",
    "    model = tf.keras.Sequential([\n",
    "\n",
    "            tfl.ZeroPadding2D(padding=(0, 0),input_shape=(32,32,3)),\n",
    "        \n",
    "\n",
    "            #tfl.Conv2D(filters=2, kernel_size=7, strides=(5,5), input_shape=[32, 32, 3]), # de (32+2*0-5)/9+1=3+1=4 (4,4,2)\n",
    "            tfl.Conv2D(filters=2, kernel_size=5, strides=(9,9), input_shape=[32, 32, 3]), # de (32+2*0-5)/9+1=3+1=4 (4,4,2)\n",
    "        \n",
    "\n",
    "            ## ReLU\n",
    "            tfl.ReLU(max_value=None, negative_slope=0.0, threshold=0.0),\n",
    "            ## Max Pooling 2D with default parameters\n",
    "        \n",
    "            tfl.MaxPool2D(pool_size=(2, 2), strides=None, padding='valid', data_format=None), #(2,2,2)\n",
    "            \n",
    "            ## Flatten layer\n",
    "        \n",
    "            tfl.Flatten(), #de 8\n",
    "            #tfl.Dense(5,activation=\"sigmoid\"),\n",
    "            #tfl.Dense(4,activation=\"sigmoid\"),\n",
    "            tfl.Dense(1,activation=\"sigmoid\")\n",
    "\n",
    "        ])\n",
    "    \n",
    "    return model"
   ]
  },
  {
   "cell_type": "code",
   "execution_count": 20,
   "metadata": {},
   "outputs": [],
   "source": [
    "def ModelCifar10_Inicial():\n",
    "    # Establecer semillas aleatorias para NumPy\n",
    "    tf.random.set_seed(64)\n",
    "    # Define la entrada\n",
    "    input_layer = tf.keras.Input(shape=(32, 32, 3))\n",
    "\n",
    "    # Aplica el relleno, en este caso no se realiza padding\n",
    "    padded_input = tfl.ZeroPadding2D(padding=(0, 0))(input_layer)\n",
    "\n",
    "    # Aplica la convolución, 2 Filtros de tamaño 5x5x3 y un Stride de 9\n",
    "    conv_output = tfl.Conv2D(filters=2, kernel_size=5, strides=(9, 9))(padded_input)\n",
    "\n",
    "    # Aplica ReLU (mantiene valor si el valor es positivo, 0 en caso contrario)\n",
    "    relu_output = tfl.ReLU(max_value=None, negative_slope=0.0, threshold=0.0)(conv_output)\n",
    "\n",
    "    # Aplica MaxPooling 2x2\n",
    "    pooling_output = tfl.MaxPool2D(pool_size=(2, 2), strides=None, padding='valid', data_format=None)(relu_output)\n",
    "\n",
    "    # Aplana la salida, proceso flatten\n",
    "    flattened_output = tfl.Flatten()(pooling_output)\n",
    "\n",
    "    # Capa completamente conectada, con función de activación sigmoid ('0' RANA,'1' AVION)\n",
    "    dense_output = tfl.Dense(1, activation=\"sigmoid\")(flattened_output)\n",
    "\n",
    "    # Se crea modelo\n",
    "    model = tf.keras.Model(inputs=input_layer, outputs=dense_output)\n",
    "\n",
    "    return model\n",
    "\n"
   ]
  },
  {
   "cell_type": "code",
   "execution_count": 21,
   "metadata": {},
   "outputs": [
    {
     "name": "stderr",
     "output_type": "stream",
     "text": [
      "C:\\Users\\Jorge\\AppData\\Local\\Programs\\Python\\Python312\\Lib\\site-packages\\keras\\src\\layers\\reshaping\\zero_padding2d.py:72: UserWarning: Do not pass an `input_shape`/`input_dim` argument to a layer. When using Sequential models, prefer using an `Input(shape)` object as the first layer in the model instead.\n",
      "  super().__init__(**kwargs)\n",
      "C:\\Users\\Jorge\\AppData\\Local\\Programs\\Python\\Python312\\Lib\\site-packages\\keras\\src\\layers\\convolutional\\base_conv.py:107: UserWarning: Do not pass an `input_shape`/`input_dim` argument to a layer. When using Sequential models, prefer using an `Input(shape)` object as the first layer in the model instead.\n",
      "  super().__init__(activity_regularizer=activity_regularizer, **kwargs)\n"
     ]
    }
   ],
   "source": [
    "cifar10_model_avion_rana_S = ModelCifar10_S_Inicial()\n",
    "# Print a summary for each layer\n",
    "#for layer in summary(cifar10_model_avion_rana_S):\n",
    "#    print(layer)\n",
    "\n",
    "cifar10_model_avion_rana = ModelCifar10_Inicial()\n",
    "# Print a summary for each layer\n",
    "#for layer in summary(cifar10_model_avion_rana):\n",
    "#    print(layer)"
   ]
  },
  {
   "cell_type": "code",
   "execution_count": 22,
   "metadata": {},
   "outputs": [],
   "source": [
    "from tensorflow.keras.optimizers import Adam\n",
    "#optimizer = Adam(learning_rate=0.0025) \n",
    "#optimizer = Adam(learning_rate=0.005)\n",
    "optimizer = Adam(learning_rate=0.01) \n",
    "cifar10_model_avion_rana.compile(optimizer=optimizer,\n",
    "                   loss='binary_crossentropy',\n",
    "                   metrics=['accuracy'])"
   ]
  },
  {
   "cell_type": "code",
   "execution_count": 23,
   "metadata": {},
   "outputs": [
    {
     "data": {
      "text/html": [
       "<pre style=\"white-space:pre;overflow-x:auto;line-height:normal;font-family:Menlo,'DejaVu Sans Mono',consolas,'Courier New',monospace\"><span style=\"font-weight: bold\">Model: \"functional_2\"</span>\n",
       "</pre>\n"
      ],
      "text/plain": [
       "\u001b[1mModel: \"functional_2\"\u001b[0m\n"
      ]
     },
     "metadata": {},
     "output_type": "display_data"
    },
    {
     "data": {
      "text/html": [
       "<pre style=\"white-space:pre;overflow-x:auto;line-height:normal;font-family:Menlo,'DejaVu Sans Mono',consolas,'Courier New',monospace\">┏━━━━━━━━━━━━━━━━━━━━━━━━━━━━━━━━━━━━━━┳━━━━━━━━━━━━━━━━━━━━━━━━━━━━━┳━━━━━━━━━━━━━━━━━┓\n",
       "┃<span style=\"font-weight: bold\"> Layer (type)                         </span>┃<span style=\"font-weight: bold\"> Output Shape                </span>┃<span style=\"font-weight: bold\">         Param # </span>┃\n",
       "┡━━━━━━━━━━━━━━━━━━━━━━━━━━━━━━━━━━━━━━╇━━━━━━━━━━━━━━━━━━━━━━━━━━━━━╇━━━━━━━━━━━━━━━━━┩\n",
       "│ input_layer_1 (<span style=\"color: #0087ff; text-decoration-color: #0087ff\">InputLayer</span>)           │ (<span style=\"color: #00d7ff; text-decoration-color: #00d7ff\">None</span>, <span style=\"color: #00af00; text-decoration-color: #00af00\">32</span>, <span style=\"color: #00af00; text-decoration-color: #00af00\">32</span>, <span style=\"color: #00af00; text-decoration-color: #00af00\">3</span>)           │               <span style=\"color: #00af00; text-decoration-color: #00af00\">0</span> │\n",
       "├──────────────────────────────────────┼─────────────────────────────┼─────────────────┤\n",
       "│ zero_padding2d_1 (<span style=\"color: #0087ff; text-decoration-color: #0087ff\">ZeroPadding2D</span>)     │ (<span style=\"color: #00d7ff; text-decoration-color: #00d7ff\">None</span>, <span style=\"color: #00af00; text-decoration-color: #00af00\">32</span>, <span style=\"color: #00af00; text-decoration-color: #00af00\">32</span>, <span style=\"color: #00af00; text-decoration-color: #00af00\">3</span>)           │               <span style=\"color: #00af00; text-decoration-color: #00af00\">0</span> │\n",
       "├──────────────────────────────────────┼─────────────────────────────┼─────────────────┤\n",
       "│ conv2d_1 (<span style=\"color: #0087ff; text-decoration-color: #0087ff\">Conv2D</span>)                    │ (<span style=\"color: #00d7ff; text-decoration-color: #00d7ff\">None</span>, <span style=\"color: #00af00; text-decoration-color: #00af00\">4</span>, <span style=\"color: #00af00; text-decoration-color: #00af00\">4</span>, <span style=\"color: #00af00; text-decoration-color: #00af00\">2</span>)             │             <span style=\"color: #00af00; text-decoration-color: #00af00\">152</span> │\n",
       "├──────────────────────────────────────┼─────────────────────────────┼─────────────────┤\n",
       "│ re_lu_1 (<span style=\"color: #0087ff; text-decoration-color: #0087ff\">ReLU</span>)                       │ (<span style=\"color: #00d7ff; text-decoration-color: #00d7ff\">None</span>, <span style=\"color: #00af00; text-decoration-color: #00af00\">4</span>, <span style=\"color: #00af00; text-decoration-color: #00af00\">4</span>, <span style=\"color: #00af00; text-decoration-color: #00af00\">2</span>)             │               <span style=\"color: #00af00; text-decoration-color: #00af00\">0</span> │\n",
       "├──────────────────────────────────────┼─────────────────────────────┼─────────────────┤\n",
       "│ max_pooling2d_1 (<span style=\"color: #0087ff; text-decoration-color: #0087ff\">MaxPooling2D</span>)       │ (<span style=\"color: #00d7ff; text-decoration-color: #00d7ff\">None</span>, <span style=\"color: #00af00; text-decoration-color: #00af00\">2</span>, <span style=\"color: #00af00; text-decoration-color: #00af00\">2</span>, <span style=\"color: #00af00; text-decoration-color: #00af00\">2</span>)             │               <span style=\"color: #00af00; text-decoration-color: #00af00\">0</span> │\n",
       "├──────────────────────────────────────┼─────────────────────────────┼─────────────────┤\n",
       "│ flatten_1 (<span style=\"color: #0087ff; text-decoration-color: #0087ff\">Flatten</span>)                  │ (<span style=\"color: #00d7ff; text-decoration-color: #00d7ff\">None</span>, <span style=\"color: #00af00; text-decoration-color: #00af00\">8</span>)                   │               <span style=\"color: #00af00; text-decoration-color: #00af00\">0</span> │\n",
       "├──────────────────────────────────────┼─────────────────────────────┼─────────────────┤\n",
       "│ dense_1 (<span style=\"color: #0087ff; text-decoration-color: #0087ff\">Dense</span>)                      │ (<span style=\"color: #00d7ff; text-decoration-color: #00d7ff\">None</span>, <span style=\"color: #00af00; text-decoration-color: #00af00\">1</span>)                   │               <span style=\"color: #00af00; text-decoration-color: #00af00\">9</span> │\n",
       "└──────────────────────────────────────┴─────────────────────────────┴─────────────────┘\n",
       "</pre>\n"
      ],
      "text/plain": [
       "┏━━━━━━━━━━━━━━━━━━━━━━━━━━━━━━━━━━━━━━┳━━━━━━━━━━━━━━━━━━━━━━━━━━━━━┳━━━━━━━━━━━━━━━━━┓\n",
       "┃\u001b[1m \u001b[0m\u001b[1mLayer (type)                        \u001b[0m\u001b[1m \u001b[0m┃\u001b[1m \u001b[0m\u001b[1mOutput Shape               \u001b[0m\u001b[1m \u001b[0m┃\u001b[1m \u001b[0m\u001b[1m        Param #\u001b[0m\u001b[1m \u001b[0m┃\n",
       "┡━━━━━━━━━━━━━━━━━━━━━━━━━━━━━━━━━━━━━━╇━━━━━━━━━━━━━━━━━━━━━━━━━━━━━╇━━━━━━━━━━━━━━━━━┩\n",
       "│ input_layer_1 (\u001b[38;5;33mInputLayer\u001b[0m)           │ (\u001b[38;5;45mNone\u001b[0m, \u001b[38;5;34m32\u001b[0m, \u001b[38;5;34m32\u001b[0m, \u001b[38;5;34m3\u001b[0m)           │               \u001b[38;5;34m0\u001b[0m │\n",
       "├──────────────────────────────────────┼─────────────────────────────┼─────────────────┤\n",
       "│ zero_padding2d_1 (\u001b[38;5;33mZeroPadding2D\u001b[0m)     │ (\u001b[38;5;45mNone\u001b[0m, \u001b[38;5;34m32\u001b[0m, \u001b[38;5;34m32\u001b[0m, \u001b[38;5;34m3\u001b[0m)           │               \u001b[38;5;34m0\u001b[0m │\n",
       "├──────────────────────────────────────┼─────────────────────────────┼─────────────────┤\n",
       "│ conv2d_1 (\u001b[38;5;33mConv2D\u001b[0m)                    │ (\u001b[38;5;45mNone\u001b[0m, \u001b[38;5;34m4\u001b[0m, \u001b[38;5;34m4\u001b[0m, \u001b[38;5;34m2\u001b[0m)             │             \u001b[38;5;34m152\u001b[0m │\n",
       "├──────────────────────────────────────┼─────────────────────────────┼─────────────────┤\n",
       "│ re_lu_1 (\u001b[38;5;33mReLU\u001b[0m)                       │ (\u001b[38;5;45mNone\u001b[0m, \u001b[38;5;34m4\u001b[0m, \u001b[38;5;34m4\u001b[0m, \u001b[38;5;34m2\u001b[0m)             │               \u001b[38;5;34m0\u001b[0m │\n",
       "├──────────────────────────────────────┼─────────────────────────────┼─────────────────┤\n",
       "│ max_pooling2d_1 (\u001b[38;5;33mMaxPooling2D\u001b[0m)       │ (\u001b[38;5;45mNone\u001b[0m, \u001b[38;5;34m2\u001b[0m, \u001b[38;5;34m2\u001b[0m, \u001b[38;5;34m2\u001b[0m)             │               \u001b[38;5;34m0\u001b[0m │\n",
       "├──────────────────────────────────────┼─────────────────────────────┼─────────────────┤\n",
       "│ flatten_1 (\u001b[38;5;33mFlatten\u001b[0m)                  │ (\u001b[38;5;45mNone\u001b[0m, \u001b[38;5;34m8\u001b[0m)                   │               \u001b[38;5;34m0\u001b[0m │\n",
       "├──────────────────────────────────────┼─────────────────────────────┼─────────────────┤\n",
       "│ dense_1 (\u001b[38;5;33mDense\u001b[0m)                      │ (\u001b[38;5;45mNone\u001b[0m, \u001b[38;5;34m1\u001b[0m)                   │               \u001b[38;5;34m9\u001b[0m │\n",
       "└──────────────────────────────────────┴─────────────────────────────┴─────────────────┘\n"
      ]
     },
     "metadata": {},
     "output_type": "display_data"
    },
    {
     "data": {
      "text/html": [
       "<pre style=\"white-space:pre;overflow-x:auto;line-height:normal;font-family:Menlo,'DejaVu Sans Mono',consolas,'Courier New',monospace\"><span style=\"font-weight: bold\"> Total params: </span><span style=\"color: #00af00; text-decoration-color: #00af00\">161</span> (644.00 B)\n",
       "</pre>\n"
      ],
      "text/plain": [
       "\u001b[1m Total params: \u001b[0m\u001b[38;5;34m161\u001b[0m (644.00 B)\n"
      ]
     },
     "metadata": {},
     "output_type": "display_data"
    },
    {
     "data": {
      "text/html": [
       "<pre style=\"white-space:pre;overflow-x:auto;line-height:normal;font-family:Menlo,'DejaVu Sans Mono',consolas,'Courier New',monospace\"><span style=\"font-weight: bold\"> Trainable params: </span><span style=\"color: #00af00; text-decoration-color: #00af00\">161</span> (644.00 B)\n",
       "</pre>\n"
      ],
      "text/plain": [
       "\u001b[1m Trainable params: \u001b[0m\u001b[38;5;34m161\u001b[0m (644.00 B)\n"
      ]
     },
     "metadata": {},
     "output_type": "display_data"
    },
    {
     "data": {
      "text/html": [
       "<pre style=\"white-space:pre;overflow-x:auto;line-height:normal;font-family:Menlo,'DejaVu Sans Mono',consolas,'Courier New',monospace\"><span style=\"font-weight: bold\"> Non-trainable params: </span><span style=\"color: #00af00; text-decoration-color: #00af00\">0</span> (0.00 B)\n",
       "</pre>\n"
      ],
      "text/plain": [
       "\u001b[1m Non-trainable params: \u001b[0m\u001b[38;5;34m0\u001b[0m (0.00 B)\n"
      ]
     },
     "metadata": {},
     "output_type": "display_data"
    }
   ],
   "source": [
    "cifar10_model_avion_rana.summary()"
   ]
  },
  {
   "cell_type": "code",
   "execution_count": 24,
   "metadata": {},
   "outputs": [
    {
     "name": "stdout",
     "output_type": "stream",
     "text": [
      "Epoch 1/20\n",
      "\u001b[1m20/20\u001b[0m \u001b[32m━━━━━━━━━━━━━━━━━━━━\u001b[0m\u001b[37m\u001b[0m \u001b[1m1s\u001b[0m 3ms/step - accuracy: 0.7105 - loss: 0.5749\n",
      "Epoch 2/20\n",
      "\u001b[1m20/20\u001b[0m \u001b[32m━━━━━━━━━━━━━━━━━━━━\u001b[0m\u001b[37m\u001b[0m \u001b[1m0s\u001b[0m 3ms/step - accuracy: 0.8427 - loss: 0.3859\n",
      "Epoch 3/20\n",
      "\u001b[1m20/20\u001b[0m \u001b[32m━━━━━━━━━━━━━━━━━━━━\u001b[0m\u001b[37m\u001b[0m \u001b[1m0s\u001b[0m 3ms/step - accuracy: 0.8619 - loss: 0.3437\n",
      "Epoch 4/20\n",
      "\u001b[1m20/20\u001b[0m \u001b[32m━━━━━━━━━━━━━━━━━━━━\u001b[0m\u001b[37m\u001b[0m \u001b[1m0s\u001b[0m 3ms/step - accuracy: 0.8680 - loss: 0.3350\n",
      "Epoch 5/20\n",
      "\u001b[1m20/20\u001b[0m \u001b[32m━━━━━━━━━━━━━━━━━━━━\u001b[0m\u001b[37m\u001b[0m \u001b[1m0s\u001b[0m 3ms/step - accuracy: 0.8696 - loss: 0.3285\n",
      "Epoch 6/20\n",
      "\u001b[1m20/20\u001b[0m \u001b[32m━━━━━━━━━━━━━━━━━━━━\u001b[0m\u001b[37m\u001b[0m \u001b[1m0s\u001b[0m 2ms/step - accuracy: 0.8722 - loss: 0.3244 \n",
      "Epoch 7/20\n",
      "\u001b[1m20/20\u001b[0m \u001b[32m━━━━━━━━━━━━━━━━━━━━\u001b[0m\u001b[37m\u001b[0m \u001b[1m0s\u001b[0m 4ms/step - accuracy: 0.8737 - loss: 0.3218\n",
      "Epoch 8/20\n",
      "\u001b[1m20/20\u001b[0m \u001b[32m━━━━━━━━━━━━━━━━━━━━\u001b[0m\u001b[37m\u001b[0m \u001b[1m0s\u001b[0m 3ms/step - accuracy: 0.8755 - loss: 0.3197\n",
      "Epoch 9/20\n",
      "\u001b[1m20/20\u001b[0m \u001b[32m━━━━━━━━━━━━━━━━━━━━\u001b[0m\u001b[37m\u001b[0m \u001b[1m0s\u001b[0m 3ms/step - accuracy: 0.8747 - loss: 0.3181\n",
      "Epoch 10/20\n",
      "\u001b[1m20/20\u001b[0m \u001b[32m━━━━━━━━━━━━━━━━━━━━\u001b[0m\u001b[37m\u001b[0m \u001b[1m0s\u001b[0m 3ms/step - accuracy: 0.8739 - loss: 0.3169 \n",
      "Epoch 11/20\n",
      "\u001b[1m20/20\u001b[0m \u001b[32m━━━━━━━━━━━━━━━━━━━━\u001b[0m\u001b[37m\u001b[0m \u001b[1m0s\u001b[0m 3ms/step - accuracy: 0.8745 - loss: 0.3160 \n",
      "Epoch 12/20\n",
      "\u001b[1m20/20\u001b[0m \u001b[32m━━━━━━━━━━━━━━━━━━━━\u001b[0m\u001b[37m\u001b[0m \u001b[1m0s\u001b[0m 3ms/step - accuracy: 0.8744 - loss: 0.3151\n",
      "Epoch 13/20\n",
      "\u001b[1m20/20\u001b[0m \u001b[32m━━━━━━━━━━━━━━━━━━━━\u001b[0m\u001b[37m\u001b[0m \u001b[1m0s\u001b[0m 3ms/step - accuracy: 0.8741 - loss: 0.3142 \n",
      "Epoch 14/20\n",
      "\u001b[1m20/20\u001b[0m \u001b[32m━━━━━━━━━━━━━━━━━━━━\u001b[0m\u001b[37m\u001b[0m \u001b[1m0s\u001b[0m 3ms/step - accuracy: 0.8739 - loss: 0.3136 \n",
      "Epoch 15/20\n",
      "\u001b[1m20/20\u001b[0m \u001b[32m━━━━━━━━━━━━━━━━━━━━\u001b[0m\u001b[37m\u001b[0m \u001b[1m0s\u001b[0m 3ms/step - accuracy: 0.8744 - loss: 0.3130 \n",
      "Epoch 16/20\n",
      "\u001b[1m20/20\u001b[0m \u001b[32m━━━━━━━━━━━━━━━━━━━━\u001b[0m\u001b[37m\u001b[0m \u001b[1m0s\u001b[0m 3ms/step - accuracy: 0.8743 - loss: 0.3124 \n",
      "Epoch 17/20\n",
      "\u001b[1m20/20\u001b[0m \u001b[32m━━━━━━━━━━━━━━━━━━━━\u001b[0m\u001b[37m\u001b[0m \u001b[1m0s\u001b[0m 3ms/step - accuracy: 0.8749 - loss: 0.3121 \n",
      "Epoch 18/20\n",
      "\u001b[1m20/20\u001b[0m \u001b[32m━━━━━━━━━━━━━━━━━━━━\u001b[0m\u001b[37m\u001b[0m \u001b[1m0s\u001b[0m 3ms/step - accuracy: 0.8750 - loss: 0.3116\n",
      "Epoch 19/20\n",
      "\u001b[1m20/20\u001b[0m \u001b[32m━━━━━━━━━━━━━━━━━━━━\u001b[0m\u001b[37m\u001b[0m \u001b[1m0s\u001b[0m 3ms/step - accuracy: 0.8751 - loss: 0.3112\n",
      "Epoch 20/20\n",
      "\u001b[1m20/20\u001b[0m \u001b[32m━━━━━━━━━━━━━━━━━━━━\u001b[0m\u001b[37m\u001b[0m \u001b[1m0s\u001b[0m 4ms/step - accuracy: 0.8745 - loss: 0.3109\n"
     ]
    },
    {
     "data": {
      "text/plain": [
       "<keras.src.callbacks.history.History at 0x1e4f61d4b00>"
      ]
     },
     "execution_count": 24,
     "metadata": {},
     "output_type": "execute_result"
    }
   ],
   "source": [
    "# Establecer semillas aleatorias para NumPy\n",
    "#np.random.seed(64)\n",
    "\n",
    "# Establecer semillas aleatorias para TensorFlow\n",
    "#tf.random.set_seed(64)\n",
    "cifar10_model_avion_rana.fit(X_train_avion_rana, Y_train_avion_rana, epochs=20, batch_size=512)"
   ]
  },
  {
   "cell_type": "code",
   "execution_count": 25,
   "metadata": {},
   "outputs": [
    {
     "name": "stdout",
     "output_type": "stream",
     "text": [
      "\u001b[1m63/63\u001b[0m \u001b[32m━━━━━━━━━━━━━━━━━━━━\u001b[0m\u001b[37m\u001b[0m \u001b[1m0s\u001b[0m 1ms/step - accuracy: 0.8680 - loss: 0.3193\n"
     ]
    },
    {
     "data": {
      "text/plain": [
       "[0.30582547187805176, 0.875]"
      ]
     },
     "execution_count": 25,
     "metadata": {},
     "output_type": "execute_result"
    }
   ],
   "source": [
    "cifar10_model_avion_rana.evaluate(X_test_avion_rana,Y_test_avion_rana)"
   ]
  },
  {
   "cell_type": "code",
   "execution_count": 26,
   "metadata": {},
   "outputs": [
    {
     "name": "stdout",
     "output_type": "stream",
     "text": [
      "Capa: input_layer_1\n",
      "  No tiene pesos\n",
      "Capa: zero_padding2d_1\n",
      "  No tiene pesos\n",
      "Capa: conv2d_1\n",
      "  Pesos 0: (5, 5, 3, 2)\n",
      "  Pesos 1: (2,)\n",
      "Capa: re_lu_1\n",
      "  No tiene pesos\n",
      "Capa: max_pooling2d_1\n",
      "  No tiene pesos\n",
      "Capa: flatten_1\n",
      "  No tiene pesos\n",
      "Capa: dense_1\n",
      "  Pesos 0: (8, 1)\n",
      "  Pesos 1: (1,)\n"
     ]
    }
   ],
   "source": [
    "# Obtener los pesos y sesgos de cada capa\n",
    "for layer in cifar10_model_avion_rana.layers:\n",
    "    print(\"Capa:\", layer.name)\n",
    "    weights = layer.get_weights()\n",
    "    if weights:\n",
    "        for i, w in enumerate(weights):\n",
    "            print(\"  Pesos {}:\".format(i), w.shape)\n",
    "    else:\n",
    "        print(\"  No tiene pesos\")"
   ]
  },
  {
   "cell_type": "code",
   "execution_count": 27,
   "metadata": {},
   "outputs": [
    {
     "name": "stdout",
     "output_type": "stream",
     "text": [
      "Capa: input_layer_1\n",
      "  No tiene pesos\n",
      "Capa: zero_padding2d_1\n",
      "  No tiene pesos\n",
      "Capa: conv2d_1\n",
      "  Pesos 0:\n",
      "[[[[ 0.09489175  0.04248793]\n",
      "   [-0.21986748  0.11528973]\n",
      "   [-0.24822904 -0.3742617 ]]\n",
      "\n",
      "  [[ 0.07329325 -0.11831302]\n",
      "   [-0.25326914  0.12474958]\n",
      "   [ 0.15061736 -0.16324134]]\n",
      "\n",
      "  [[-0.12368644 -0.0648372 ]\n",
      "   [-0.15947312  0.28099555]\n",
      "   [ 0.3189046  -0.22454481]]\n",
      "\n",
      "  [[-0.11335918  0.0054663 ]\n",
      "   [ 0.00089992  0.03639586]\n",
      "   [ 0.22160986 -0.19432163]]\n",
      "\n",
      "  [[-0.3906514  -0.3769483 ]\n",
      "   [-0.00528557 -0.26289117]\n",
      "   [ 0.29670864 -0.12631798]]]\n",
      "\n",
      "\n",
      " [[[-0.33681348  0.09172825]\n",
      "   [-0.16081673  0.16581537]\n",
      "   [ 0.21905851 -0.2030355 ]]\n",
      "\n",
      "  [[-0.12047093 -0.09428693]\n",
      "   [ 0.07859353  0.27136704]\n",
      "   [ 0.16177057 -0.2805683 ]]\n",
      "\n",
      "  [[-0.22638658 -0.15526883]\n",
      "   [ 0.00447676  0.23780645]\n",
      "   [ 0.2707853   0.10154278]]\n",
      "\n",
      "  [[ 0.13845755 -0.03521867]\n",
      "   [-0.15917781  0.06448186]\n",
      "   [ 0.06919786 -0.12357824]]\n",
      "\n",
      "  [[-0.2633065  -0.04536554]\n",
      "   [ 0.00757756  0.02186956]\n",
      "   [ 0.35337114 -0.17318973]]]\n",
      "\n",
      "\n",
      " [[[-0.32449514  0.06089825]\n",
      "   [-0.2768228  -0.06625368]\n",
      "   [ 0.13441284 -0.5337396 ]]\n",
      "\n",
      "  [[-0.17792897 -0.1559745 ]\n",
      "   [ 0.00409142  0.15760529]\n",
      "   [ 0.22295132 -0.04370058]]\n",
      "\n",
      "  [[-0.3077016  -0.04098079]\n",
      "   [-0.43026984  0.25731266]\n",
      "   [ 0.05811    -0.15431277]]\n",
      "\n",
      "  [[-0.4372383   0.09040006]\n",
      "   [-0.3444037  -0.06323961]\n",
      "   [ 0.02473113 -0.25660056]]\n",
      "\n",
      "  [[-0.2881351   0.01242718]\n",
      "   [-0.28248078  0.23783052]\n",
      "   [ 0.35803086 -0.16657464]]]\n",
      "\n",
      "\n",
      " [[[-0.05804575  0.00711501]\n",
      "   [ 0.01488546  0.24578547]\n",
      "   [ 0.39147586 -0.15091969]]\n",
      "\n",
      "  [[-0.31675038  0.19726148]\n",
      "   [-0.32629105  0.32608947]\n",
      "   [ 0.2708882  -0.19835445]]\n",
      "\n",
      "  [[-0.05957465  0.0364049 ]\n",
      "   [-0.28470138  0.12870485]\n",
      "   [ 0.24116156  0.1734693 ]]\n",
      "\n",
      "  [[-0.16237864  0.04046809]\n",
      "   [ 0.01438711  0.02895509]\n",
      "   [ 0.44909263  0.18031833]]\n",
      "\n",
      "  [[-0.15939192 -0.29647723]\n",
      "   [-0.14163283  0.05136693]\n",
      "   [ 0.45244116 -0.25432113]]]\n",
      "\n",
      "\n",
      " [[[ 0.01999582  0.12084995]\n",
      "   [ 0.15531403  0.14061543]\n",
      "   [ 0.71433043 -0.4220831 ]]\n",
      "\n",
      "  [[-0.03899272  0.09635527]\n",
      "   [ 0.2530748   0.01453977]\n",
      "   [ 0.8604326  -0.13069625]]\n",
      "\n",
      "  [[-0.1314639  -0.1466163 ]\n",
      "   [ 0.08373588 -0.06187313]\n",
      "   [ 0.48046333 -0.38135704]]\n",
      "\n",
      "  [[-0.14356217  0.0256083 ]\n",
      "   [-0.28841525  0.1227772 ]\n",
      "   [ 0.36861995 -0.1222911 ]]\n",
      "\n",
      "  [[-0.03280048 -0.01518445]\n",
      "   [ 0.09268123  0.33670637]\n",
      "   [ 0.6638054  -0.12904158]]]]\n",
      "  Pesos 1:\n",
      "[0.7741744 1.0664568]\n",
      "Capa: re_lu_1\n",
      "  No tiene pesos\n",
      "Capa: max_pooling2d_1\n",
      "  No tiene pesos\n",
      "Capa: flatten_1\n",
      "  No tiene pesos\n",
      "Capa: dense_1\n",
      "  Pesos 0:\n",
      "[[ 0.512535  ]\n",
      " [-0.6046249 ]\n",
      " [ 0.61955935]\n",
      " [-0.6961213 ]\n",
      " [-0.03945307]\n",
      " [ 0.33706686]\n",
      " [-0.16652331]\n",
      " [ 0.01339718]]\n",
      "  Pesos 1:\n",
      "[0.29017198]\n"
     ]
    }
   ],
   "source": [
    "for layer in cifar10_model_avion_rana.layers:\n",
    "    print(\"Capa:\", layer.name)\n",
    "    weights = layer.get_weights()\n",
    "    if weights:\n",
    "        for i, w in enumerate(weights):\n",
    "            print(\"  Pesos {}:\".format(i))\n",
    "            print(w)\n",
    "    else:\n",
    "        print(\"  No tiene pesos\")"
   ]
  },
  {
   "cell_type": "code",
   "execution_count": 28,
   "metadata": {},
   "outputs": [
    {
     "data": {
      "text/plain": [
       "[array([[[[ 0.09489175,  0.04248793],\n",
       "          [-0.21986748,  0.11528973],\n",
       "          [-0.24822904, -0.3742617 ]],\n",
       " \n",
       "         [[ 0.07329325, -0.11831302],\n",
       "          [-0.25326914,  0.12474958],\n",
       "          [ 0.15061736, -0.16324134]],\n",
       " \n",
       "         [[-0.12368644, -0.0648372 ],\n",
       "          [-0.15947312,  0.28099555],\n",
       "          [ 0.3189046 , -0.22454481]],\n",
       " \n",
       "         [[-0.11335918,  0.0054663 ],\n",
       "          [ 0.00089992,  0.03639586],\n",
       "          [ 0.22160986, -0.19432163]],\n",
       " \n",
       "         [[-0.3906514 , -0.3769483 ],\n",
       "          [-0.00528557, -0.26289117],\n",
       "          [ 0.29670864, -0.12631798]]],\n",
       " \n",
       " \n",
       "        [[[-0.33681348,  0.09172825],\n",
       "          [-0.16081673,  0.16581537],\n",
       "          [ 0.21905851, -0.2030355 ]],\n",
       " \n",
       "         [[-0.12047093, -0.09428693],\n",
       "          [ 0.07859353,  0.27136704],\n",
       "          [ 0.16177057, -0.2805683 ]],\n",
       " \n",
       "         [[-0.22638658, -0.15526883],\n",
       "          [ 0.00447676,  0.23780645],\n",
       "          [ 0.2707853 ,  0.10154278]],\n",
       " \n",
       "         [[ 0.13845755, -0.03521867],\n",
       "          [-0.15917781,  0.06448186],\n",
       "          [ 0.06919786, -0.12357824]],\n",
       " \n",
       "         [[-0.2633065 , -0.04536554],\n",
       "          [ 0.00757756,  0.02186956],\n",
       "          [ 0.35337114, -0.17318973]]],\n",
       " \n",
       " \n",
       "        [[[-0.32449514,  0.06089825],\n",
       "          [-0.2768228 , -0.06625368],\n",
       "          [ 0.13441284, -0.5337396 ]],\n",
       " \n",
       "         [[-0.17792897, -0.1559745 ],\n",
       "          [ 0.00409142,  0.15760529],\n",
       "          [ 0.22295132, -0.04370058]],\n",
       " \n",
       "         [[-0.3077016 , -0.04098079],\n",
       "          [-0.43026984,  0.25731266],\n",
       "          [ 0.05811   , -0.15431277]],\n",
       " \n",
       "         [[-0.4372383 ,  0.09040006],\n",
       "          [-0.3444037 , -0.06323961],\n",
       "          [ 0.02473113, -0.25660056]],\n",
       " \n",
       "         [[-0.2881351 ,  0.01242718],\n",
       "          [-0.28248078,  0.23783052],\n",
       "          [ 0.35803086, -0.16657464]]],\n",
       " \n",
       " \n",
       "        [[[-0.05804575,  0.00711501],\n",
       "          [ 0.01488546,  0.24578547],\n",
       "          [ 0.39147586, -0.15091969]],\n",
       " \n",
       "         [[-0.31675038,  0.19726148],\n",
       "          [-0.32629105,  0.32608947],\n",
       "          [ 0.2708882 , -0.19835445]],\n",
       " \n",
       "         [[-0.05957465,  0.0364049 ],\n",
       "          [-0.28470138,  0.12870485],\n",
       "          [ 0.24116156,  0.1734693 ]],\n",
       " \n",
       "         [[-0.16237864,  0.04046809],\n",
       "          [ 0.01438711,  0.02895509],\n",
       "          [ 0.44909263,  0.18031833]],\n",
       " \n",
       "         [[-0.15939192, -0.29647723],\n",
       "          [-0.14163283,  0.05136693],\n",
       "          [ 0.45244116, -0.25432113]]],\n",
       " \n",
       " \n",
       "        [[[ 0.01999582,  0.12084995],\n",
       "          [ 0.15531403,  0.14061543],\n",
       "          [ 0.71433043, -0.4220831 ]],\n",
       " \n",
       "         [[-0.03899272,  0.09635527],\n",
       "          [ 0.2530748 ,  0.01453977],\n",
       "          [ 0.8604326 , -0.13069625]],\n",
       " \n",
       "         [[-0.1314639 , -0.1466163 ],\n",
       "          [ 0.08373588, -0.06187313],\n",
       "          [ 0.48046333, -0.38135704]],\n",
       " \n",
       "         [[-0.14356217,  0.0256083 ],\n",
       "          [-0.28841525,  0.1227772 ],\n",
       "          [ 0.36861995, -0.1222911 ]],\n",
       " \n",
       "         [[-0.03280048, -0.01518445],\n",
       "          [ 0.09268123,  0.33670637],\n",
       "          [ 0.6638054 , -0.12904158]]]], dtype=float32),\n",
       " array([0.7741744, 1.0664568], dtype=float32)]"
      ]
     },
     "execution_count": 28,
     "metadata": {},
     "output_type": "execute_result"
    }
   ],
   "source": [
    "conv_weights = cifar10_model_avion_rana.layers[2].get_weights()\n",
    "conv_weights\n"
   ]
  },
  {
   "cell_type": "code",
   "execution_count": 29,
   "metadata": {},
   "outputs": [
    {
     "data": {
      "text/plain": [
       "[array([[ 0.512535  ],\n",
       "        [-0.6046249 ],\n",
       "        [ 0.61955935],\n",
       "        [-0.6961213 ],\n",
       "        [-0.03945307],\n",
       "        [ 0.33706686],\n",
       "        [-0.16652331],\n",
       "        [ 0.01339718]], dtype=float32),\n",
       " array([0.29017198], dtype=float32)]"
      ]
     },
     "execution_count": 29,
     "metadata": {},
     "output_type": "execute_result"
    }
   ],
   "source": [
    "conv_weights = cifar10_model_avion_rana.layers[6].get_weights()\n",
    "conv_weights"
   ]
  },
  {
   "cell_type": "code",
   "execution_count": null,
   "metadata": {},
   "outputs": [],
   "source": []
  }
 ],
 "metadata": {
  "kernelspec": {
   "display_name": "Python 3 (ipykernel)",
   "language": "python",
   "name": "python3"
  },
  "language_info": {
   "codemirror_mode": {
    "name": "ipython",
    "version": 3
   },
   "file_extension": ".py",
   "mimetype": "text/x-python",
   "name": "python",
   "nbconvert_exporter": "python",
   "pygments_lexer": "ipython3",
   "version": "3.12.4"
  }
 },
 "nbformat": 4,
 "nbformat_minor": 4
}
