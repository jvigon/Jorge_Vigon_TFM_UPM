{
 "cells": [
  {
   "cell_type": "code",
   "execution_count": 1,
   "metadata": {},
   "outputs": [],
   "source": [
    "import math\n",
    "import numpy as np\n",
    "#import h5py\n",
    "import matplotlib.pyplot as plt\n",
    "#from matplotlib.pyplot import imread\n",
    "#import scipy\n",
    "#from PIL import Image\n",
    "#i#ort pandas as pd\n",
    "import tensorflow as tf\n",
    "import tensorflow.keras.layers as tfl\n",
    "from tensorflow.python.framework import ops\n",
    "#from cnn_utils import *\n",
    "from test_utils import summary, comparator\n",
    "\n",
    "%matplotlib inline\n",
    "np.random.seed(1)"
   ]
  },
  {
   "cell_type": "code",
   "execution_count": 2,
   "metadata": {},
   "outputs": [],
   "source": [
    "cifar10 = tf.keras.datasets.cifar10\n",
    "(X_train_orig, Y_train_orig), (X_test_orig, Y_test_orig) = cifar10.load_data()"
   ]
  },
  {
   "cell_type": "code",
   "execution_count": 3,
   "metadata": {},
   "outputs": [
    {
     "data": {
      "text/plain": [
       "(10000, 1)"
      ]
     },
     "execution_count": 3,
     "metadata": {},
     "output_type": "execute_result"
    }
   ],
   "source": [
    "Y_test_orig.shape"
   ]
  },
  {
   "cell_type": "code",
   "execution_count": 4,
   "metadata": {},
   "outputs": [],
   "source": [
    "# Normalize image vectors\n",
    "X_train = X_train_orig/255.\n",
    "X_test = X_test_orig/255.\n",
    "\n",
    "# Reshape\n",
    "Y_train = Y_train_orig\n",
    "Y_test = Y_test_orig"
   ]
  },
  {
   "cell_type": "code",
   "execution_count": null,
   "metadata": {},
   "outputs": [],
   "source": [
    "X_train = (X_train*2)-1\n",
    "X_test =(X_test*2)-1\n"
   ]
  },
  {
   "cell_type": "code",
   "execution_count": null,
   "metadata": {},
   "outputs": [],
   "source": [
    "X_train[0]"
   ]
  },
  {
   "cell_type": "code",
   "execution_count": null,
   "metadata": {},
   "outputs": [],
   "source": [
    "print (\"number of training examples = \" + str(X_train.shape[0]))\n",
    "print (\"number of test examples = \" + str(X_test.shape[0]))\n",
    "print (\"X_train shape: \" + str(X_train.shape))\n",
    "print (\"Y_train shape: \" + str(Y_train.shape)) #CONTIENE UN NUMERO CON LA CLASE DE LOS 5000 DE ENTRENAMIENTO\n",
    "print (\"X_test shape: \" + str(X_test.shape))\n",
    "print (\"Y_test shape: \" + str(Y_test.shape))"
   ]
  },
  {
   "cell_type": "code",
   "execution_count": null,
   "metadata": {},
   "outputs": [],
   "source": [
    "index = 124\n",
    "plt.imshow(X_train_orig[index]) #display sample training image\n",
    "plt.show()"
   ]
  },
  {
   "cell_type": "code",
   "execution_count": null,
   "metadata": {},
   "outputs": [],
   "source": [
    "# Obtener las clases únicas\n",
    "classes = np.unique(Y_train)\n",
    "\n",
    "# Imprimir las clases\n",
    "print(\"Clases del conjunto de datos CIFAR-10:\")\n",
    "for cls in classes:\n",
    "    print(cls)"
   ]
  },
  {
   "cell_type": "code",
   "execution_count": null,
   "metadata": {},
   "outputs": [],
   "source": [
    "# Definir las clases correspondientes a cada número de etiqueta\n",
    "class_names = ['avión', 'automóvil', 'pájaro', 'gato', 'ciervo',\n",
    "               'perro', 'rana', 'caballo', 'barco', 'camión']\n",
    "\n",
    "# Visualizar las clases asociadas con algunas imágenes\n",
    "num_images = 5\n",
    "fig, axes = plt.subplots(1, num_images, figsize=(15, 3))\n",
    "\n",
    "for i in range(num_images):\n",
    "    axes[i].imshow(X_train[i])\n",
    "    axes[i].set_title(class_names[Y_train[i][0]])\n",
    "    axes[i].axis('off')\n",
    "\n",
    "plt.show()"
   ]
  },
  {
   "cell_type": "code",
   "execution_count": null,
   "metadata": {},
   "outputs": [],
   "source": [
    "index = 3\n",
    "plt.imshow(X_train[index]) #display sample training image\n",
    "plt.show()"
   ]
  },
  {
   "cell_type": "code",
   "execution_count": null,
   "metadata": {},
   "outputs": [],
   "source": [
    "# Definir las clases que nos interesan (gato y perro) PARA HACERLO SOLO CON SIGMOID\n",
    "avion_class = 0  #AVION\n",
    "rana_class = 6  # RANA\n",
    "\n",
    "# Filtrar las imágenes y etiquetas para quedarnos solo con los gatos y perros\n",
    "avion_indices = (Y_train == avion_class).squeeze()\n",
    "rana_indices = (Y_train == rana_class).squeeze()\n",
    "avion_rana_indices = avion_indices | rana_indices\n",
    "\n",
    "X_train_avion_rana = X_train[avion_rana_indices]\n",
    "Y_train_avion_rana = Y_train[avion_rana_indices]\n",
    "\n",
    "# Verificar las dimensiones del nuevo conjunto de datos\n",
    "print(\"Dimensiones de X_train_cat_dog:\", X_train_avion_rana.shape)\n",
    "print(\"Dimensiones de Y_train_cat_dog:\", Y_train_avion_rana.shape)"
   ]
  },
  {
   "cell_type": "code",
   "execution_count": null,
   "metadata": {},
   "outputs": [],
   "source": [
    "# Definir las clases que nos interesan (gato y perro) PARA HACERLO SOLO CON SIGMOID\n",
    "avion_class = 0  #AVION\n",
    "rana_class = 6  # RANA\n",
    "\n",
    "# Filtrar las imágenes y etiquetas para quedarnos solo con los gatos y perros\n",
    "avion_indices = (Y_test == avion_class).squeeze()\n",
    "rana_indices = (Y_test == rana_class).squeeze()\n",
    "avion_rana_indices = avion_indices | rana_indices\n",
    "\n",
    "X_test_avion_rana = X_test[avion_rana_indices]\n",
    "Y_test_avion_rana = Y_test[avion_rana_indices]\n",
    "\n",
    "# Verificar las dimensiones del nuevo conjunto de datos\n",
    "print(\"Dimensiones de X_train_cat_dog:\", X_test_avion_rana.shape)\n",
    "print(\"Dimensiones de Y_train_cat_dog:\", Y_test_avion_rana.shape)"
   ]
  },
  {
   "cell_type": "code",
   "execution_count": null,
   "metadata": {},
   "outputs": [],
   "source": [
    "Y_train_avion_rana"
   ]
  },
  {
   "cell_type": "code",
   "execution_count": null,
   "metadata": {},
   "outputs": [],
   "source": [
    "Y_train_avion_rana= np.where(Y_train_avion_rana == rana_class, 0, 1) # 1 avion 0 rana\n",
    "Y_test_avion_rana = np.where(Y_test_avion_rana == rana_class, 0, 1)"
   ]
  },
  {
   "cell_type": "code",
   "execution_count": null,
   "metadata": {},
   "outputs": [],
   "source": [
    "Y_train_avion_rana"
   ]
  },
  {
   "cell_type": "code",
   "execution_count": null,
   "metadata": {},
   "outputs": [],
   "source": [
    "index = 65\n",
    "plt.imshow(X_train_avion_rana[index]) #display sample training image\n",
    "plt.title(Y_train_avion_rana[index])\n",
    "plt.show()\n",
    "index = 0\n",
    "plt.imshow(X_train_avion_rana[index]) #display sample training image\n",
    "plt.title(Y_train_avion_rana[index])\n",
    "plt.show()\n",
    "index = 530\n",
    "plt.imshow(X_train_avion_rana[index]) #display sample training image\n",
    "plt.title(Y_train_avion_rana[index])\n",
    "plt.show()\n",
    "index = 753\n",
    "plt.imshow(X_train_avion_rana[index]) #display sample training image\n",
    "plt.title(Y_train_avion_rana[index])\n",
    "plt.show()"
   ]
  },
  {
   "cell_type": "code",
   "execution_count": null,
   "metadata": {},
   "outputs": [],
   "source": [
    "index = 65\n",
    "plt.imshow(X_test_avion_rana[index]) #display sample training image\n",
    "plt.title(Y_test_avion_rana[index])\n",
    "plt.show()\n",
    "index = 0\n",
    "plt.imshow(X_test_avion_rana[index]) #display sample training image\n",
    "plt.title(Y_test_avion_rana[index])\n",
    "plt.show()\n",
    "index = 530\n",
    "plt.imshow(X_test_avion_rana[index]) #display sample training image\n",
    "plt.title(Y_test_avion_rana[index])\n",
    "plt.show()\n",
    "index = 753\n",
    "plt.imshow(X_test_avion_rana[index]) #display sample training image\n",
    "plt.title(Y_test_avion_rana[index])\n",
    "plt.show()"
   ]
  },
  {
   "cell_type": "code",
   "execution_count": null,
   "metadata": {},
   "outputs": [],
   "source": [
    "# GRADED FUNCTION: happyModel\n",
    "\n",
    "def ModelCifar10_S_Inicial():\n",
    "    \"\"\"\n",
    "    Implements the forward propagation for the binary classification model:\n",
    "    ZEROPAD2D -> CONV2D -> BATCHNORM -> RELU -> MAXPOOL -> FLATTEN -> DENSE\n",
    "    \n",
    "    Note that for simplicity and grading purposes, you'll hard-code all the values\n",
    "    such as the stride and kernel (filter) sizes. \n",
    "    Normally, functions should take these values as function parameters.\n",
    "    \n",
    "    Arguments:\n",
    "    None\n",
    "\n",
    "    Returns:\n",
    "    model -- TF Keras model (object containing the information for the entire training process) \n",
    "    \"\"\"\n",
    "    model = tf.keras.Sequential([\n",
    "\n",
    "            tfl.ZeroPadding2D(padding=(0, 0),input_shape=(32,32,3)),\n",
    "        \n",
    "\n",
    "            #tfl.Conv2D(filters=2, kernel_size=7, strides=(5,5), input_shape=[32, 32, 3]), # de (32+2*0-5)/9+1=3+1=4 (4,4,2)\n",
    "            tfl.Conv2D(filters=2, kernel_size=5, strides=(9,9), input_shape=[32, 32, 3]), # de (32+2*0-5)/9+1=3+1=4 (4,4,2)\n",
    "        \n",
    "\n",
    "            ## ReLU\n",
    "            tfl.ReLU(max_value=None, negative_slope=0.0, threshold=0.0),\n",
    "            ## Max Pooling 2D with default parameters\n",
    "        \n",
    "            tfl.MaxPool2D(pool_size=(2, 2), strides=None, padding='valid', data_format=None), #(2,2,2)\n",
    "            \n",
    "            ## Flatten layer\n",
    "        \n",
    "            tfl.Flatten(), #de 8\n",
    "            #tfl.Dense(5,activation=\"sigmoid\"),\n",
    "            #tfl.Dense(4,activation=\"sigmoid\"),\n",
    "            tfl.Dense(1,activation=\"sigmoid\")\n",
    "\n",
    "        ])\n",
    "    \n",
    "    return model"
   ]
  },
  {
   "cell_type": "code",
   "execution_count": null,
   "metadata": {},
   "outputs": [],
   "source": [
    "def ModelCifar10_Inicial():\n",
    "    # Establecer semillas aleatorias para NumPy\n",
    "    tf.random.set_seed(64)\n",
    "    # Define la entrada\n",
    "    input_layer = tf.keras.Input(shape=(32, 32, 3))\n",
    "\n",
    "    # Aplica el relleno, en este caso no se realiza padding\n",
    "    padded_input = tfl.ZeroPadding2D(padding=(0, 0))(input_layer)\n",
    "\n",
    "    # Aplica la convolución, 2 Filtros de tamaño 5x5x3 y un Stride de 9\n",
    "    conv_output = tfl.Conv2D(filters=2, kernel_size=5, strides=(9, 9))(padded_input)\n",
    "\n",
    "    # Aplica ReLU (mantiene valor si el valor es positivo, 0 en caso contrario)\n",
    "    relu_output = tfl.ReLU(max_value=None, negative_slope=0.0, threshold=0.0)(conv_output)\n",
    "\n",
    "    # Aplica MaxPooling 2x2\n",
    "    pooling_output = tfl.MaxPool2D(pool_size=(2, 2), strides=None, padding='valid', data_format=None)(relu_output)\n",
    "\n",
    "    # Aplana la salida, proceso flatten\n",
    "    flattened_output = tfl.Flatten()(pooling_output)\n",
    "\n",
    "    # Capa completamente conectada, con función de activación sigmoid ('0' RANA,'1' AVION)\n",
    "    dense_output = tfl.Dense(1, activation=\"sigmoid\")(flattened_output)\n",
    "\n",
    "    # Se crea modelo\n",
    "    model = tf.keras.Model(inputs=input_layer, outputs=dense_output)\n",
    "\n",
    "    return model\n",
    "\n"
   ]
  },
  {
   "cell_type": "code",
   "execution_count": null,
   "metadata": {},
   "outputs": [],
   "source": [
    "cifar10_model_avion_rana_S = ModelCifar10_S_Inicial()\n",
    "# Print a summary for each layer\n",
    "#for layer in summary(cifar10_model_avion_rana_S):\n",
    "#    print(layer)\n",
    "\n",
    "cifar10_model_avion_rana = ModelCifar10_Inicial()\n",
    "# Print a summary for each layer\n",
    "#for layer in summary(cifar10_model_avion_rana):\n",
    "#    print(layer)"
   ]
  },
  {
   "cell_type": "code",
   "execution_count": null,
   "metadata": {},
   "outputs": [],
   "source": [
    "from tensorflow.keras.optimizers import Adam\n",
    "#optimizer = Adam(learning_rate=0.0025) \n",
    "#optimizer = Adam(learning_rate=0.005)\n",
    "optimizer = Adam(learning_rate=0.01) \n",
    "cifar10_model_avion_rana.compile(optimizer=optimizer,\n",
    "                   loss='binary_crossentropy',\n",
    "                   metrics=['accuracy'])"
   ]
  },
  {
   "cell_type": "code",
   "execution_count": null,
   "metadata": {},
   "outputs": [],
   "source": [
    "cifar10_model_avion_rana.summary()"
   ]
  },
  {
   "cell_type": "code",
   "execution_count": null,
   "metadata": {},
   "outputs": [],
   "source": [
    "# Establecer semillas aleatorias para NumPy\n",
    "#np.random.seed(64)\n",
    "\n",
    "# Establecer semillas aleatorias para TensorFlow\n",
    "#tf.random.set_seed(64)\n",
    "cifar10_model_avion_rana.fit(X_train_avion_rana, Y_train_avion_rana, epochs=20, batch_size=512)"
   ]
  },
  {
   "cell_type": "code",
   "execution_count": null,
   "metadata": {},
   "outputs": [],
   "source": [
    "cifar10_model_avion_rana.evaluate(X_test_avion_rana,Y_test_avion_rana)"
   ]
  },
  {
   "cell_type": "code",
   "execution_count": null,
   "metadata": {},
   "outputs": [],
   "source": [
    "# Obtener los pesos y sesgos de cada capa\n",
    "for layer in cifar10_model_avion_rana.layers:\n",
    "    print(\"Capa:\", layer.name)\n",
    "    weights = layer.get_weights()\n",
    "    if weights:\n",
    "        for i, w in enumerate(weights):\n",
    "            print(\"  Pesos {}:\".format(i), w.shape)\n",
    "    else:\n",
    "        print(\"  No tiene pesos\")"
   ]
  },
  {
   "cell_type": "code",
   "execution_count": null,
   "metadata": {},
   "outputs": [],
   "source": [
    "for layer in cifar10_model_avion_rana.layers:\n",
    "    print(\"Capa:\", layer.name)\n",
    "    weights = layer.get_weights()\n",
    "    if weights:\n",
    "        for i, w in enumerate(weights):\n",
    "            print(\"  Pesos {}:\".format(i))\n",
    "            print(w)\n",
    "    else:\n",
    "        print(\"  No tiene pesos\")"
   ]
  },
  {
   "cell_type": "code",
   "execution_count": null,
   "metadata": {},
   "outputs": [],
   "source": [
    "conv_weights = cifar10_model_avion_rana.layers[2].get_weights()\n",
    "conv_weights\n"
   ]
  },
  {
   "cell_type": "code",
   "execution_count": null,
   "metadata": {},
   "outputs": [],
   "source": [
    "conv_weights = cifar10_model_avion_rana.layers[6].get_weights()\n",
    "conv_weights"
   ]
  },
  {
   "cell_type": "code",
   "execution_count": null,
   "metadata": {},
   "outputs": [],
   "source": []
  }
 ],
 "metadata": {
  "kernelspec": {
   "display_name": "Python 3 (ipykernel)",
   "language": "python",
   "name": "python3"
  },
  "language_info": {
   "codemirror_mode": {
    "name": "ipython",
    "version": 3
   },
   "file_extension": ".py",
   "mimetype": "text/x-python",
   "name": "python",
   "nbconvert_exporter": "python",
   "pygments_lexer": "ipython3",
   "version": "3.12.4"
  }
 },
 "nbformat": 4,
 "nbformat_minor": 4
}
